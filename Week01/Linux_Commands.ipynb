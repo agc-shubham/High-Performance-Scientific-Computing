{
 "cells": [
  {
   "cell_type": "markdown",
   "id": "72db05c3",
   "metadata": {},
   "source": [
    "## Know about your User and System"
   ]
  },
  {
   "cell_type": "code",
   "execution_count": 1,
   "id": "f0aa8f1a",
   "metadata": {},
   "outputs": [
    {
     "name": "stdout",
     "output_type": "stream",
     "text": [
      "shubham\n"
     ]
    }
   ],
   "source": [
    "### command to know your user\n",
    "!whoami\n"
   ]
  },
  {
   "cell_type": "code",
   "execution_count": 2,
   "id": "e7e2d720",
   "metadata": {},
   "outputs": [
    {
     "name": "stdout",
     "output_type": "stream",
     "text": [
      "Linux ubuntu20 5.15.0-139-generic #149~20.04.1-Ubuntu SMP Wed Apr 16 08:29:56 UTC 2025 x86_64 x86_64 x86_64 GNU/Linux\n"
     ]
    }
   ],
   "source": [
    "### command to know your System\n",
    "!uname -a"
   ]
  },
  {
   "cell_type": "code",
   "execution_count": 3,
   "id": "0dda12c0",
   "metadata": {},
   "outputs": [
    {
     "name": "stdout",
     "output_type": "stream",
     "text": [
      "Architecture:                         x86_64\n",
      "CPU op-mode(s):                       32-bit, 64-bit\n",
      "Byte Order:                           Little Endian\n",
      "Address sizes:                        39 bits physical, 48 bits virtual\n",
      "CPU(s):                               6\n",
      "On-line CPU(s) list:                  0-5\n",
      "Thread(s) per core:                   1\n",
      "Core(s) per socket:                   6\n",
      "Socket(s):                            1\n",
      "NUMA node(s):                         1\n",
      "Vendor ID:                            GenuineIntel\n",
      "CPU family:                           6\n",
      "Model:                                165\n",
      "Model name:                           Intel(R) Core(TM) i7-10750H CPU @ 2.60GHz\n",
      "Stepping:                             2\n",
      "CPU MHz:                              2592.006\n",
      "BogoMIPS:                             5184.01\n",
      "Hypervisor vendor:                    KVM\n",
      "Virtualization type:                  full\n",
      "L1d cache:                            192 KiB\n",
      "L1i cache:                            192 KiB\n",
      "L2 cache:                             1.5 MiB\n",
      "L3 cache:                             72 MiB\n",
      "NUMA node0 CPU(s):                    0-5\n",
      "Vulnerability Gather data sampling:   Not affected\n",
      "Vulnerability Itlb multihit:          Not affected\n",
      "Vulnerability L1tf:                   Not affected\n",
      "Vulnerability Mds:                    Not affected\n",
      "Vulnerability Meltdown:               Not affected\n",
      "Vulnerability Mmio stale data:        Vulnerable: Clear CPU buffers attempted, n\n",
      "                                      o microcode; SMT Host state unknown\n",
      "Vulnerability Reg file data sampling: Not affected\n",
      "Vulnerability Retbleed:               Mitigation; Enhanced IBRS\n",
      "Vulnerability Spec rstack overflow:   Not affected\n",
      "Vulnerability Spec store bypass:      Vulnerable\n",
      "Vulnerability Spectre v1:             Mitigation; usercopy/swapgs barriers and _\n",
      "                                      _user pointer sanitization\n",
      "Vulnerability Spectre v2:             Mitigation; Enhanced / Automatic IBRS; RSB\n",
      "                                       filling; PBRSB-eIBRS SW sequence; BHI SW \n",
      "                                      loop, KVM SW loop\n",
      "Vulnerability Srbds:                  Unknown: Dependent on hypervisor status\n",
      "Vulnerability Tsx async abort:        Not affected\n",
      "Flags:                                fpu vme de pse tsc msr pae mce cx8 apic se\n",
      "                                      p mtrr pge mca cmov pat pse36 clflush mmx \n",
      "                                      fxsr sse sse2 ht syscall nx rdtscp lm cons\n",
      "                                      tant_tsc rep_good nopl xtopology nonstop_t\n",
      "                                      sc cpuid tsc_known_freq pni pclmulqdq ssse\n",
      "                                      3 cx16 pcid sse4_1 sse4_2 movbe popcnt aes\n",
      "                                       rdrand hypervisor lahf_lm abm 3dnowprefet\n",
      "                                      ch invpcid_single ibrs_enhanced fsgsbase b\n",
      "                                      mi1 bmi2 invpcid rdseed clflushopt md_clea\n",
      "                                      r flush_l1d arch_capabilities\n"
     ]
    }
   ],
   "source": [
    "## Know more about your CPU\n",
    "!lscpu"
   ]
  },
  {
   "cell_type": "code",
   "execution_count": 5,
   "id": "b18754eb",
   "metadata": {},
   "outputs": [
    {
     "name": "stdout",
     "output_type": "stream",
     "text": [
      "              total        used        free      shared  buff/cache   available\n",
      "Mem:          7.8Gi       3.2Gi       1.3Gi       129Mi       3.2Gi       4.1Gi\n",
      "Swap:         2.0Gi          0B       2.0Gi\n"
     ]
    }
   ],
   "source": [
    "## Memory Space in your System, -h flag means human readable\n",
    "!free -h"
   ]
  },
  {
   "cell_type": "markdown",
   "id": "1ad3edff",
   "metadata": {},
   "source": [
    "## File and Directory Management Commands\n",
    "\n",
    "In Linux, a file is a collection of data that is stored on a disk or in memory.\n",
    "  * Text files, Binary files, Multimedia files etc.\n",
    "\n",
    "A directory is a special file that contains references to other files and directories.\n",
    "  * It's like a folder that organizes files into a hierarchy."
   ]
  },
  {
   "cell_type": "code",
   "execution_count": 7,
   "id": "80a66a09",
   "metadata": {},
   "outputs": [
    {
     "name": "stdout",
     "output_type": "stream",
     "text": [
      "/home/shubham/High-Performance-Scientific-Computing/Week01\n"
     ]
    }
   ],
   "source": [
    "## my current working directory\n",
    "!pwd"
   ]
  },
  {
   "cell_type": "code",
   "execution_count": 11,
   "id": "7477ed54",
   "metadata": {},
   "outputs": [
    {
     "name": "stdout",
     "output_type": "stream",
     "text": [
      "total 16\n",
      "drwxrwxr-x 3 shubham shubham 4096 Jul 29 21:49 .\n",
      "drwxrwxr-x 4 shubham shubham 4096 Jul 29 21:40 ..\n",
      "drwxrwxr-x 2 shubham shubham 4096 Jul 29 21:49 .ipynb_checkpoints\n",
      "-rw-rw-r-- 1 shubham shubham 1562 Jul 29 21:50 Linux_Commands.ipynb\n"
     ]
    }
   ],
   "source": [
    "## see content of working directory, flags -l long format, -a all information\n",
    "!ls -la"
   ]
  },
  {
   "cell_type": "code",
   "execution_count": 21,
   "id": "eec61f39",
   "metadata": {},
   "outputs": [],
   "source": [
    "## Change directory\n",
    "!cd ../Week02\n"
   ]
  },
  {
   "cell_type": "code",
   "execution_count": 23,
   "id": "409b1c9c",
   "metadata": {},
   "outputs": [],
   "source": [
    "## Creating new directory\n",
    "!mkdir TestDir"
   ]
  },
  {
   "cell_type": "code",
   "execution_count": 24,
   "id": "c77aee75",
   "metadata": {},
   "outputs": [],
   "source": [
    "## deleting a directory\n",
    "!rmdir TestDir"
   ]
  },
  {
   "cell_type": "code",
   "execution_count": 27,
   "id": "e8d00d2c",
   "metadata": {},
   "outputs": [],
   "source": [
    "## Rename a directory / Moving a Directory\n",
    "!mkdir TestDir Child\n",
    "!mv TestDir Test\n",
    "!mv Child Test"
   ]
  },
  {
   "cell_type": "code",
   "execution_count": null,
   "id": "b805a83b",
   "metadata": {},
   "outputs": [],
   "source": []
  }
 ],
 "metadata": {
  "kernelspec": {
   "display_name": "Python 3.8.10 64-bit",
   "language": "python",
   "name": "python3"
  },
  "language_info": {
   "codemirror_mode": {
    "name": "ipython",
    "version": 3
   },
   "file_extension": ".py",
   "mimetype": "text/x-python",
   "name": "python",
   "nbconvert_exporter": "python",
   "pygments_lexer": "ipython3",
   "version": "3.8.10"
  },
  "vscode": {
   "interpreter": {
    "hash": "916dbcbb3f70747c44a77c7bcd40155683ae19c65e1c03b4aa3499c5328201f1"
   }
  }
 },
 "nbformat": 4,
 "nbformat_minor": 5
}
