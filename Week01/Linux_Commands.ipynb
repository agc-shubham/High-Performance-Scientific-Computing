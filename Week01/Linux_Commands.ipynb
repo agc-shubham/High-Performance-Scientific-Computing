{
 "cells": [
  {
   "cell_type": "markdown",
   "id": "72db05c3",
   "metadata": {},
   "source": [
    "## Know about your User and System"
   ]
  },
  {
   "cell_type": "code",
   "execution_count": 1,
   "id": "f0aa8f1a",
   "metadata": {},
   "outputs": [
    {
     "name": "stdout",
     "output_type": "stream",
     "text": [
      "shubham\n"
     ]
    }
   ],
   "source": [
    "### command to know your user\n",
    "!whoami\n"
   ]
  },
  {
   "cell_type": "code",
   "execution_count": 2,
   "id": "e7e2d720",
   "metadata": {},
   "outputs": [
    {
     "name": "stdout",
     "output_type": "stream",
     "text": [
      "Linux ubuntu20 5.15.0-139-generic #149~20.04.1-Ubuntu SMP Wed Apr 16 08:29:56 UTC 2025 x86_64 x86_64 x86_64 GNU/Linux\n"
     ]
    }
   ],
   "source": [
    "### command to know your System\n",
    "!uname -a"
   ]
  },
  {
   "cell_type": "code",
   "execution_count": 3,
   "id": "0dda12c0",
   "metadata": {},
   "outputs": [
    {
     "name": "stdout",
     "output_type": "stream",
     "text": [
      "Architecture:                         x86_64\n",
      "CPU op-mode(s):                       32-bit, 64-bit\n",
      "Byte Order:                           Little Endian\n",
      "Address sizes:                        39 bits physical, 48 bits virtual\n",
      "CPU(s):                               6\n",
      "On-line CPU(s) list:                  0-5\n",
      "Thread(s) per core:                   1\n",
      "Core(s) per socket:                   6\n",
      "Socket(s):                            1\n",
      "NUMA node(s):                         1\n",
      "Vendor ID:                            GenuineIntel\n",
      "CPU family:                           6\n",
      "Model:                                165\n",
      "Model name:                           Intel(R) Core(TM) i7-10750H CPU @ 2.60GHz\n",
      "Stepping:                             2\n",
      "CPU MHz:                              2592.006\n",
      "BogoMIPS:                             5184.01\n",
      "Hypervisor vendor:                    KVM\n",
      "Virtualization type:                  full\n",
      "L1d cache:                            192 KiB\n",
      "L1i cache:                            192 KiB\n",
      "L2 cache:                             1.5 MiB\n",
      "L3 cache:                             72 MiB\n",
      "NUMA node0 CPU(s):                    0-5\n",
      "Vulnerability Gather data sampling:   Not affected\n",
      "Vulnerability Itlb multihit:          Not affected\n",
      "Vulnerability L1tf:                   Not affected\n",
      "Vulnerability Mds:                    Not affected\n",
      "Vulnerability Meltdown:               Not affected\n",
      "Vulnerability Mmio stale data:        Vulnerable: Clear CPU buffers attempted, n\n",
      "                                      o microcode; SMT Host state unknown\n",
      "Vulnerability Reg file data sampling: Not affected\n",
      "Vulnerability Retbleed:               Mitigation; Enhanced IBRS\n",
      "Vulnerability Spec rstack overflow:   Not affected\n",
      "Vulnerability Spec store bypass:      Vulnerable\n",
      "Vulnerability Spectre v1:             Mitigation; usercopy/swapgs barriers and _\n",
      "                                      _user pointer sanitization\n",
      "Vulnerability Spectre v2:             Mitigation; Enhanced / Automatic IBRS; RSB\n",
      "                                       filling; PBRSB-eIBRS SW sequence; BHI SW \n",
      "                                      loop, KVM SW loop\n",
      "Vulnerability Srbds:                  Unknown: Dependent on hypervisor status\n",
      "Vulnerability Tsx async abort:        Not affected\n",
      "Flags:                                fpu vme de pse tsc msr pae mce cx8 apic se\n",
      "                                      p mtrr pge mca cmov pat pse36 clflush mmx \n",
      "                                      fxsr sse sse2 ht syscall nx rdtscp lm cons\n",
      "                                      tant_tsc rep_good nopl xtopology nonstop_t\n",
      "                                      sc cpuid tsc_known_freq pni pclmulqdq ssse\n",
      "                                      3 cx16 pcid sse4_1 sse4_2 movbe popcnt aes\n",
      "                                       rdrand hypervisor lahf_lm abm 3dnowprefet\n",
      "                                      ch invpcid_single ibrs_enhanced fsgsbase b\n",
      "                                      mi1 bmi2 invpcid rdseed clflushopt md_clea\n",
      "                                      r flush_l1d arch_capabilities\n"
     ]
    }
   ],
   "source": [
    "## Know more about your CPU\n",
    "!lscpu"
   ]
  },
  {
   "cell_type": "code",
   "execution_count": 5,
   "id": "b18754eb",
   "metadata": {},
   "outputs": [
    {
     "name": "stdout",
     "output_type": "stream",
     "text": [
      "              total        used        free      shared  buff/cache   available\n",
      "Mem:          7.8Gi       3.2Gi       1.3Gi       129Mi       3.2Gi       4.1Gi\n",
      "Swap:         2.0Gi          0B       2.0Gi\n"
     ]
    }
   ],
   "source": [
    "## Memory Space in your System, -h flag means human readable\n",
    "!free -h"
   ]
  },
  {
   "cell_type": "markdown",
   "id": "1ad3edff",
   "metadata": {},
   "source": [
    "## File and Directory Management Commands\n",
    "\n",
    "In Linux, a file is a collection of data that is stored on a disk or in memory.\n",
    "  * Text files, Binary files, Multimedia files etc.\n",
    "\n",
    "A directory is a special file that contains references to other files and directories.\n",
    "  * It's like a folder that organizes files into a hierarchy."
   ]
  },
  {
   "cell_type": "code",
   "execution_count": 7,
   "id": "80a66a09",
   "metadata": {},
   "outputs": [
    {
     "name": "stdout",
     "output_type": "stream",
     "text": [
      "/home/shubham/High-Performance-Scientific-Computing/Week01\n"
     ]
    }
   ],
   "source": [
    "## my current working directory\n",
    "!pwd"
   ]
  },
  {
   "cell_type": "code",
   "execution_count": 11,
   "id": "7477ed54",
   "metadata": {},
   "outputs": [
    {
     "name": "stdout",
     "output_type": "stream",
     "text": [
      "total 16\n",
      "drwxrwxr-x 3 shubham shubham 4096 Jul 29 21:49 .\n",
      "drwxrwxr-x 4 shubham shubham 4096 Jul 29 21:40 ..\n",
      "drwxrwxr-x 2 shubham shubham 4096 Jul 29 21:49 .ipynb_checkpoints\n",
      "-rw-rw-r-- 1 shubham shubham 1562 Jul 29 21:50 Linux_Commands.ipynb\n"
     ]
    }
   ],
   "source": [
    "## see content of working directory, flags -l long format, -a all information\n",
    "!ls -la"
   ]
  },
  {
   "cell_type": "code",
   "execution_count": 21,
   "id": "eec61f39",
   "metadata": {},
   "outputs": [],
   "source": [
    "## Change directory\n",
    "!cd ../Week02\n"
   ]
  },
  {
   "cell_type": "code",
   "execution_count": 23,
   "id": "409b1c9c",
   "metadata": {},
   "outputs": [],
   "source": [
    "## Creating new directory\n",
    "!mkdir TestDir"
   ]
  },
  {
   "cell_type": "code",
   "execution_count": 24,
   "id": "c77aee75",
   "metadata": {},
   "outputs": [],
   "source": [
    "## deleting a directory\n",
    "!rmdir TestDir"
   ]
  },
  {
   "cell_type": "code",
   "execution_count": 27,
   "id": "e8d00d2c",
   "metadata": {},
   "outputs": [],
   "source": [
    "## Rename a directory / Moving a Directory\n",
    "!mkdir TestDir Child\n",
    "!mv TestDir Test\n",
    "!mv Child Test"
   ]
  },
  {
   "cell_type": "markdown",
   "id": "732f1440",
   "metadata": {},
   "source": [
    "## File Permissions and ownership in Linux"
   ]
  },
  {
   "cell_type": "code",
   "execution_count": 3,
   "id": "b805a83b",
   "metadata": {},
   "outputs": [],
   "source": [
    "## Create empty file\n",
    "!touch filename\n",
    "## Create file with content, cli way\n",
    "!vim filename\n",
    "## Create file with content, cli way\n",
    "!gedit test.txt"
   ]
  },
  {
   "cell_type": "code",
   "execution_count": null,
   "id": "1535cf95",
   "metadata": {},
   "outputs": [],
   "source": [
    "## Delete files and directories\n",
    "## Delete a file\n",
    "!rm test.txt\n",
    "## Delete a directory with contents, -r flag denotes deletion recursively\n",
    "!rm -r TestDir "
   ]
  },
  {
   "cell_type": "code",
   "execution_count": null,
   "id": "5f3dba83",
   "metadata": {},
   "outputs": [],
   "source": [
    "## Display the contents of a file on terminal\n",
    "!cat filename\n",
    "!cat filename1 filename2\n",
    "\n",
    "## forwarding operator \">\"\n",
    "## create file with cat operation\n",
    "!cat filename1 filename2 > filename3\n",
    "## append with \">>\" operator\n",
    "!cat filename1 filename2 >> filename3\n",
    "## copy contents of file\n",
    "!cp filename3 filename4\n",
    "## Copy recursively with -r flag\n",
    "!cp -r TestDir1 TestDir2"
   ]
  },
  {
   "cell_type": "markdown",
   "id": "b9d49ec9",
   "metadata": {},
   "source": [
    "File Permission are defined for three category of users:\n",
    "* Owner(User)\n",
    "* Group\n",
    "* Others"
   ]
  },
  {
   "cell_type": "markdown",
   "id": "44d31296",
   "metadata": {},
   "source": [
    "Three kinds of permissions:\n",
    "* Read\n",
    "* Write\n",
    "* Execute"
   ]
  },
  {
   "cell_type": "markdown",
   "id": "f154b10e",
   "metadata": {},
   "source": [
    "File permission structure: 10 Character format\n",
    "* ex: - rwx r-x r--\n",
    "* First character d : directory, - : file, 2nd to 4th characters: user permissions, 5th to 7th characters: group permissions, 8th to 10th characters: others/all permissions\n"
   ]
  },
  {
   "cell_type": "markdown",
   "id": "c5004046",
   "metadata": {},
   "source": [
    "Changing Permissions:\n",
    "* Symbolic\n",
    "    * r = read, w = write, x = execute\n",
    "    * u = user, g = group, o = others, a = all\n",
    "* Octal\n",
    "    * read = 4, write = 2, execute = 1\n",
    "    * Add values for each category to assign permission"
   ]
  },
  {
   "cell_type": "markdown",
   "id": "150d4981",
   "metadata": {},
   "source": [
    "Ex:\n",
    "* Symbolic\n",
    "    * chmod u+x file.txt # adds execute permission to owner/user\n",
    "    * chmod g-w file.txt # removes write permission to group"
   ]
  },
  {
   "cell_type": "markdown",
   "id": "5abe347f",
   "metadata": {},
   "source": [
    "Ex:\n",
    "* Octal\n",
    "    * chmod 755 file.txt #rwxr-xr-x (owner:read, write, execute; group:read, execute ;others:read, execute)"
   ]
  },
  {
   "cell_type": "markdown",
   "id": "370683c6",
   "metadata": {},
   "source": [
    "### Changing Ownership of file.\n",
    "\n",
    "chown owner:group file"
   ]
  },
  {
   "cell_type": "code",
   "execution_count": 4,
   "id": "17aa7cd9",
   "metadata": {},
   "outputs": [
    {
     "name": "stdout",
     "output_type": "stream",
     "text": [
      "total 28\n",
      "drwxrwxr-x 4 shubham shubham 4096 Jul 30 08:22 .\n",
      "drwxrwxr-x 5 shubham shubham 4096 Jul 29 22:21 ..\n",
      "drwxrwxr-x 2 shubham shubham 4096 Jul 30 08:22 .ipynb_checkpoints\n",
      "-rw-rw-r-- 1 shubham shubham 8958 Jul 30 08:42 Linux_Commands.ipynb\n",
      "drwxrwxr-x 3 shubham shubham 4096 Jul 29 22:27 Test\n"
     ]
    }
   ],
   "source": [
    "!ls -la"
   ]
  },
  {
   "cell_type": "code",
   "execution_count": 5,
   "id": "d4f4de78",
   "metadata": {},
   "outputs": [],
   "source": [
    "!chmod 777 Linux_Commands.ipynb"
   ]
  },
  {
   "cell_type": "code",
   "execution_count": 7,
   "id": "410b38dc",
   "metadata": {},
   "outputs": [
    {
     "name": "stdout",
     "output_type": "stream",
     "text": [
      "total 28\n",
      "drwxrwxr-x 4 shubham shubham 4096 Jul 30 08:22 .\n",
      "drwxrwxr-x 5 shubham shubham 4096 Jul 29 22:21 ..\n",
      "drwxrwxr-x 2 shubham shubham 4096 Jul 30 08:22 .ipynb_checkpoints\n",
      "-rwxrwxrwx 1 shubham shubham 8958 Jul 30 08:42 Linux_Commands.ipynb\n",
      "drwxrwxr-x 3 shubham shubham 4096 Jul 29 22:27 Test\n"
     ]
    }
   ],
   "source": [
    "!ls -la"
   ]
  },
  {
   "cell_type": "code",
   "execution_count": 8,
   "id": "91196e5a",
   "metadata": {},
   "outputs": [],
   "source": [
    "!chmod a+w Test"
   ]
  },
  {
   "cell_type": "code",
   "execution_count": 9,
   "id": "350b25d0",
   "metadata": {},
   "outputs": [
    {
     "name": "stdout",
     "output_type": "stream",
     "text": [
      "total 28\n",
      "drwxrwxr-x 4 shubham shubham 4096 Jul 30 08:22 .\n",
      "drwxrwxr-x 5 shubham shubham 4096 Jul 29 22:21 ..\n",
      "drwxrwxr-x 2 shubham shubham 4096 Jul 30 08:22 .ipynb_checkpoints\n",
      "-rwxrwxrwx 1 shubham shubham 8958 Jul 30 08:42 Linux_Commands.ipynb\n",
      "drwxrwxrwx 3 shubham shubham 4096 Jul 29 22:27 Test\n"
     ]
    }
   ],
   "source": [
    "!ls -la"
   ]
  },
  {
   "cell_type": "markdown",
   "id": "96fc9f98",
   "metadata": {},
   "source": [
    "## Linux Process management"
   ]
  },
  {
   "cell_type": "markdown",
   "id": "3e5feeec",
   "metadata": {},
   "source": [
    "### Process\n",
    "\n",
    "* Linux process management involves the creation, monitoring, and control of the processes.\n",
    "* <b><u>What is a Process?</u></b> -  A process is an executing instance of a program.\n",
    "* Each process in Linux has:\n",
    "    * Process ID (PID), Parent Process ID (PPID), User ID (UID), State"
   ]
  },
  {
   "cell_type": "markdown",
   "id": "9ce03c9b",
   "metadata": {},
   "source": [
    "### Types of Process in Linux\n",
    "\n",
    "* Background Processes\n",
    "<br/>\n",
    "These processes run in the background, allowing the terminal to be used for other tasks.\n",
    "<br/>\n",
    "        To run a process in the background: <b><u>&</u></b>\n",
    "\n",
    "* Foreground Processes\n",
    "<br/>\n",
    "        These processes run directly from the terminal and occupy it until they finish execution.\n",
    "        <br/>\n",
    "        To bring a background job to the forground: <b><u>fg</u></b>"
   ]
  },
  {
   "cell_type": "code",
   "execution_count": null,
   "id": "f027912b",
   "metadata": {},
   "outputs": [],
   "source": [
    "## Run a process in background using &\n",
    "!sleep 100 &"
   ]
  },
  {
   "cell_type": "code",
   "execution_count": null,
   "id": "dce536b6",
   "metadata": {},
   "outputs": [],
   "source": [
    "## Background process can be brought to foreground using fg command follwed by %process_number\n",
    "!fg %1"
   ]
  },
  {
   "cell_type": "markdown",
   "id": "9f49c704",
   "metadata": {},
   "source": [
    "### Process States\n",
    "\n",
    "* Process in Linux can be in Various states:\n",
    "    * <b><u>Running (R)</u></b> : The process is either running or ready to run.\n",
    "    * <b><u>Sleeping (S)</u></b> : The process is waiting for some event (like I/O) to complete.\n",
    "    * <b><u>Stopped (T)</u></b> : The process has been stopped, usually by a signal like SIGSTOP.\n",
    "    * <b><u>Zombie (Z)</u></b> : The process has finished execution but still has an entry in the process table, awaiting cleanup by its parent."
   ]
  },
  {
   "cell_type": "code",
   "execution_count": 12,
   "id": "e3c2b773",
   "metadata": {},
   "outputs": [
    {
     "name": "stdout",
     "output_type": "stream",
     "text": [
      "UID          PID    PPID  C STIME TTY          TIME CMD\n",
      "root           1       0  0 08:21 ?        00:00:02 /sbin/init splash\n",
      "root           2       0  0 08:21 ?        00:00:00 [kthreadd]\n",
      "root           3       2  0 08:21 ?        00:00:00 [rcu_gp]\n",
      "root           4       2  0 08:21 ?        00:00:00 [rcu_par_gp]\n",
      "root           5       2  0 08:21 ?        00:00:00 [slub_flushwq]\n",
      "root           6       2  0 08:21 ?        00:00:00 [netns]\n",
      "root           8       2  0 08:21 ?        00:00:00 [kworker/0:0H-events_highpri\n",
      "root          10       2  0 08:21 ?        00:00:00 [mm_percpu_wq]\n",
      "root          11       2  0 08:21 ?        00:00:00 [rcu_tasks_rude_]\n",
      "root          12       2  0 08:21 ?        00:00:00 [rcu_tasks_trace]\n",
      "root          13       2  0 08:21 ?        00:00:00 [ksoftirqd/0]\n",
      "root          14       2  0 08:21 ?        00:00:03 [rcu_sched]\n",
      "root          15       2  0 08:21 ?        00:00:00 [migration/0]\n",
      "root          16       2  0 08:21 ?        00:00:00 [idle_inject/0]\n",
      "root          17       2  0 08:21 ?        00:00:03 [kworker/0:1-events]\n",
      "root          18       2  0 08:21 ?        00:00:00 [cpuhp/0]\n",
      "root          19       2  0 08:21 ?        00:00:00 [cpuhp/1]\n",
      "root          20       2  0 08:21 ?        00:00:00 [idle_inject/1]\n",
      "root          21       2  0 08:21 ?        00:00:01 [migration/1]\n",
      "root          22       2  0 08:21 ?        00:00:00 [ksoftirqd/1]\n",
      "root          24       2  0 08:21 ?        00:00:00 [kworker/1:0H-events_highpri\n",
      "root          25       2  0 08:21 ?        00:00:00 [cpuhp/2]\n",
      "root          26       2  0 08:21 ?        00:00:00 [idle_inject/2]\n",
      "root          27       2  0 08:21 ?        00:00:01 [migration/2]\n",
      "root          28       2  0 08:21 ?        00:00:00 [ksoftirqd/2]\n",
      "root          30       2  0 08:21 ?        00:00:00 [kworker/2:0H-events_highpri\n",
      "root          31       2  0 08:21 ?        00:00:00 [cpuhp/3]\n",
      "root          32       2  0 08:21 ?        00:00:00 [idle_inject/3]\n",
      "root          33       2  0 08:21 ?        00:00:01 [migration/3]\n",
      "root          34       2  0 08:21 ?        00:00:00 [ksoftirqd/3]\n",
      "root          36       2  0 08:21 ?        00:00:00 [kworker/3:0H-kblockd]\n",
      "root          37       2  0 08:21 ?        00:00:00 [cpuhp/4]\n",
      "root          38       2  0 08:21 ?        00:00:00 [idle_inject/4]\n",
      "root          39       2  0 08:21 ?        00:00:00 [migration/4]\n",
      "root          40       2  0 08:21 ?        00:00:00 [ksoftirqd/4]\n",
      "root          42       2  0 08:21 ?        00:00:00 [kworker/4:0H-events_highpri\n",
      "root          43       2  0 08:21 ?        00:00:00 [cpuhp/5]\n",
      "root          44       2  0 08:21 ?        00:00:00 [idle_inject/5]\n",
      "root          45       2  0 08:21 ?        00:00:01 [migration/5]\n",
      "root          46       2  0 08:21 ?        00:00:03 [ksoftirqd/5]\n",
      "root          48       2  0 08:21 ?        00:00:00 [kworker/5:0H-kblockd]\n",
      "root          49       2  0 08:21 ?        00:00:00 [kdevtmpfs]\n",
      "root          50       2  0 08:21 ?        00:00:00 [inet_frag_wq]\n",
      "root          51       2  0 08:21 ?        00:00:00 [kauditd]\n",
      "root          52       2  0 08:21 ?        00:00:00 [khungtaskd]\n",
      "root          53       2  0 08:21 ?        00:00:00 [oom_reaper]\n",
      "root          54       2  0 08:21 ?        00:00:00 [writeback]\n",
      "root          55       2  0 08:21 ?        00:00:00 [kcompactd0]\n",
      "root          56       2  0 08:21 ?        00:00:00 [ksmd]\n",
      "root          57       2  0 08:21 ?        00:00:00 [khugepaged]\n",
      "root          67       2  0 08:21 ?        00:00:05 [kworker/4:1-events]\n",
      "root          71       2  0 08:21 ?        00:00:01 [kworker/5:1-events]\n",
      "root          84       2  0 08:21 ?        00:00:01 [kworker/2:1-mm_percpu_wq]\n",
      "root         106       2  0 08:21 ?        00:00:00 [kintegrityd]\n",
      "root         107       2  0 08:21 ?        00:00:00 [kblockd]\n",
      "root         108       2  0 08:21 ?        00:00:00 [blkcg_punt_bio]\n",
      "root         109       2  0 08:21 ?        00:00:00 [tpm_dev_wq]\n",
      "root         110       2  0 08:21 ?        00:00:00 [ata_sff]\n",
      "root         111       2  0 08:21 ?        00:00:00 [md]\n",
      "root         112       2  0 08:21 ?        00:00:00 [edac-poller]\n",
      "root         113       2  0 08:21 ?        00:00:00 [devfreq_wq]\n",
      "root         114       2  0 08:21 ?        00:00:00 [watchdogd]\n",
      "root         116       2  0 08:21 ?        00:00:00 [kworker/0:1H-kblockd]\n",
      "root         118       2  0 08:21 ?        00:00:00 [kswapd0]\n",
      "root         119       2  0 08:21 ?        00:00:00 [ecryptfs-kthrea]\n",
      "root         121       2  0 08:21 ?        00:00:00 [kthrotld]\n",
      "root         122       2  0 08:21 ?        00:00:00 [acpi_thermal_pm]\n",
      "root         124       2  0 08:21 ?        00:00:02 [kworker/3:1-events]\n",
      "root         125       2  0 08:21 ?        00:00:00 [scsi_eh_0]\n",
      "root         126       2  0 08:21 ?        00:00:00 [scsi_tmf_0]\n",
      "root         127       2  0 08:21 ?        00:00:00 [scsi_eh_1]\n",
      "root         128       2  0 08:21 ?        00:00:00 [scsi_tmf_1]\n",
      "root         130       2  0 08:21 ?        00:00:00 [vfio-irqfd-clea]\n",
      "root         131       2  0 08:21 ?        00:00:00 [mld]\n",
      "root         132       2  0 08:21 ?        00:00:00 [ipv6_addrconf]\n",
      "root         133       2  0 08:21 ?        00:00:01 [kworker/2:1H-kblockd]\n",
      "root         137       2  0 08:21 ?        00:00:00 [kworker/3:1H-kblockd]\n",
      "root         143       2  0 08:21 ?        00:00:02 [kworker/1:1-ata_sff]\n",
      "root         147       2  0 08:21 ?        00:00:00 [kstrp]\n",
      "root         150       2  0 08:21 ?        00:00:00 [zswap-shrink]\n",
      "root         151       2  0 08:21 ?        00:00:00 [kworker/u13:0]\n",
      "root         156       2  0 08:21 ?        00:00:00 [charger_manager]\n",
      "root         179       2  0 08:21 ?        00:00:00 [kworker/4:1H-kblockd]\n",
      "root         209       2  0 08:21 ?        00:00:00 [kworker/1:1H-kblockd]\n",
      "root         210       2  0 08:21 ?        00:00:00 [kworker/1:2-cgroup_destroy]\n",
      "root         212       2  0 08:21 ?        00:00:00 [scsi_eh_2]\n",
      "root         213       2  0 08:21 ?        00:00:00 [scsi_tmf_2]\n",
      "root         238       2  0 08:21 ?        00:00:00 [kworker/5:1H-kblockd]\n",
      "root         239       2  0 08:21 ?        00:00:00 [jbd2/sda5-8]\n",
      "root         240       2  0 08:21 ?        00:00:00 [ext4-rsv-conver]\n",
      "root         280       1  0 08:21 ?        00:00:01 /lib/systemd/systemd-journal\n",
      "root         313       2  0 08:21 ?        00:00:00 [ipmi-msghandler]\n",
      "root         322       1  0 08:21 ?        00:00:00 /lib/systemd/systemd-udevd\n",
      "root         386       2  0 08:21 ?        00:00:03 [kworker/u12:8-events_freeza\n",
      "root         398       2  0 08:21 ?        00:00:00 [cryptd]\n",
      "root         404       2  0 08:21 ?        00:00:00 [ttm_swap]\n",
      "root         430       2  0 08:21 ?        00:00:01 [irq/18-vmwgfx]\n",
      "root         431       2  0 08:21 ?        00:00:00 [card0-crtc0]\n",
      "root         432       2  0 08:21 ?        00:00:00 [card0-crtc1]\n",
      "root         433       2  0 08:21 ?        00:00:00 [card0-crtc2]\n",
      "root         435       2  0 08:21 ?        00:00:00 [card0-crtc3]\n",
      "root         438       2  0 08:21 ?        00:00:00 [card0-crtc4]\n",
      "root         440       2  0 08:21 ?        00:00:00 [card0-crtc5]\n",
      "root         441       2  0 08:21 ?        00:00:00 [card0-crtc6]\n",
      "root         443       2  0 08:21 ?        00:00:00 [card0-crtc7]\n",
      "systemd+     620       1  0 08:21 ?        00:00:01 /lib/systemd/systemd-resolve\n",
      "systemd+     621       1  0 08:21 ?        00:00:00 /lib/systemd/systemd-timesyn\n",
      "root         662       1  0 08:21 ?        00:00:00 /usr/lib/accountsservice/acc\n",
      "root         663       1  0 08:21 ?        00:00:01 /usr/sbin/acpid\n",
      "avahi        666       1  0 08:21 ?        00:00:00 avahi-daemon: running [ubunt\n",
      "root         667       1  0 08:21 ?        00:00:00 /usr/sbin/cron -f\n",
      "message+     671       1  0 08:21 ?        00:00:02 /usr/bin/dbus-daemon --syste\n",
      "root         672       1  0 08:21 ?        00:00:01 /usr/sbin/NetworkManager --n\n",
      "root         680       1  0 08:21 ?        00:00:00 /usr/sbin/irqbalance --foreg\n",
      "root         681       1  0 08:21 ?        00:00:00 /usr/bin/python3 /usr/bin/ne\n",
      "root         684       1  0 08:21 ?        00:00:02 /usr/lib/policykit-1/polkitd\n",
      "syslog       688       1  0 08:21 ?        00:00:00 /usr/sbin/rsyslogd -n -iNONE\n",
      "root         697       1  0 08:21 ?        00:00:05 /usr/lib/snapd/snapd\n",
      "root         700       1  0 08:21 ?        00:00:00 /usr/libexec/switcheroo-cont\n",
      "root         706       1  0 08:21 ?        00:00:00 /lib/systemd/systemd-logind\n",
      "root         708       1  0 08:21 ?        00:00:00 /usr/lib/udisks2/udisksd\n",
      "root         710       1  0 08:21 ?        00:00:00 /sbin/wpa_supplicant -u -s -\n",
      "avahi        725     666  0 08:21 ?        00:00:00 avahi-daemon: chroot helper\n",
      "root         755       1  0 08:21 ?        00:00:00 /usr/sbin/cups-browsed\n",
      "root         766       1  0 08:21 ?        00:00:00 /usr/sbin/ModemManager\n",
      "root         794       1  0 08:21 ?        00:00:00 /usr/bin/python3 /usr/share/\n",
      "root         802       1  0 08:21 ?        00:00:00 /usr/sbin/gdm3\n",
      "root         813       1  0 08:21 ?        00:00:00 /usr/sbin/cupsd -l\n",
      "whoopsie     848       1  0 08:21 ?        00:00:00 /usr/bin/whoopsie -f\n",
      "kernoops     861       1  0 08:21 ?        00:00:00 /usr/sbin/kerneloops --test\n",
      "kernoops     866       1  0 08:21 ?        00:00:00 /usr/sbin/kerneloops\n",
      "rtkit        894       1  0 08:21 ?        00:00:00 /usr/libexec/rtkit-daemon\n",
      "root        1016       1  0 08:21 ?        00:00:00 /usr/lib/upower/upowerd\n",
      "colord      1305       1  0 08:21 ?        00:00:00 /usr/libexec/colord\n",
      "root        1332     802  0 08:21 ?        00:00:00 gdm-session-worker [pam/gdm-\n",
      "shubham     1341       1  0 08:21 ?        00:00:00 /lib/systemd/systemd --user\n",
      "shubham     1342    1341  0 08:21 ?        00:00:00 (sd-pam)\n",
      "shubham     1347    1341  0 08:21 ?        00:00:05 /usr/bin/pulseaudio --daemon\n",
      "shubham     1349    1341  0 08:21 ?        00:00:00 /usr/libexec/tracker-miner-f\n",
      "shubham     1351    1341  0 08:21 ?        00:00:02 /usr/bin/dbus-daemon --sessi\n",
      "shubham     1368    1341  0 08:21 ?        00:00:00 /usr/libexec/gvfsd\n",
      "shubham     1370       1  0 08:21 ?        00:00:00 /usr/bin/gnome-keyring-daemo\n",
      "shubham     1377    1341  0 08:21 ?        00:00:00 /usr/libexec/gvfsd-fuse /run\n",
      "shubham     1383    1341  0 08:21 ?        00:00:00 /usr/libexec/gvfs-udisks2-vo\n",
      "shubham     1391    1341  0 08:21 ?        00:00:00 /usr/libexec/gvfs-gphoto2-vo\n",
      "shubham     1395    1341  0 08:21 ?        00:00:00 /usr/libexec/gvfs-goa-volume\n",
      "shubham     1399    1341  0 08:21 ?        00:00:00 /usr/libexec/goa-daemon\n",
      "shubham     1407    1341  0 08:21 ?        00:00:00 /usr/libexec/goa-identity-se\n",
      "shubham     1412    1332  0 08:21 tty2     00:00:00 /usr/lib/gdm3/gdm-x-session \n",
      "shubham     1415    1412  4 08:21 tty2     00:02:57 /usr/lib/xorg/Xorg vt2 -disp\n",
      "shubham     1418    1341  0 08:21 ?        00:00:00 /usr/libexec/gvfs-mtp-volume\n",
      "shubham     1423    1341  0 08:21 ?        00:00:00 /usr/libexec/gvfs-afc-volume\n",
      "shubham     1444    1412  0 08:21 tty2     00:00:00 /usr/libexec/gnome-session-b\n",
      "shubham     1513    1444  0 08:21 ?        00:00:00 /usr/bin/ssh-agent /usr/bin/\n",
      "shubham     1530    1341  0 08:21 ?        00:00:00 /usr/libexec/at-spi-bus-laun\n",
      "shubham     1535    1530  0 08:21 ?        00:00:00 /usr/bin/dbus-daemon --confi\n",
      "shubham     1568    1341  0 08:21 ?        00:00:00 /usr/libexec/gnome-session-c\n",
      "shubham     1575    1341  0 08:21 ?        00:00:00 /usr/libexec/gnome-session-b\n",
      "shubham     1590    1341  4 08:21 ?        00:02:51 /usr/bin/gnome-shell\n",
      "shubham     1626    1590  0 08:21 ?        00:00:00 ibus-daemon --panel disable \n",
      "shubham     1630    1626  0 08:21 ?        00:00:00 /usr/libexec/ibus-dconf\n",
      "shubham     1631    1626  0 08:21 ?        00:00:02 /usr/libexec/ibus-extension-\n",
      "shubham     1634    1341  0 08:21 ?        00:00:01 /usr/libexec/ibus-x11 --kill\n",
      "shubham     1637    1341  0 08:21 ?        00:00:00 /usr/libexec/ibus-portal\n",
      "shubham     1649    1341  0 08:21 ?        00:00:00 /usr/libexec/at-spi2-registr\n",
      "shubham     1652    1341  0 08:21 ?        00:00:00 /usr/libexec/xdg-permission-\n",
      "shubham     1655    1341  0 08:21 ?        00:00:00 /usr/libexec/gnome-shell-cal\n",
      "shubham     1666    1341  0 08:21 ?        00:00:00 /usr/libexec/evolution-sourc\n",
      "shubham     1672    1341  0 08:21 ?        00:00:00 /usr/libexec/dconf-service\n",
      "shubham     1675    1341  0 08:21 ?        00:00:00 /usr/libexec/gvfsd-metadata\n",
      "shubham     1687    1341  0 08:21 ?        00:00:01 /usr/libexec/evolution-calen\n",
      "shubham     1696    1341  0 08:21 ?        00:00:00 /usr/bin/gjs /usr/share/gnom\n",
      "shubham     1713    1368  0 08:21 ?        00:00:00 /usr/libexec/gvfsd-trash --s\n",
      "shubham     1716    1341  0 08:21 ?        00:00:00 /usr/libexec/evolution-addre\n",
      "shubham     1765    1341  0 08:21 ?        00:00:00 /usr/libexec/gsd-a11y-settin\n",
      "shubham     1766    1341  0 08:21 ?        00:00:02 /usr/libexec/gsd-color\n",
      "shubham     1768    1341  0 08:21 ?        00:00:00 /usr/libexec/gsd-datetime\n",
      "shubham     1770    1341  0 08:21 ?        00:00:00 /usr/libexec/gsd-housekeepin\n",
      "shubham     1772    1341  0 08:21 ?        00:00:01 /usr/libexec/gsd-keyboard\n",
      "shubham     1774    1341  0 08:21 ?        00:00:01 /usr/libexec/gsd-media-keys\n",
      "shubham     1779    1341  0 08:21 ?        00:00:02 /usr/libexec/gsd-power\n",
      "shubham     1781    1341  0 08:21 ?        00:00:00 /usr/libexec/gsd-print-notif\n",
      "shubham     1784    1341  0 08:21 ?        00:00:00 /usr/libexec/gsd-rfkill\n",
      "shubham     1790    1341  0 08:21 ?        00:00:00 /usr/libexec/gsd-screensaver\n",
      "shubham     1791    1341  0 08:21 ?        00:00:00 /usr/libexec/gsd-sharing\n",
      "shubham     1792    1341  0 08:21 ?        00:00:00 /usr/libexec/gsd-smartcard\n",
      "shubham     1793    1341  0 08:21 ?        00:00:00 /usr/libexec/gsd-sound\n",
      "shubham     1796    1341  0 08:21 ?        00:00:00 /usr/libexec/gsd-usb-protect\n",
      "shubham     1797    1341  0 08:21 ?        00:00:01 /usr/libexec/gsd-wacom\n",
      "shubham     1801    1341  0 08:21 ?        00:00:00 /usr/libexec/gsd-wwan\n",
      "shubham     1804    1341  0 08:21 ?        00:00:02 /usr/libexec/gsd-xsettings\n",
      "shubham     1806    1575  0 08:21 ?        00:00:00 /usr/libexec/gsd-disk-utilit\n",
      "shubham     1821    1575  0 08:21 ?        00:00:03 /usr/libexec/evolution-data-\n",
      "shubham     1878    1626  0 08:21 ?        00:00:00 /usr/libexec/ibus-engine-sim\n",
      "shubham     1883    1341  0 08:21 ?        00:00:00 /usr/libexec/gsd-printer\n",
      "shubham     1893    1341  0 08:21 ?        00:00:08 /snap/snap-store/599/usr/bin\n",
      "shubham     1939    1341  0 08:21 ?        00:00:00 /usr/libexec/xdg-document-po\n",
      "shubham     2068    1341  0 08:21 ?        00:00:00 /usr/libexec/xdg-desktop-por\n",
      "shubham     2072    1341  0 08:21 ?        00:00:02 /usr/libexec/xdg-desktop-por\n",
      "root        2104       1  0 08:21 ?        00:00:00 /usr/libexec/fwupd/fwupd\n",
      "shubham     2443    1341  1 08:21 ?        00:01:01 /snap/code/111/usr/share/cod\n",
      "shubham     2445    2443  0 08:21 ?        00:00:00 /snap/code/111/usr/share/cod\n",
      "shubham     2446    2443  0 08:21 ?        00:00:00 /snap/code/111/usr/share/cod\n",
      "shubham     2460    1341  0 08:21 ?        00:00:00 /snap/code/111/usr/share/cod\n",
      "shubham     2474    2445  2 08:21 ?        00:01:27 /snap/code/111/usr/share/cod\n",
      "shubham     2495    2443  0 08:21 ?        00:00:01 /snap/code/111/usr/share/cod\n",
      "shubham     2513    2443 13 08:21 ?        00:08:37 /snap/code/111/usr/share/cod\n",
      "shubham     2557    2443  1 08:22 ?        00:00:43 /snap/code/111/usr/share/cod\n",
      "shubham     2569    2443  0 08:22 ?        00:00:30 /snap/code/111/usr/share/cod\n",
      "shubham     2600    2569  0 08:22 ?        00:00:01 /snap/code/111/usr/share/cod\n",
      "shubham     2624    2557  0 08:22 ?        00:00:03 /snap/code/111/usr/share/cod\n",
      "shubham     2733    2446  0 08:22 ?        00:00:30 /snap/code/111/usr/share/cod\n",
      "shubham     2749    2569  0 08:22 ?        00:00:02 /snap/code/111/usr/share/cod\n",
      "shubham     2914    2557  0 08:22 ?        00:00:18 /snap/code/111/usr/share/cod\n",
      "shubham     2923    2557  0 08:22 ?        00:00:00 /bin/python3 -m vscode_datas\n",
      "shubham     2924    2557  0 08:22 ?        00:00:00 /bin/python3 -m vscode_datas\n",
      "shubham     2925    2557  0 08:22 ?        00:00:07 /bin/python3 -m vscode_datas\n",
      "shubham     2954    2925  0 08:22 ?        00:00:05 /bin/python3 -m ipykernel_la\n",
      "shubham     2989    1575  0 08:22 ?        00:00:02 update-notifier\n",
      "root        3291       2  0 08:36 ?        00:00:00 [kworker/3:2-events]\n",
      "root        3293       2  0 08:36 ?        00:00:00 [kworker/5:0-events]\n",
      "root        3939       2  0 08:37 ?        00:00:00 [kworker/0:0]\n",
      "root        5298       2  0 09:00 ?        00:00:00 [kworker/4:2-events]\n",
      "root        5413       2  0 09:03 ?        00:00:00 [kworker/2:2-cgroup_destroy]\n",
      "root        5494       2  0 09:16 ?        00:00:00 [kworker/u12:0-events_unboun\n",
      "root        5655       2  0 09:26 ?        00:00:00 [kworker/u12:1-events_unboun\n",
      "shubham     5676    2954  0 09:27 pts/0    00:00:00 ps -ef\n"
     ]
    }
   ],
   "source": [
    "## List of currently running processes ps, -e all processes (running/killed/sleeping...) flag, -f flag for full info\n",
    "!ps -ef"
   ]
  },
  {
   "cell_type": "code",
   "execution_count": 2,
   "id": "8af1fecd",
   "metadata": {},
   "outputs": [
    {
     "name": "stdout",
     "output_type": "stream",
     "text": [
      "\u001b[?1h\u001b=\u001b[H\u001b[2J\u001b[mtop - 21:37:16 up 35 min,  1 user,  load average: 1.06, 0.56, 0.41\u001b[m\u001b[m\u001b[m\u001b[m\u001b[K\n",
      "Tasks:\u001b[m\u001b[m\u001b[1m 229 \u001b[m\u001b[mtotal,\u001b[m\u001b[m\u001b[1m   4 \u001b[m\u001b[mrunning,\u001b[m\u001b[m\u001b[1m 225 \u001b[m\u001b[msleeping,\u001b[m\u001b[m\u001b[1m   0 \u001b[m\u001b[mstopped,\u001b[m\u001b[m\u001b[1m   0 \u001b[m\u001b[mzombie\u001b[m\u001b[m\u001b[m\u001b[m\u001b[K\n",
      "%Cpu(s):\u001b[m\u001b[m\u001b[1m 10.6 \u001b[m\u001b[mus,\u001b[m\u001b[m\u001b[1m 34.1 \u001b[m\u001b[msy,\u001b[m\u001b[m\u001b[1m  0.0 \u001b[m\u001b[mni,\u001b[m\u001b[m\u001b[1m 50.6 \u001b[m\u001b[mid,\u001b[m\u001b[m\u001b[1m  0.0 \u001b[m\u001b[mwa,\u001b[m\u001b[m\u001b[1m  0.0 \u001b[m\u001b[mhi,\u001b[m\u001b[m\u001b[1m  4.7 \u001b[m\u001b[msi,\u001b[m\u001b[m\u001b[1m  0.0 \u001b[m\u001b[mst\u001b[m\u001b[m\u001b[m\u001b[m\u001b[K\n",
      "MiB Mem :\u001b[m\u001b[m\u001b[1m   7937.1 \u001b[m\u001b[mtotal,\u001b[m\u001b[m\u001b[1m   4357.0 \u001b[m\u001b[mfree,\u001b[m\u001b[m\u001b[1m   1706.0 \u001b[m\u001b[mused,\u001b[m\u001b[m\u001b[1m   1874.0 \u001b[m\u001b[mbuff/cache\u001b[m\u001b[m\u001b[m\u001b[m\u001b[K\n",
      "MiB Swap:\u001b[m\u001b[m\u001b[1m   2048.0 \u001b[m\u001b[mtotal,\u001b[m\u001b[m\u001b[1m   2048.0 \u001b[m\u001b[mfree,\u001b[m\u001b[m\u001b[1m      0.0 \u001b[m\u001b[mused.\u001b[m\u001b[m\u001b[1m   5879.8 \u001b[m\u001b[mavail Mem \u001b[m\u001b[m\u001b[m\u001b[m\u001b[K\n",
      "\u001b[K\n",
      "\u001b[7m    PID USER      PR  NI    VIRT    RES    SHR S  %CPU  %MEM     TIME+ COMMAND  \u001b[m\u001b[m\u001b[K\n",
      "\u001b[m   2592 shubham   20   0   58.7g 370688 150724 S  93.8   4.6   6:36.74 code     \u001b[m\u001b[m\u001b[K\n",
      "\u001b[m   1389 shubham   20   0  318816 116200  69644 S  43.8   1.4   2:09.25 Xorg     \u001b[m\u001b[m\u001b[K\n",
      "\u001b[m\u001b[1m   2762 shubham   20   0   40.7g 140280  90748 R  37.5   1.7   0:26.62 code     \u001b[m\u001b[m\u001b[K\n",
      "\u001b[m   2545 shubham   20   0   32.6g 106460  90684 S  31.2   1.3   0:59.91 code     \u001b[m\u001b[m\u001b[K\n",
      "\u001b[m   1566 shubham   20   0 5070988 374628 134724 S  25.0   4.6   1:42.73 gnome-s+ \u001b[m\u001b[m\u001b[K\n",
      "\u001b[m\u001b[1m   2515 shubham   20   0   36.8g 162824 118156 R  12.5   2.0   0:49.33 code     \u001b[m\u001b[m\u001b[K\n",
      "\u001b[m   2677 shubham   20   0   36.6g 173188  66944 S  12.5   2.1   0:30.65 code     \u001b[m\u001b[m\u001b[K\n",
      "\u001b[m   2913 shubham   20   0  767364  76008  14240 S  12.5   0.9   0:02.12 python3  \u001b[m\u001b[m\u001b[K\n",
      "\u001b[m     14 root      20   0       0      0      0 I   6.2   0.0   0:02.08 rcu_sch+ \u001b[m\u001b[m\u001b[K\n",
      "\u001b[m\u001b[1m   2712 shubham   20   0   44.7g 144544 102568 R   6.2   1.8   0:19.29 code     \u001b[m\u001b[m\u001b[K\n",
      "\u001b[m   2874 shubham   20   0   36.6g 149972  62072 S   6.2   1.8   0:17.90 code     \u001b[m\u001b[m\u001b[K\n",
      "\u001b[m   2886 shubham   20   0  412788  91560  22832 S   6.2   1.1   0:04.34 python3  \u001b[m\u001b[m\u001b[K\n",
      "\u001b[m\u001b[1m   3261 shubham   20   0   11856   4004   3252 R   6.2   0.0   0:00.19 top      \u001b[m\u001b[m\u001b[K\n",
      "\u001b[m      1 root      20   0  168256  11648   8560 S   0.0   0.1   0:02.85 systemd  \u001b[m\u001b[m\u001b[K\n",
      "\u001b[m      2 root      20   0       0      0      0 S   0.0   0.0   0:00.11 kthreadd \u001b[m\u001b[m\u001b[K\n",
      "\u001b[m      3 root       0 -20       0      0      0 I   0.0   0.0   0:00.00 rcu_gp   \u001b[m\u001b[m\u001b[K\n",
      "\u001b[m      4 root       0 -20       0      0      0 I   0.0   0.0   0:00.00 rcu_par+ \u001b[m\u001b[m\u001b[K\u001b[H\u001b[mtop - 21:37:19 up 35 min,  1 user,  load average: 1.06, 0.56, 0.41\u001b[m\u001b[m\u001b[m\u001b[m\u001b[K\n",
      "Tasks:\u001b[m\u001b[m\u001b[1m 229 \u001b[m\u001b[mtotal,\u001b[m\u001b[m\u001b[1m   1 \u001b[m\u001b[mrunning,\u001b[m\u001b[m\u001b[1m 228 \u001b[m\u001b[msleeping,\u001b[m\u001b[m\u001b[1m   0 \u001b[m\u001b[mstopped,\u001b[m\u001b[m\u001b[1m   0 \u001b[m\u001b[mzombie\u001b[m\u001b[m\u001b[m\u001b[m\u001b[K\n",
      "%Cpu(s):\u001b[m\u001b[m\u001b[1m  9.8 \u001b[m\u001b[mus,\u001b[m\u001b[m\u001b[1m 29.4 \u001b[m\u001b[msy,\u001b[m\u001b[m\u001b[1m  0.0 \u001b[m\u001b[mni,\u001b[m\u001b[m\u001b[1m 57.6 \u001b[m\u001b[mid,\u001b[m\u001b[m\u001b[1m  0.1 \u001b[m\u001b[mwa,\u001b[m\u001b[m\u001b[1m  0.0 \u001b[m\u001b[mhi,\u001b[m\u001b[m\u001b[1m  3.1 \u001b[m\u001b[msi,\u001b[m\u001b[m\u001b[1m  0.0 \u001b[m\u001b[mst\u001b[m\u001b[m\u001b[m\u001b[m\u001b[K\n",
      "MiB Mem :\u001b[m\u001b[m\u001b[1m   7937.1 \u001b[m\u001b[mtotal,\u001b[m\u001b[m\u001b[1m   4350.2 \u001b[m\u001b[mfree,\u001b[m\u001b[m\u001b[1m   1707.5 \u001b[m\u001b[mused,\u001b[m\u001b[m\u001b[1m   1879.3 \u001b[m\u001b[mbuff/cache\u001b[m\u001b[m\u001b[m\u001b[m\u001b[K\n",
      "MiB Swap:\u001b[m\u001b[m\u001b[1m   2048.0 \u001b[m\u001b[mtotal,\u001b[m\u001b[m\u001b[1m   2048.0 \u001b[m\u001b[mfree,\u001b[m\u001b[m\u001b[1m      0.0 \u001b[m\u001b[mused.\u001b[m\u001b[m\u001b[1m   5873.1 \u001b[m\u001b[mavail Mem \u001b[m\u001b[m\u001b[m\u001b[m\u001b[K\n",
      "\u001b[K\n",
      "\n",
      "\u001b[m   1389 shubham   20   0  318816 116200  69644 S  63.3   1.4   2:11.15 Xorg     \u001b[m\u001b[m\u001b[K\n",
      "\u001b[m   2592 shubham   20   0   58.7g 370652 151152 S  62.0   4.6   6:38.60 code     \u001b[m\u001b[m\u001b[K\n",
      "\u001b[m   1566 shubham   20   0 5070988 374628 134724 S  49.3   4.6   1:44.21 gnome-s+ \u001b[m\u001b[m\u001b[K\n",
      "\u001b[m   2545 shubham   20   0   32.6g 111520  95812 S  32.7   1.4   1:00.89 code     \u001b[m\u001b[m\u001b[K\n",
      "\u001b[m   2762 shubham   20   0   40.7g 144320  93760 S  16.3   1.8   0:27.11 code     \u001b[m\u001b[m\u001b[K\n",
      "\u001b[m   2515 shubham   20   0   36.8g 164900 120412 S  12.7   2.0   0:49.71 code     \u001b[m\u001b[m\u001b[K\n",
      "\u001b[m   2913 shubham   20   0  767364  76008  14240 S   7.7   0.9   0:02.35 python3  \u001b[m\u001b[m\u001b[K\n",
      "\u001b[m   2712 shubham   20   0   44.7g 138932 102568 S   4.0   1.7   0:19.41 code     \u001b[m\u001b[m\u001b[K\n",
      "\u001b[m     17 root      20   0       0      0      0 I   2.0   0.0   0:05.33 kworker+ \u001b[m\u001b[m\u001b[K\n",
      "\u001b[m     46 root      20   0       0      0      0 S   1.3   0.0   0:03.04 ksoftir+ \u001b[m\u001b[m\u001b[K\n",
      "\u001b[m   2677 shubham   20   0   36.6g 174476  66944 S   1.3   2.1   0:30.69 code     \u001b[m\u001b[m\u001b[K\n",
      "\u001b[m     40 root      20   0       0      0      0 S   1.0   0.0   0:00.31 ksoftir+ \u001b[m\u001b[m\u001b[K\n",
      "\u001b[m     14 root      20   0       0      0      0 I   0.7   0.0   0:02.10 rcu_sch+ \u001b[m\u001b[m\u001b[K\n",
      "\u001b[m    209 root      20   0       0      0      0 I   0.7   0.0   0:01.08 kworker+ \u001b[m\u001b[m\u001b[K\n",
      "\u001b[m   1738 shubham   20   0  494168  29084  19052 S   0.7   0.4   0:01.54 gsd-col+ \u001b[m\u001b[m\u001b[K\n",
      "\u001b[m   1777 shubham   20   0  346536  29616  19128 S   0.7   0.4   0:02.16 gsd-xse+ \u001b[m\u001b[m\u001b[K\n",
      "\u001b[m   1868 shubham   20   0  990588 135884  53244 S   0.7   1.7   0:08.30 snap-st+ \u001b[m\u001b[m\u001b[K\u001b[H\u001b[mtop - 21:37:22 up 35 min,  1 user,  load average: 1.13, 0.59, 0.42\u001b[m\u001b[m\u001b[m\u001b[m\u001b[K\n",
      "Tasks:\u001b[m\u001b[m\u001b[1m 229 \u001b[m\u001b[mtotal,\u001b[m\u001b[m\u001b[1m   2 \u001b[m\u001b[mrunning,\u001b[m\u001b[m\u001b[1m 227 \u001b[m\u001b[msleeping,\u001b[m\u001b[m\u001b[1m   0 \u001b[m\u001b[mstopped,\u001b[m\u001b[m\u001b[1m   0 \u001b[m\u001b[mzombie\u001b[m\u001b[m\u001b[m\u001b[m\u001b[K\n",
      "%Cpu(s):\u001b[m\u001b[m\u001b[1m  6.2 \u001b[m\u001b[mus,\u001b[m\u001b[m\u001b[1m 16.4 \u001b[m\u001b[msy,\u001b[m\u001b[m\u001b[1m  0.0 \u001b[m\u001b[mni,\u001b[m\u001b[m\u001b[1m 76.2 \u001b[m\u001b[mid,\u001b[m\u001b[m\u001b[1m  0.0 \u001b[m\u001b[mwa,\u001b[m\u001b[m\u001b[1m  0.0 \u001b[m\u001b[mhi,\u001b[m\u001b[m\u001b[1m  1.2 \u001b[m\u001b[msi,\u001b[m\u001b[m\u001b[1m  0.0 \u001b[m\u001b[mst\u001b[m\u001b[m\u001b[m\u001b[m\u001b[K\n",
      "MiB Mem :\u001b[m\u001b[m\u001b[1m   7937.1 \u001b[m\u001b[mtotal,\u001b[m\u001b[m\u001b[1m   4362.6 \u001b[m\u001b[mfree,\u001b[m\u001b[m\u001b[1m   1708.8 \u001b[m\u001b[mused,\u001b[m\u001b[m\u001b[1m   1865.6 \u001b[m\u001b[mbuff/cache\u001b[m\u001b[m\u001b[m\u001b[m\u001b[K\n",
      "MiB Swap:\u001b[m\u001b[m\u001b[1m   2048.0 \u001b[m\u001b[mtotal,\u001b[m\u001b[m\u001b[1m   2048.0 \u001b[m\u001b[mfree,\u001b[m\u001b[m\u001b[1m      0.0 \u001b[m\u001b[mused.\u001b[m\u001b[m\u001b[1m   5885.5 \u001b[m\u001b[mavail Mem \u001b[m\u001b[m\u001b[m\u001b[m\u001b[K\n",
      "\u001b[K\n",
      "\n",
      "\u001b[m   2592 shubham   20   0   58.7g 348288 138128 S  43.5   4.3   6:39.91 code     \u001b[m\u001b[m\u001b[K\n",
      "\u001b[m\u001b[1m   1389 shubham   20   0  318816 116200  69644 R  40.2   1.4   2:12.36 Xorg     \u001b[m\u001b[m\u001b[K\n",
      "\u001b[m   1566 shubham   20   0 5070988 374628 134724 S  37.5   4.6   1:45.34 gnome-s+ \u001b[m\u001b[m\u001b[K\n",
      "\u001b[m   2545 shubham   20   0   32.6g 100600  84952 S  19.9   1.2   1:01.49 code     \u001b[m\u001b[m\u001b[K\n",
      "\u001b[m   2762 shubham   20   0   40.7g 145608  95344 S   6.3   1.8   0:27.30 code     \u001b[m\u001b[m\u001b[K\n",
      "\u001b[m   2913 shubham   20   0  767364  76008  14240 S   3.3   0.9   0:02.45 python3  \u001b[m\u001b[m\u001b[K\n",
      "\u001b[m   2677 shubham   20   0   36.6g 173776  66944 S   3.0   2.1   0:30.78 code     \u001b[m\u001b[m\u001b[K\n",
      "\u001b[m   2515 shubham   20   0   36.8g 162980 118364 S   2.7   2.0   0:49.79 code     \u001b[m\u001b[m\u001b[K\n",
      "\u001b[m     14 root      20   0       0      0      0 I   0.3   0.0   0:02.11 rcu_sch+ \u001b[m\u001b[m\u001b[K\n",
      "\u001b[m     27 root      rt   0       0      0      0 S   0.3   0.0   0:00.91 migrati+ \u001b[m\u001b[m\u001b[K\n",
      "\u001b[m     40 root      20   0       0      0      0 S   0.3   0.0   0:00.32 ksoftir+ \u001b[m\u001b[m\u001b[K\n",
      "\u001b[m     55 root      20   0       0      0      0 S   0.3   0.0   0:00.27 kcompac+ \u001b[m\u001b[m\u001b[K\n",
      "\u001b[m    239 root      20   0       0      0      0 S   0.3   0.0   0:00.44 jbd2/sd+ \u001b[m\u001b[m\u001b[K\n",
      "\u001b[m    387 root      20   0       0      0      0 I   0.3   0.0   0:02.10 kworker+ \u001b[m\u001b[m\u001b[K\n",
      "\u001b[m    443 root     -51   0       0      0      0 S   0.3   0.0   0:00.56 irq/18-+ \u001b[m\u001b[m\u001b[K\n",
      "\u001b[m   1606 shubham   20   0  275656  31572  18076 S   0.3   0.4   0:02.27 ibus-ex+ \u001b[m\u001b[m\u001b[K\n",
      "\u001b[m   1751 shubham   20   0  493772  29220  19128 S   0.3   0.4   0:01.67 gsd-pow+ \u001b[m\u001b[m\u001b[K\u001b[H\u001b[mtop - 21:37:25 up 35 min,  1 user,  load average: 1.13, 0.59, 0.42\u001b[m\u001b[m\u001b[m\u001b[m\u001b[K\n",
      "Tasks:\u001b[m\u001b[m\u001b[1m 229 \u001b[m\u001b[mtotal,\u001b[m\u001b[m\u001b[1m   3 \u001b[m\u001b[mrunning,\u001b[m\u001b[m\u001b[1m 226 \u001b[m\u001b[msleeping,\u001b[m\u001b[m\u001b[1m   0 \u001b[m\u001b[mstopped,\u001b[m\u001b[m\u001b[1m   0 \u001b[m\u001b[mzombie\u001b[m\u001b[m\u001b[m\u001b[m\u001b[K\n",
      "%Cpu(s):\u001b[m\u001b[m\u001b[1m 10.6 \u001b[m\u001b[mus,\u001b[m\u001b[m\u001b[1m 22.5 \u001b[m\u001b[msy,\u001b[m\u001b[m\u001b[1m  0.0 \u001b[m\u001b[mni,\u001b[m\u001b[m\u001b[1m 65.0 \u001b[m\u001b[mid,\u001b[m\u001b[m\u001b[1m  0.1 \u001b[m\u001b[mwa,\u001b[m\u001b[m\u001b[1m  0.0 \u001b[m\u001b[mhi,\u001b[m\u001b[m\u001b[1m  1.8 \u001b[m\u001b[msi,\u001b[m\u001b[m\u001b[1m  0.0 \u001b[m\u001b[mst\u001b[m\u001b[m\u001b[m\u001b[m\u001b[K\n",
      "MiB Mem :\u001b[m\u001b[m\u001b[1m   7937.1 \u001b[m\u001b[mtotal,\u001b[m\u001b[m\u001b[1m   4344.9 \u001b[m\u001b[mfree,\u001b[m\u001b[m\u001b[1m   1710.5 \u001b[m\u001b[mused,\u001b[m\u001b[m\u001b[1m   1881.6 \u001b[m\u001b[mbuff/cache\u001b[m\u001b[m\u001b[m\u001b[m\u001b[K\n",
      "MiB Swap:\u001b[m\u001b[m\u001b[1m   2048.0 \u001b[m\u001b[mtotal,\u001b[m\u001b[m\u001b[1m   2048.0 \u001b[m\u001b[mfree,\u001b[m\u001b[m\u001b[1m      0.0 \u001b[m\u001b[mused.\u001b[m\u001b[m\u001b[1m   5867.8 \u001b[m\u001b[mavail Mem \u001b[m\u001b[m\u001b[m\u001b[m\u001b[K\n",
      "\u001b[K\n",
      "\n",
      "\u001b[m\u001b[1m   2592 shubham   20   0   58.7g 367652 148952 R  60.5   4.5   6:41.73 code     \u001b[m\u001b[m\u001b[K\n",
      "\u001b[m   1566 shubham   20   0 5070988 374668 134724 S  52.5   4.6   1:46.92 gnome-s+ \u001b[m\u001b[m\u001b[K\n",
      "\u001b[m\u001b[1m   1389 shubham   20   0  318816 116200  69644 R  42.9   1.4   2:13.65 Xorg     \u001b[m\u001b[m\u001b[K\n",
      "\u001b[m   2545 shubham   20   0   32.6g 114724  98828 S  31.2   1.4   1:02.43 code     \u001b[m\u001b[m\u001b[K\n",
      "\u001b[m   2762 shubham   20   0   40.7g 149876  97968 S  10.3   1.8   0:27.61 code     \u001b[m\u001b[m\u001b[K\n",
      "\u001b[m   2913 shubham   20   0  767364  76008  14240 S   5.3   0.9   0:02.61 python3  \u001b[m\u001b[m\u001b[K\n",
      "\u001b[m   2515 shubham   20   0   36.8g 164808 120204 S   4.3   2.0   0:49.92 code     \u001b[m\u001b[m\u001b[K\n",
      "\u001b[m   2677 shubham   20   0   36.6g 173764  66944 S   4.3   2.1   0:30.91 code     \u001b[m\u001b[m\u001b[K\n",
      "\u001b[m    133 root       0 -20       0      0      0 I   1.7   0.0   0:00.59 kworker+ \u001b[m\u001b[m\u001b[K\n",
      "\u001b[m    209 root      20   0       0      0      0 I   1.0   0.0   0:01.11 kworker+ \u001b[m\u001b[m\u001b[K\n",
      "\u001b[m     14 root      20   0       0      0      0 I   0.7   0.0   0:02.13 rcu_sch+ \u001b[m\u001b[m\u001b[K\n",
      "\u001b[m   1322 shubham   20   0   11788   9036   3944 S   0.7   0.1   0:02.01 dbus-da+ \u001b[m\u001b[m\u001b[K\n",
      "\u001b[m     17 root      20   0       0      0      0 I   0.3   0.0   0:05.34 kworker+ \u001b[m\u001b[m\u001b[K\n",
      "\u001b[m    443 root     -51   0       0      0      0 S   0.3   0.0   0:00.57 irq/18-+ \u001b[m\u001b[m\u001b[K\n",
      "\u001b[m   1624 shubham   20   0  162920   6584   5948 S   0.3   0.1   0:00.53 at-spi2+ \u001b[m\u001b[m\u001b[K\n",
      "\u001b[m   2043 shubham   20   0  610044  10492   9216 S   0.3   0.1   0:00.62 xdg-des+ \u001b[m\u001b[m\u001b[K\n",
      "\u001b[m   2952 shubham   20   0  419340  28904  19564 S   0.3   0.4   0:02.05 update-+ \u001b[m\u001b[m\u001b[K\u001b[H\u001b[mtop - 21:37:28 up 35 min,  1 user,  load average: 1.04, 0.58, 0.42\u001b[m\u001b[m\u001b[m\u001b[m\u001b[K\n",
      "Tasks:\u001b[m\u001b[m\u001b[1m 229 \u001b[m\u001b[mtotal,\u001b[m\u001b[m\u001b[1m   1 \u001b[m\u001b[mrunning,\u001b[m\u001b[m\u001b[1m 228 \u001b[m\u001b[msleeping,\u001b[m\u001b[m\u001b[1m   0 \u001b[m\u001b[mstopped,\u001b[m\u001b[m\u001b[1m   0 \u001b[m\u001b[mzombie\u001b[m\u001b[m\u001b[m\u001b[m\u001b[K\n",
      "%Cpu(s):\u001b[m\u001b[m\u001b[1m  5.6 \u001b[m\u001b[mus,\u001b[m\u001b[m\u001b[1m  9.2 \u001b[m\u001b[msy,\u001b[m\u001b[m\u001b[1m  0.0 \u001b[m\u001b[mni,\u001b[m\u001b[m\u001b[1m 84.9 \u001b[m\u001b[mid,\u001b[m\u001b[m\u001b[1m  0.1 \u001b[m\u001b[mwa,\u001b[m\u001b[m\u001b[1m  0.0 \u001b[m\u001b[mhi,\u001b[m\u001b[m\u001b[1m  0.3 \u001b[m\u001b[msi,\u001b[m\u001b[m\u001b[1m  0.0 \u001b[m\u001b[mst\u001b[m\u001b[m\u001b[m\u001b[m\u001b[K\n",
      "MiB Mem :\u001b[m\u001b[m\u001b[1m   7937.1 \u001b[m\u001b[mtotal,\u001b[m\u001b[m\u001b[1m   4342.0 \u001b[m\u001b[mfree,\u001b[m\u001b[m\u001b[1m   1713.5 \u001b[m\u001b[mused,\u001b[m\u001b[m\u001b[1m   1881.5 \u001b[m\u001b[mbuff/cache\u001b[m\u001b[m\u001b[m\u001b[m\u001b[K\n",
      "MiB Swap:\u001b[m\u001b[m\u001b[1m   2048.0 \u001b[m\u001b[mtotal,\u001b[m\u001b[m\u001b[1m   2048.0 \u001b[m\u001b[mfree,\u001b[m\u001b[m\u001b[1m      0.0 \u001b[m\u001b[mused.\u001b[m\u001b[m\u001b[1m   5864.9 \u001b[m\u001b[mavail Mem \u001b[m\u001b[m\u001b[m\u001b[m\u001b[K\n",
      "\u001b[K\n",
      "\n",
      "\u001b[m   1566 shubham   20   0 5070988 374632 134724 S  32.6   4.6   1:47.90 gnome-s+ \u001b[m\u001b[m\u001b[K\n",
      "\u001b[m   2592 shubham   20   0   58.7g 366948 148888 S  28.6   4.5   6:42.59 code     \u001b[m\u001b[m\u001b[K\n",
      "\u001b[m   1389 shubham   20   0  318816 116200  69644 S  24.3   1.4   2:14.38 Xorg     \u001b[m\u001b[m\u001b[K\n",
      "\u001b[m   2545 shubham   20   0   32.6g 114988  99180 S  13.6   1.4   1:02.84 code     \u001b[m\u001b[m\u001b[K\n",
      "\u001b[m   2913 shubham   20   0  767364  76008  14240 S   4.0   0.9   0:02.73 python3  \u001b[m\u001b[m\u001b[K\n",
      "\u001b[m   2762 shubham   20   0   40.7g 150436  98032 S   1.3   1.9   0:27.65 code     \u001b[m\u001b[m\u001b[K\n",
      "\u001b[m   2677 shubham   20   0   36.6g 173796  66944 S   0.7   2.1   0:30.93 code     \u001b[m\u001b[m\u001b[K\n",
      "\u001b[m     14 root      20   0       0      0      0 I   0.3   0.0   0:02.14 rcu_sch+ \u001b[m\u001b[m\u001b[K\n",
      "\u001b[m     17 root      20   0       0      0      0 I   0.3   0.0   0:05.35 kworker+ \u001b[m\u001b[m\u001b[K\n",
      "\u001b[m   2515 shubham   20   0   36.8g 164856 120204 S   0.3   2.0   0:49.93 code     \u001b[m\u001b[m\u001b[K\n",
      "\u001b[m\u001b[1m   3261 shubham   20   0   11856   4004   3252 R   0.3   0.0   0:00.21 top      \u001b[m\u001b[m\u001b[K\n",
      "\u001b[m      1 root      20   0  168256  11648   8560 S   0.0   0.1   0:02.85 systemd  \u001b[m\u001b[m\u001b[K\n",
      "\u001b[m      2 root      20   0       0      0      0 S   0.0   0.0   0:00.11 kthreadd \u001b[m\u001b[m\u001b[K\n",
      "\u001b[m      3 root       0 -20       0      0      0 I   0.0   0.0   0:00.00 rcu_gp   \u001b[m\u001b[m\u001b[K\n",
      "\u001b[m      4 root       0 -20       0      0      0 I   0.0   0.0   0:00.00 rcu_par+ \u001b[m\u001b[m\u001b[K\n",
      "\u001b[m      5 root       0 -20       0      0      0 I   0.0   0.0   0:00.00 slub_fl+ \u001b[m\u001b[m\u001b[K\n",
      "\u001b[m      6 root       0 -20       0      0      0 I   0.0   0.0   0:00.00 netns    \u001b[m\u001b[m\u001b[K\u001b[H\u001b[mtop - 21:37:31 up 35 min,  1 user,  load average: 1.44, 0.67, 0.45\u001b[m\u001b[m\u001b[m\u001b[m\u001b[K\n",
      "Tasks:\u001b[m\u001b[m\u001b[1m 229 \u001b[m\u001b[mtotal,\u001b[m\u001b[m\u001b[1m   3 \u001b[m\u001b[mrunning,\u001b[m\u001b[m\u001b[1m 226 \u001b[m\u001b[msleeping,\u001b[m\u001b[m\u001b[1m   0 \u001b[m\u001b[mstopped,\u001b[m\u001b[m\u001b[1m   0 \u001b[m\u001b[mzombie\u001b[m\u001b[m\u001b[m\u001b[m\u001b[K\n",
      "%Cpu(s):\u001b[m\u001b[m\u001b[1m  5.5 \u001b[m\u001b[mus,\u001b[m\u001b[m\u001b[1m 15.9 \u001b[m\u001b[msy,\u001b[m\u001b[m\u001b[1m  0.0 \u001b[m\u001b[mni,\u001b[m\u001b[m\u001b[1m 77.6 \u001b[m\u001b[mid,\u001b[m\u001b[m\u001b[1m  0.1 \u001b[m\u001b[mwa,\u001b[m\u001b[m\u001b[1m  0.0 \u001b[m\u001b[mhi,\u001b[m\u001b[m\u001b[1m  0.9 \u001b[m\u001b[msi,\u001b[m\u001b[m\u001b[1m  0.0 \u001b[m\u001b[mst\u001b[m\u001b[m\u001b[m\u001b[m\u001b[K\n",
      "MiB Mem :\u001b[m\u001b[m\u001b[1m   7937.1 \u001b[m\u001b[mtotal,\u001b[m\u001b[m\u001b[1m   4342.1 \u001b[m\u001b[mfree,\u001b[m\u001b[m\u001b[1m   1713.6 \u001b[m\u001b[mused,\u001b[m\u001b[m\u001b[1m   1881.4 \u001b[m\u001b[mbuff/cache\u001b[m\u001b[m\u001b[m\u001b[m\u001b[K\n",
      "MiB Swap:\u001b[m\u001b[m\u001b[1m   2048.0 \u001b[m\u001b[mtotal,\u001b[m\u001b[m\u001b[1m   2048.0 \u001b[m\u001b[mfree,\u001b[m\u001b[m\u001b[1m      0.0 \u001b[m\u001b[mused.\u001b[m\u001b[m\u001b[1m   5865.1 \u001b[m\u001b[mavail Mem \u001b[m\u001b[m\u001b[m\u001b[m\u001b[K\n",
      "\u001b[K\n",
      "\n",
      "\u001b[m   2592 shubham   20   0   58.7g 369068 148984 S  40.2   4.5   6:43.80 code     \u001b[m\u001b[m\u001b[K\n",
      "\u001b[m   1389 shubham   20   0  318816 116200  69644 S  32.2   1.4   2:15.35 Xorg     \u001b[m\u001b[m\u001b[K\n",
      "\u001b[m\u001b[1m   1566 shubham   20   0 5070988 374636 134724 R  30.9   4.6   1:48.83 gnome-s+ \u001b[m\u001b[m\u001b[K\n",
      "\u001b[m   2545 shubham   20   0   32.6g 114076  98492 S  17.3   1.4   1:03.36 code     \u001b[m\u001b[m\u001b[K\n",
      "\u001b[m   2515 shubham   20   0   36.8g 165316 120268 S   5.6   2.0   0:50.10 code     \u001b[m\u001b[m\u001b[K\n",
      "\u001b[m   2762 shubham   20   0   40.7g 150744  97520 S   5.6   1.9   0:27.82 code     \u001b[m\u001b[m\u001b[K\n",
      "\u001b[m   2913 shubham   20   0  767364  76008  14240 S   4.0   0.9   0:02.85 python3  \u001b[m\u001b[m\u001b[K\n",
      "\u001b[m   2677 shubham   20   0   36.6g 173580  66944 S   2.3   2.1   0:31.00 code     \u001b[m\u001b[m\u001b[K\n",
      "\u001b[m    387 root      20   0       0      0      0 I   1.7   0.0   0:02.15 kworker+ \u001b[m\u001b[m\u001b[K\n",
      "\u001b[m   2043 shubham   20   0  610044  10492   9216 S   0.7   0.1   0:00.64 xdg-des+ \u001b[m\u001b[m\u001b[K\n",
      "\u001b[m   2874 shubham   20   0   36.6g 149944  62072 S   0.7   1.8   0:17.92 code     \u001b[m\u001b[m\u001b[K\n",
      "\u001b[m\u001b[1m   3261 shubham   20   0   12012   4004   3252 R   0.7   0.0   0:00.23 top      \u001b[m\u001b[m\u001b[K\n",
      "\u001b[m     14 root      20   0       0      0      0 I   0.3   0.0   0:02.15 rcu_sch+ \u001b[m\u001b[m\u001b[K\n",
      "\u001b[m     81 root      20   0       0      0      0 I   0.3   0.0   0:00.77 kworker+ \u001b[m\u001b[m\u001b[K\n",
      "\u001b[m    306 root      20   0       0      0      0 I   0.3   0.0   0:02.37 kworker+ \u001b[m\u001b[m\u001b[K\n",
      "\u001b[m   1322 shubham   20   0   11788   9036   3944 S   0.3   0.1   0:02.02 dbus-da+ \u001b[m\u001b[m\u001b[K\n",
      "\u001b[m   1749 shubham   20   0  901112  31100  20600 S   0.3   0.4   0:01.70 gsd-med+ \u001b[m\u001b[m\u001b[K\u001b[H\u001b[mtop - 21:37:34 up 35 min,  1 user,  load average: 1.44, 0.67, 0.45\u001b[m\u001b[m\u001b[m\u001b[m\u001b[K\n",
      "Tasks:\u001b[m\u001b[m\u001b[1m 229 \u001b[m\u001b[mtotal,\u001b[m\u001b[m\u001b[1m   4 \u001b[m\u001b[mrunning,\u001b[m\u001b[m\u001b[1m 225 \u001b[m\u001b[msleeping,\u001b[m\u001b[m\u001b[1m   0 \u001b[m\u001b[mstopped,\u001b[m\u001b[m\u001b[1m   0 \u001b[m\u001b[mzombie\u001b[m\u001b[m\u001b[m\u001b[m\u001b[K\n",
      "%Cpu(s):\u001b[m\u001b[m\u001b[1m 11.5 \u001b[m\u001b[mus,\u001b[m\u001b[m\u001b[1m 25.9 \u001b[m\u001b[msy,\u001b[m\u001b[m\u001b[1m  0.0 \u001b[m\u001b[mni,\u001b[m\u001b[m\u001b[1m 60.2 \u001b[m\u001b[mid,\u001b[m\u001b[m\u001b[1m  0.2 \u001b[m\u001b[mwa,\u001b[m\u001b[m\u001b[1m  0.0 \u001b[m\u001b[mhi,\u001b[m\u001b[m\u001b[1m  2.2 \u001b[m\u001b[msi,\u001b[m\u001b[m\u001b[1m  0.0 \u001b[m\u001b[mst\u001b[m\u001b[m\u001b[m\u001b[m\u001b[K\n",
      "MiB Mem :\u001b[m\u001b[m\u001b[1m   7937.1 \u001b[m\u001b[mtotal,\u001b[m\u001b[m\u001b[1m   4319.6 \u001b[m\u001b[mfree,\u001b[m\u001b[m\u001b[1m   1733.5 \u001b[m\u001b[mused,\u001b[m\u001b[m\u001b[1m   1884.0 \u001b[m\u001b[mbuff/cache\u001b[m\u001b[m\u001b[m\u001b[m\u001b[K\n",
      "MiB Swap:\u001b[m\u001b[m\u001b[1m   2048.0 \u001b[m\u001b[mtotal,\u001b[m\u001b[m\u001b[1m   2048.0 \u001b[m\u001b[mfree,\u001b[m\u001b[m\u001b[1m      0.0 \u001b[m\u001b[mused.\u001b[m\u001b[m\u001b[1m   5842.9 \u001b[m\u001b[mavail Mem \u001b[m\u001b[m\u001b[m\u001b[m\u001b[K\n",
      "\u001b[K\n",
      "\n",
      "\u001b[m\u001b[1m   2592 shubham   20   0   58.7g 391804 151868 R  71.7   4.8   6:46.03 code     \u001b[m\u001b[m\u001b[K\n",
      "\u001b[m   1389 shubham   20   0  318816 116200  69644 S  46.9   1.4   2:16.81 Xorg     \u001b[m\u001b[m\u001b[K\n",
      "\u001b[m   1566 shubham   20   0 5070988 374672 134724 S  34.4   4.6   1:49.90 gnome-s+ \u001b[m\u001b[m\u001b[K\n",
      "\u001b[m   2762 shubham   20   0   40.7g 148612  98308 S  24.4   1.8   0:28.58 code     \u001b[m\u001b[m\u001b[K\n",
      "\u001b[m   2545 shubham   20   0   32.6g 115056  99492 S  20.9   1.4   1:04.01 code     \u001b[m\u001b[m\u001b[K\n",
      "\u001b[m\u001b[1m   2712 shubham   20   0   44.7g 148236 102568 R  16.4   1.8   0:19.92 code     \u001b[m\u001b[m\u001b[K\n",
      "\u001b[m   2515 shubham   20   0   36.8g 165936 120412 S  12.9   2.0   0:50.50 code     \u001b[m\u001b[m\u001b[K\n",
      "\u001b[m   2913 shubham   20   0  767364  76008  14240 S   3.9   0.9   0:02.97 python3  \u001b[m\u001b[m\u001b[K\n",
      "\u001b[m   2677 shubham   20   0   36.6g 175568  66944 S   2.3   2.2   0:31.07 code     \u001b[m\u001b[m\u001b[K\n",
      "\u001b[m\u001b[1m   3261 shubham   20   0   11980   4044   3256 R   1.9   0.0   0:00.29 top      \u001b[m\u001b[m\u001b[K\n",
      "\u001b[m    387 root      20   0       0      0      0 I   1.0   0.0   0:02.18 kworker+ \u001b[m\u001b[m\u001b[K\n",
      "\u001b[m   2886 shubham   20   0  412788  91560  22832 S   1.0   1.1   0:04.38 python3  \u001b[m\u001b[m\u001b[K\n",
      "\u001b[m     17 root      20   0       0      0      0 I   0.6   0.0   0:05.37 kworker+ \u001b[m\u001b[m\u001b[K\n",
      "\u001b[m   1791 shubham   20   0  998248  60428  43552 S   0.6   0.7   0:02.70 evoluti+ \u001b[m\u001b[m\u001b[K\n",
      "\u001b[m     14 root      20   0       0      0      0 I   0.3   0.0   0:02.16 rcu_sch+ \u001b[m\u001b[m\u001b[K\n",
      "\u001b[m     33 root      rt   0       0      0      0 S   0.3   0.0   0:00.87 migrati+ \u001b[m\u001b[m\u001b[K\n",
      "\u001b[m\u001b[1m     40 root      20   0       0      0      0 R   0.3   0.0   0:00.33 ksoftir+ \u001b[m\u001b[m\u001b[K\u001b[H\u001b[mtop - 21:37:37 up 35 min,  1 user,  load average: 1.40, 0.67, 0.45\u001b[m\u001b[m\u001b[m\u001b[m\u001b[K\n",
      "Tasks:\u001b[m\u001b[m\u001b[1m 230 \u001b[m\u001b[mtotal,\u001b[m\u001b[m\u001b[1m   3 \u001b[m\u001b[mrunning,\u001b[m\u001b[m\u001b[1m 227 \u001b[m\u001b[msleeping,\u001b[m\u001b[m\u001b[1m   0 \u001b[m\u001b[mstopped,\u001b[m\u001b[m\u001b[1m   0 \u001b[m\u001b[mzombie\u001b[m\u001b[m\u001b[m\u001b[m\u001b[K\n",
      "%Cpu(s):\u001b[m\u001b[m\u001b[1m  6.5 \u001b[m\u001b[mus,\u001b[m\u001b[m\u001b[1m  8.0 \u001b[m\u001b[msy,\u001b[m\u001b[m\u001b[1m  0.0 \u001b[m\u001b[mni,\u001b[m\u001b[m\u001b[1m 85.1 \u001b[m\u001b[mid,\u001b[m\u001b[m\u001b[1m  0.1 \u001b[m\u001b[mwa,\u001b[m\u001b[m\u001b[1m  0.0 \u001b[m\u001b[mhi,\u001b[m\u001b[m\u001b[1m  0.4 \u001b[m\u001b[msi,\u001b[m\u001b[m\u001b[1m  0.0 \u001b[m\u001b[mst\u001b[m\u001b[m\u001b[m\u001b[m\u001b[K\n",
      "MiB Mem :\u001b[m\u001b[m\u001b[1m   7937.1 \u001b[m\u001b[mtotal,\u001b[m\u001b[m\u001b[1m   4318.2 \u001b[m\u001b[mfree,\u001b[m\u001b[m\u001b[1m   1744.8 \u001b[m\u001b[mused,\u001b[m\u001b[m\u001b[1m   1874.0 \u001b[m\u001b[mbuff/cache\u001b[m\u001b[m\u001b[m\u001b[m\u001b[K\n",
      "MiB Swap:\u001b[m\u001b[m\u001b[1m   2048.0 \u001b[m\u001b[mtotal,\u001b[m\u001b[m\u001b[1m   2048.0 \u001b[m\u001b[mfree,\u001b[m\u001b[m\u001b[1m      0.0 \u001b[m\u001b[mused.\u001b[m\u001b[m\u001b[1m   5841.5 \u001b[m\u001b[mavail Mem \u001b[m\u001b[m\u001b[m\u001b[m\u001b[K\n",
      "\u001b[K\n",
      "\n",
      "\u001b[m\u001b[1m   2592 shubham   20   0   58.7g 388076 145852 R  51.8   4.8   6:47.59 code     \u001b[m\u001b[m\u001b[K\n",
      "\u001b[m   1389 shubham   20   0  318816 116200  69644 S  11.6   1.4   2:17.16 Xorg     \u001b[m\u001b[m\u001b[K\n",
      "\u001b[m   2712 shubham   20   0   44.7g 147528 102568 S  10.0   1.8   0:20.22 code     \u001b[m\u001b[m\u001b[K\n",
      "\u001b[m   1566 shubham   20   0 5070988 374708 134724 S   8.6   4.6   1:50.16 gnome-s+ \u001b[m\u001b[m\u001b[K\n",
      "\u001b[m   2545 shubham   20   0   32.6g 108472  92916 S   6.6   1.3   1:04.21 code     \u001b[m\u001b[m\u001b[K\n",
      "\u001b[m\u001b[1m   2515 shubham   20   0   36.8g 166120 120412 R   4.7   2.0   0:50.64 code     \u001b[m\u001b[m\u001b[K\n",
      "\u001b[m   2913 shubham   20   0  767364  76008  14240 S   4.7   0.9   0:03.11 python3  \u001b[m\u001b[m\u001b[K\n",
      "\u001b[m   2762 shubham   20   0   40.7g 145640  94844 S   1.7   1.8   0:28.63 code     \u001b[m\u001b[m\u001b[K\n",
      "\u001b[m     14 root      20   0       0      0      0 I   0.3   0.0   0:02.17 rcu_sch+ \u001b[m\u001b[m\u001b[K\n",
      "\u001b[m     46 root      20   0       0      0      0 S   0.3   0.0   0:03.05 ksoftir+ \u001b[m\u001b[m\u001b[K\n",
      "\u001b[m   1322 shubham   20   0   11788   9036   3944 S   0.3   0.1   0:02.04 dbus-da+ \u001b[m\u001b[m\u001b[K\n",
      "\u001b[m   1606 shubham   20   0  275656  31572  18076 S   0.3   0.4   0:02.28 ibus-ex+ \u001b[m\u001b[m\u001b[K\n",
      "\u001b[m   1609 shubham   20   0  197868  28020  18252 S   0.3   0.3   0:01.41 ibus-x11 \u001b[m\u001b[m\u001b[K\n",
      "\u001b[m   1751 shubham   20   0  493772  29220  19128 S   0.3   0.4   0:01.68 gsd-pow+ \u001b[m\u001b[m\u001b[K\n",
      "\u001b[m   1769 shubham   20   0  345364  28140  18120 S   0.3   0.3   0:01.58 gsd-wac+ \u001b[m\u001b[m\u001b[K\n",
      "\u001b[m   1777 shubham   20   0  346536  29616  19128 S   0.3   0.4   0:02.18 gsd-xse+ \u001b[m\u001b[m\u001b[K\n",
      "\u001b[m   1868 shubham   20   0  990588 135884  53244 S   0.3   1.7   0:08.33 snap-st+ \u001b[m\u001b[m\u001b[K\u001b[H\u001b[mtop - 21:37:40 up 35 min,  1 user,  load average: 1.40, 0.67, 0.45\u001b[m\u001b[m\u001b[m\u001b[m\u001b[K\n",
      "\n",
      "%Cpu(s):\u001b[m\u001b[m\u001b[1m  7.7 \u001b[m\u001b[mus,\u001b[m\u001b[m\u001b[1m 15.7 \u001b[m\u001b[msy,\u001b[m\u001b[m\u001b[1m  0.0 \u001b[m\u001b[mni,\u001b[m\u001b[m\u001b[1m 74.8 \u001b[m\u001b[mid,\u001b[m\u001b[m\u001b[1m  0.0 \u001b[m\u001b[mwa,\u001b[m\u001b[m\u001b[1m  0.0 \u001b[m\u001b[mhi,\u001b[m\u001b[m\u001b[1m  1.9 \u001b[m\u001b[msi,\u001b[m\u001b[m\u001b[1m  0.0 \u001b[m\u001b[mst\u001b[m\u001b[m\u001b[m\u001b[m\u001b[K\n",
      "MiB Mem :\u001b[m\u001b[m\u001b[1m   7937.1 \u001b[m\u001b[mtotal,\u001b[m\u001b[m\u001b[1m   4336.4 \u001b[m\u001b[mfree,\u001b[m\u001b[m\u001b[1m   1736.7 \u001b[m\u001b[mused,\u001b[m\u001b[m\u001b[1m   1864.0 \u001b[m\u001b[mbuff/cache\u001b[m\u001b[m\u001b[m\u001b[m\u001b[K\n",
      "MiB Swap:\u001b[m\u001b[m\u001b[1m   2048.0 \u001b[m\u001b[mtotal,\u001b[m\u001b[m\u001b[1m   2048.0 \u001b[m\u001b[mfree,\u001b[m\u001b[m\u001b[1m      0.0 \u001b[m\u001b[mused.\u001b[m\u001b[m\u001b[1m   5859.7 \u001b[m\u001b[mavail Mem \u001b[m\u001b[m\u001b[m\u001b[m\u001b[K\n",
      "\u001b[K\n",
      "\n",
      "\u001b[m   2592 shubham   20   0   58.7g 389384 146088 S  51.2   4.8   6:49.14 code     \u001b[m\u001b[m\u001b[K\n",
      "\u001b[m\u001b[1m   1389 shubham   20   0  318816 116200  69644 R  34.0   1.4   2:18.19 Xorg     \u001b[m\u001b[m\u001b[K\n",
      "\u001b[m   1566 shubham   20   0 5070988 374648 134724 S  26.4   4.6   1:50.96 gnome-s+ \u001b[m\u001b[m\u001b[K\n",
      "\u001b[m   2545 shubham   20   0   32.6g  98764  83100 S  18.8   1.2   1:04.78 code     \u001b[m\u001b[m\u001b[K\n",
      "\u001b[m\u001b[1m   2762 shubham   20   0   40.6g 135404  84000 R   9.9   1.7   0:28.93 code     \u001b[m\u001b[m\u001b[K\n",
      "\u001b[m   2515 shubham   20   0   36.8g 166088 120396 S   9.2   2.0   0:50.92 code     \u001b[m\u001b[m\u001b[K\n",
      "\u001b[m   2913 shubham   20   0  767364  76008  14240 S   3.0   0.9   0:03.20 python3  \u001b[m\u001b[m\u001b[K\n",
      "\u001b[m     17 root      20   0       0      0      0 I   1.7   0.0   0:05.42 kworker+ \u001b[m\u001b[m\u001b[K\n",
      "\u001b[m   2047 shubham   20   0  493560  28404  19024 S   1.0   0.3   0:02.22 xdg-des+ \u001b[m\u001b[m\u001b[K\n",
      "\u001b[m     40 root      20   0       0      0      0 S   0.7   0.0   0:00.35 ksoftir+ \u001b[m\u001b[m\u001b[K\n",
      "\u001b[m   1777 shubham   20   0  346536  29616  19128 S   0.7   0.4   0:02.20 gsd-xse+ \u001b[m\u001b[m\u001b[K\n",
      "\u001b[m   1868 shubham   20   0  990588 135884  53244 S   0.7   1.7   0:08.35 snap-st+ \u001b[m\u001b[m\u001b[K\n",
      "\u001b[m   2043 shubham   20   0  610044  10492   9216 S   0.7   0.1   0:00.67 xdg-des+ \u001b[m\u001b[m\u001b[K\n",
      "\u001b[m   2677 shubham   20   0   36.6g 175064  66944 S   0.7   2.2   0:31.10 code     \u001b[m\u001b[m\u001b[K\n",
      "\u001b[m   2712 shubham   20   0   44.7g 145768 102568 S   0.7   1.8   0:20.24 code     \u001b[m\u001b[m\u001b[K\n",
      "\u001b[m   2952 shubham   20   0  419340  28904  19564 S   0.7   0.4   0:02.09 update-+ \u001b[m\u001b[m\u001b[K\n",
      "\u001b[m\u001b[1m   3261 shubham   20   0   11980   4044   3256 R   0.7   0.0   0:00.32 top      \u001b[m\u001b[m\u001b[K\u001b[H\u001b[mtop - 21:37:43 up 35 min,  1 user,  load average: 1.53, 0.71, 0.47\u001b[m\u001b[m\u001b[m\u001b[m\u001b[K\n",
      "Tasks:\u001b[m\u001b[m\u001b[1m 231 \u001b[m\u001b[mtotal,\u001b[m\u001b[m\u001b[1m   1 \u001b[m\u001b[mrunning,\u001b[m\u001b[m\u001b[1m 230 \u001b[m\u001b[msleeping,\u001b[m\u001b[m\u001b[1m   0 \u001b[m\u001b[mstopped,\u001b[m\u001b[m\u001b[1m   0 \u001b[m\u001b[mzombie\u001b[m\u001b[m\u001b[m\u001b[m\u001b[K\n",
      "%Cpu(s):\u001b[m\u001b[m\u001b[1m 12.6 \u001b[m\u001b[mus,\u001b[m\u001b[m\u001b[1m 19.9 \u001b[m\u001b[msy,\u001b[m\u001b[m\u001b[1m  0.0 \u001b[m\u001b[mni,\u001b[m\u001b[m\u001b[1m 64.6 \u001b[m\u001b[mid,\u001b[m\u001b[m\u001b[1m  0.4 \u001b[m\u001b[mwa,\u001b[m\u001b[m\u001b[1m  0.0 \u001b[m\u001b[mhi,\u001b[m\u001b[m\u001b[1m  2.5 \u001b[m\u001b[msi,\u001b[m\u001b[m\u001b[1m  0.0 \u001b[m\u001b[mst\u001b[m\u001b[m\u001b[m\u001b[m\u001b[K\n",
      "MiB Mem :\u001b[m\u001b[m\u001b[1m   7937.1 \u001b[m\u001b[mtotal,\u001b[m\u001b[m\u001b[1m   4279.4 \u001b[m\u001b[mfree,\u001b[m\u001b[m\u001b[1m   1773.6 \u001b[m\u001b[mused,\u001b[m\u001b[m\u001b[1m   1884.1 \u001b[m\u001b[mbuff/cache\u001b[m\u001b[m\u001b[m\u001b[m\u001b[K\n",
      "MiB Swap:\u001b[m\u001b[m\u001b[1m   2048.0 \u001b[m\u001b[mtotal,\u001b[m\u001b[m\u001b[1m   2048.0 \u001b[m\u001b[mfree,\u001b[m\u001b[m\u001b[1m      0.0 \u001b[m\u001b[mused.\u001b[m\u001b[m\u001b[1m   5806.0 \u001b[m\u001b[mavail Mem \u001b[m\u001b[m\u001b[m\u001b[m\u001b[K\n",
      "\u001b[K\n",
      "\n",
      "\u001b[m   2592 shubham   20   0   58.7g 411624 156916 S  73.0   5.1   6:51.33 code     \u001b[m\u001b[m\u001b[K\n",
      "\u001b[m   1566 shubham   20   0 5070988 374688 134724 S  37.7   4.6   1:52.09 gnome-s+ \u001b[m\u001b[m\u001b[K\n",
      "\u001b[m   1389 shubham   20   0  318816 116200  69644 S  30.0   1.4   2:19.09 Xorg     \u001b[m\u001b[m\u001b[K\n",
      "\u001b[m   2677 shubham   20   0   36.6g 179860  66944 S  20.7   2.2   0:31.72 code     \u001b[m\u001b[m\u001b[K\n",
      "\u001b[m   2545 shubham   20   0   32.6g 114872  99100 S  19.3   1.4   1:05.36 code     \u001b[m\u001b[m\u001b[K\n",
      "\u001b[m   2762 shubham   20   0   40.7g 143364  91656 S   9.7   1.8   0:29.22 code     \u001b[m\u001b[m\u001b[K\n",
      "\u001b[m   2515 shubham   20   0   36.8g 166604 120412 S   9.3   2.0   0:51.20 code     \u001b[m\u001b[m\u001b[K\n",
      "\u001b[m   3281 shubham   20   0   36.6g  74004  55724 S   6.7   0.9   0:00.20 code     \u001b[m\u001b[m\u001b[K\n",
      "\u001b[m   2913 shubham   20   0  767364  76008  14240 S   5.0   0.9   0:03.35 python3  \u001b[m\u001b[m\u001b[K\n",
      "\u001b[m   2712 shubham   20   0   44.7g 145776 102568 S   1.0   1.8   0:20.27 code     \u001b[m\u001b[m\u001b[K\n",
      "\u001b[m     46 root      20   0       0      0      0 S   0.7   0.0   0:03.07 ksoftir+ \u001b[m\u001b[m\u001b[K\n",
      "\u001b[m    387 root      20   0       0      0      0 I   0.7   0.0   0:02.20 kworker+ \u001b[m\u001b[m\u001b[K\n",
      "\u001b[m   2793 shubham   20   0   36.6g  81520  59936 S   0.7   1.0   0:01.79 code     \u001b[m\u001b[m\u001b[K\n",
      "\u001b[m   3275 root      20   0       0      0      0 I   0.7   0.0   0:00.04 kworker+ \u001b[m\u001b[m\u001b[K\n",
      "\u001b[m     14 root      20   0       0      0      0 I   0.3   0.0   0:02.19 rcu_sch+ \u001b[m\u001b[m\u001b[K\n",
      "\u001b[m     17 root      20   0       0      0      0 I   0.3   0.0   0:05.43 kworker+ \u001b[m\u001b[m\u001b[K\n",
      "\u001b[m     34 root      20   0       0      0      0 S   0.3   0.0   0:00.39 ksoftir+ \u001b[m\u001b[m\u001b[K\u001b[H\u001b[mtop - 21:37:46 up 35 min,  1 user,  load average: 1.41, 0.70, 0.47\u001b[m\u001b[m\u001b[m\u001b[m\u001b[K\n",
      "Tasks:\u001b[m\u001b[m\u001b[1m 231 \u001b[m\u001b[mtotal,\u001b[m\u001b[m\u001b[1m   4 \u001b[m\u001b[mrunning,\u001b[m\u001b[m\u001b[1m 227 \u001b[m\u001b[msleeping,\u001b[m\u001b[m\u001b[1m   0 \u001b[m\u001b[mstopped,\u001b[m\u001b[m\u001b[1m   0 \u001b[m\u001b[mzombie\u001b[m\u001b[m\u001b[m\u001b[m\u001b[K\n",
      "%Cpu(s):\u001b[m\u001b[m\u001b[1m  9.5 \u001b[m\u001b[mus,\u001b[m\u001b[m\u001b[1m 12.4 \u001b[m\u001b[msy,\u001b[m\u001b[m\u001b[1m  0.0 \u001b[m\u001b[mni,\u001b[m\u001b[m\u001b[1m 77.1 \u001b[m\u001b[mid,\u001b[m\u001b[m\u001b[1m  0.1 \u001b[m\u001b[mwa,\u001b[m\u001b[m\u001b[1m  0.0 \u001b[m\u001b[mhi,\u001b[m\u001b[m\u001b[1m  1.0 \u001b[m\u001b[msi,\u001b[m\u001b[m\u001b[1m  0.0 \u001b[m\u001b[mst\u001b[m\u001b[m\u001b[m\u001b[m\u001b[K\n",
      "MiB Mem :\u001b[m\u001b[m\u001b[1m   7937.1 \u001b[m\u001b[mtotal,\u001b[m\u001b[m\u001b[1m   4292.3 \u001b[m\u001b[mfree,\u001b[m\u001b[m\u001b[1m   1781.2 \u001b[m\u001b[mused,\u001b[m\u001b[m\u001b[1m   1863.6 \u001b[m\u001b[mbuff/cache\u001b[m\u001b[m\u001b[m\u001b[m\u001b[K\n",
      "MiB Swap:\u001b[m\u001b[m\u001b[1m   2048.0 \u001b[m\u001b[mtotal,\u001b[m\u001b[m\u001b[1m   2048.0 \u001b[m\u001b[mfree,\u001b[m\u001b[m\u001b[1m      0.0 \u001b[m\u001b[mused.\u001b[m\u001b[m\u001b[1m   5818.9 \u001b[m\u001b[mavail Mem \u001b[m\u001b[m\u001b[m\u001b[m\u001b[K\n",
      "\u001b[K\n",
      "\n",
      "\u001b[m\u001b[1m   2592 shubham   20   0   58.7g 405400 149192 R  70.6   5.0   6:53.47 code     \u001b[m\u001b[m\u001b[K\n",
      "\u001b[m\u001b[1m   1566 shubham   20   0 5070988 374688 134724 R  28.4   4.6   1:52.95 gnome-s+ \u001b[m\u001b[m\u001b[K\n",
      "\u001b[m\u001b[1m   1389 shubham   20   0  318816 116200  69644 R  22.8   1.4   2:19.78 Xorg     \u001b[m\u001b[m\u001b[K\n",
      "\u001b[m   2545 shubham   20   0   32.6g 100920  85148 S  11.9   1.2   1:05.72 code     \u001b[m\u001b[m\u001b[K\n",
      "\u001b[m   2515 shubham   20   0   36.8g 166720 120412 S   4.6   2.1   0:51.34 code     \u001b[m\u001b[m\u001b[K\n",
      "\u001b[m   2913 shubham   20   0  767364  76008  14240 S   4.0   0.9   0:03.47 python3  \u001b[m\u001b[m\u001b[K\n",
      "\u001b[m   2712 shubham   20   0   44.7g 141044 102568 S   3.3   1.7   0:20.37 code     \u001b[m\u001b[m\u001b[K\n",
      "\u001b[m   2762 shubham   20   0   40.6g 131816  78960 S   2.3   1.6   0:29.29 code     \u001b[m\u001b[m\u001b[K\n",
      "\u001b[m   1624 shubham   20   0  162920   6584   5948 S   1.3   0.1   0:00.58 at-spi2+ \u001b[m\u001b[m\u001b[K\n",
      "\u001b[m   2677 shubham   20   0   36.6g 181312  66944 S   1.3   2.2   0:31.76 code     \u001b[m\u001b[m\u001b[K\n",
      "\u001b[m     46 root      20   0       0      0      0 S   1.0   0.0   0:03.10 ksoftir+ \u001b[m\u001b[m\u001b[K\n",
      "\u001b[m     14 root      20   0       0      0      0 I   0.3   0.0   0:02.20 rcu_sch+ \u001b[m\u001b[m\u001b[K\n",
      "\u001b[m     17 root      20   0       0      0      0 I   0.3   0.0   0:05.44 kworker+ \u001b[m\u001b[m\u001b[K\n",
      "\u001b[m     45 root      rt   0       0      0      0 S   0.3   0.0   0:00.93 migrati+ \u001b[m\u001b[m\u001b[K\n",
      "\u001b[m     81 root      20   0       0      0      0 I   0.3   0.0   0:00.78 kworker+ \u001b[m\u001b[m\u001b[K\n",
      "\u001b[m    306 root      20   0       0      0      0 I   0.3   0.0   0:02.38 kworker+ \u001b[m\u001b[m\u001b[K\n",
      "\u001b[m    617 systemd+  20   0   25484  14296   9300 S   0.3   0.2   0:01.03 systemd+ \u001b[m\u001b[m\u001b[K\u001b[H\u001b[mtop - 21:37:49 up 35 min,  1 user,  load average: 1.41, 0.70, 0.47\u001b[m\u001b[m\u001b[m\u001b[m\u001b[K\n",
      "Tasks:\u001b[m\u001b[m\u001b[1m 231 \u001b[m\u001b[mtotal,\u001b[m\u001b[m\u001b[1m   2 \u001b[m\u001b[mrunning,\u001b[m\u001b[m\u001b[1m 229 \u001b[m\u001b[msleeping,\u001b[m\u001b[m\u001b[1m   0 \u001b[m\u001b[mstopped,\u001b[m\u001b[m\u001b[1m   0 \u001b[m\u001b[mzombie\u001b[m\u001b[m\u001b[m\u001b[m\u001b[K\n",
      "%Cpu(s):\u001b[m\u001b[m\u001b[1m  4.0 \u001b[m\u001b[mus,\u001b[m\u001b[m\u001b[1m  6.3 \u001b[m\u001b[msy,\u001b[m\u001b[m\u001b[1m  0.0 \u001b[m\u001b[mni,\u001b[m\u001b[m\u001b[1m 89.3 \u001b[m\u001b[mid,\u001b[m\u001b[m\u001b[1m  0.1 \u001b[m\u001b[mwa,\u001b[m\u001b[m\u001b[1m  0.0 \u001b[m\u001b[mhi,\u001b[m\u001b[m\u001b[1m  0.4 \u001b[m\u001b[msi,\u001b[m\u001b[m\u001b[1m  0.0 \u001b[m\u001b[mst\u001b[m\u001b[m\u001b[m\u001b[m\u001b[K\n",
      "MiB Mem :\u001b[m\u001b[m\u001b[1m   7937.1 \u001b[m\u001b[mtotal,\u001b[m\u001b[m\u001b[1m   4299.0 \u001b[m\u001b[mfree,\u001b[m\u001b[m\u001b[1m   1780.2 \u001b[m\u001b[mused,\u001b[m\u001b[m\u001b[1m   1857.8 \u001b[m\u001b[mbuff/cache\u001b[m\u001b[m\u001b[m\u001b[m\u001b[K\n",
      "MiB Swap:\u001b[m\u001b[m\u001b[1m   2048.0 \u001b[m\u001b[mtotal,\u001b[m\u001b[m\u001b[1m   2048.0 \u001b[m\u001b[mfree,\u001b[m\u001b[m\u001b[1m      0.0 \u001b[m\u001b[mused.\u001b[m\u001b[m\u001b[1m   5825.7 \u001b[m\u001b[mavail Mem \u001b[m\u001b[m\u001b[m\u001b[m\u001b[K\n",
      "\u001b[K\n",
      "\n",
      "\u001b[m   2592 shubham   20   0   58.7g 390736 145576 S  35.2   4.8   6:54.53 code     \u001b[m\u001b[m\u001b[K\n",
      "\u001b[m\u001b[1m   1566 shubham   20   0 5070988 374688 134724 R  13.0   4.6   1:53.34 gnome-s+ \u001b[m\u001b[m\u001b[K\n",
      "\u001b[m   2545 shubham   20   0   32.6g  97296  81532 S   9.3   1.2   1:06.00 code     \u001b[m\u001b[m\u001b[K\n",
      "\u001b[m   1389 shubham   20   0  318816 116200  69644 S   8.6   1.4   2:20.04 Xorg     \u001b[m\u001b[m\u001b[K\n",
      "\u001b[m   2913 shubham   20   0  767364  76008  14240 S   6.3   0.9   0:03.66 python3  \u001b[m\u001b[m\u001b[K\n",
      "\u001b[m   2762 shubham   20   0   40.6g 132324  78960 S   1.7   1.6   0:29.34 code     \u001b[m\u001b[m\u001b[K\n",
      "\u001b[m   2677 shubham   20   0   36.6g 182916  66944 S   1.0   2.3   0:31.79 code     \u001b[m\u001b[m\u001b[K\n",
      "\u001b[m   2515 shubham   20   0   36.8g 164788 118364 S   0.7   2.0   0:51.36 code     \u001b[m\u001b[m\u001b[K\n",
      "\u001b[m   2886 shubham   20   0  412788  91560  22832 S   0.7   1.1   0:04.42 python3  \u001b[m\u001b[m\u001b[K\n",
      "\u001b[m     28 root      20   0       0      0      0 S   0.3   0.0   0:00.11 ksoftir+ \u001b[m\u001b[m\u001b[K\n",
      "\u001b[m\u001b[1m   3261 shubham   20   0   11980   4044   3256 R   0.3   0.0   0:00.34 top      \u001b[m\u001b[m\u001b[K\n",
      "\u001b[m      1 root      20   0  168256  11648   8560 S   0.0   0.1   0:02.85 systemd  \u001b[m\u001b[m\u001b[K\n",
      "\u001b[m      2 root      20   0       0      0      0 S   0.0   0.0   0:00.11 kthreadd \u001b[m\u001b[m\u001b[K\n",
      "\u001b[m      3 root       0 -20       0      0      0 I   0.0   0.0   0:00.00 rcu_gp   \u001b[m\u001b[m\u001b[K\n",
      "\u001b[m      4 root       0 -20       0      0      0 I   0.0   0.0   0:00.00 rcu_par+ \u001b[m\u001b[m\u001b[K\n",
      "\u001b[m      5 root       0 -20       0      0      0 I   0.0   0.0   0:00.00 slub_fl+ \u001b[m\u001b[m\u001b[K\n",
      "\u001b[m      6 root       0 -20       0      0      0 I   0.0   0.0   0:00.00 netns    \u001b[m\u001b[m\u001b[K\u001b[H\u001b[mtop - 21:37:52 up 35 min,  1 user,  load average: 1.30, 0.69, 0.46\u001b[m\u001b[m\u001b[m\u001b[m\u001b[K\n",
      "Tasks:\u001b[m\u001b[m\u001b[1m 231 \u001b[m\u001b[mtotal,\u001b[m\u001b[m\u001b[1m   1 \u001b[m\u001b[mrunning,\u001b[m\u001b[m\u001b[1m 230 \u001b[m\u001b[msleeping,\u001b[m\u001b[m\u001b[1m   0 \u001b[m\u001b[mstopped,\u001b[m\u001b[m\u001b[1m   0 \u001b[m\u001b[mzombie\u001b[m\u001b[m\u001b[m\u001b[m\u001b[K\n",
      "%Cpu(s):\u001b[m\u001b[m\u001b[1m  2.9 \u001b[m\u001b[mus,\u001b[m\u001b[m\u001b[1m  3.1 \u001b[m\u001b[msy,\u001b[m\u001b[m\u001b[1m  0.0 \u001b[m\u001b[mni,\u001b[m\u001b[m\u001b[1m 93.8 \u001b[m\u001b[mid,\u001b[m\u001b[m\u001b[1m  0.0 \u001b[m\u001b[mwa,\u001b[m\u001b[m\u001b[1m  0.0 \u001b[m\u001b[mhi,\u001b[m\u001b[m\u001b[1m  0.1 \u001b[m\u001b[msi,\u001b[m\u001b[m\u001b[1m  0.0 \u001b[m\u001b[mst\u001b[m\u001b[m\u001b[m\u001b[m\u001b[K\n",
      "MiB Mem :\u001b[m\u001b[m\u001b[1m   7937.1 \u001b[m\u001b[mtotal,\u001b[m\u001b[m\u001b[1m   4307.8 \u001b[m\u001b[mfree,\u001b[m\u001b[m\u001b[1m   1775.9 \u001b[m\u001b[mused,\u001b[m\u001b[m\u001b[1m   1853.4 \u001b[m\u001b[mbuff/cache\u001b[m\u001b[m\u001b[m\u001b[m\u001b[K\n",
      "MiB Swap:\u001b[m\u001b[m\u001b[1m   2048.0 \u001b[m\u001b[mtotal,\u001b[m\u001b[m\u001b[1m   2048.0 \u001b[m\u001b[mfree,\u001b[m\u001b[m\u001b[1m      0.0 \u001b[m\u001b[mused.\u001b[m\u001b[m\u001b[1m   5834.4 \u001b[m\u001b[mavail Mem \u001b[m\u001b[m\u001b[m\u001b[m\u001b[K\n",
      "\u001b[K\n",
      "\n",
      "\u001b[m   2592 shubham   20   0   58.7g 384676 140968 S  22.6   4.7   6:55.21 code     \u001b[m\u001b[m\u001b[K\n",
      "\u001b[m   1566 shubham   20   0 5070988 374652 134724 S   6.3   4.6   1:53.53 gnome-s+ \u001b[m\u001b[m\u001b[K\n",
      "\u001b[m   2545 shubham   20   0   32.6g  92696  76948 S   6.3   1.1   1:06.19 code     \u001b[m\u001b[m\u001b[K\n",
      "\u001b[m   1389 shubham   20   0  318816 116200  69644 S   5.0   1.4   2:20.19 Xorg     \u001b[m\u001b[m\u001b[K\n",
      "\u001b[m   2677 shubham   20   0   36.6g 177992  66944 S   4.0   2.2   0:31.91 code     \u001b[m\u001b[m\u001b[K\n",
      "\u001b[m   2913 shubham   20   0  767364  76008  14240 S   3.3   0.9   0:03.76 python3  \u001b[m\u001b[m\u001b[K\n",
      "\u001b[m   2515 shubham   20   0   36.8g 164916 118364 S   1.0   2.0   0:51.39 code     \u001b[m\u001b[m\u001b[K\n",
      "\u001b[m   3281 shubham   20   0   36.6g  72844  55980 S   1.0   0.9   0:00.23 code     \u001b[m\u001b[m\u001b[K\n",
      "\u001b[m     14 root      20   0       0      0      0 I   0.3   0.0   0:02.21 rcu_sch+ \u001b[m\u001b[m\u001b[K\n",
      "\u001b[m    220 root       0 -20       0      0      0 I   0.3   0.0   0:00.54 kworker+ \u001b[m\u001b[m\u001b[K\n",
      "\u001b[m   1624 shubham   20   0  162920   6584   5948 S   0.3   0.1   0:00.59 at-spi2+ \u001b[m\u001b[m\u001b[K\n",
      "\u001b[m   2762 shubham   20   0   40.6g 132668  78960 S   0.3   1.6   0:29.35 code     \u001b[m\u001b[m\u001b[K\n",
      "\u001b[m   2886 shubham   20   0  412788  91560  22832 S   0.3   1.1   0:04.43 python3  \u001b[m\u001b[m\u001b[K\n",
      "\u001b[m\u001b[1m   3261 shubham   20   0   11980   4044   3256 R   0.3   0.0   0:00.35 top      \u001b[m\u001b[m\u001b[K\n",
      "\u001b[m   3275 root      20   0       0      0      0 I   0.3   0.0   0:00.05 kworker+ \u001b[m\u001b[m\u001b[K\n",
      "\u001b[m      1 root      20   0  168256  11648   8560 S   0.0   0.1   0:02.85 systemd  \u001b[m\u001b[m\u001b[K\n",
      "\u001b[m      2 root      20   0       0      0      0 S   0.0   0.0   0:00.11 kthreadd \u001b[m\u001b[m\u001b[K\u001b[H\u001b[mtop - 21:37:55 up 35 min,  1 user,  load average: 1.30, 0.69, 0.46\u001b[m\u001b[m\u001b[m\u001b[m\u001b[K\n",
      "Tasks:\u001b[m\u001b[m\u001b[1m 231 \u001b[m\u001b[mtotal,\u001b[m\u001b[m\u001b[1m   4 \u001b[m\u001b[mrunning,\u001b[m\u001b[m\u001b[1m 227 \u001b[m\u001b[msleeping,\u001b[m\u001b[m\u001b[1m   0 \u001b[m\u001b[mstopped,\u001b[m\u001b[m\u001b[1m   0 \u001b[m\u001b[mzombie\u001b[m\u001b[m\u001b[m\u001b[m\u001b[K\n",
      "%Cpu(s):\u001b[m\u001b[m\u001b[1m  7.5 \u001b[m\u001b[mus,\u001b[m\u001b[m\u001b[1m 10.1 \u001b[m\u001b[msy,\u001b[m\u001b[m\u001b[1m  0.1 \u001b[m\u001b[mni,\u001b[m\u001b[m\u001b[1m 81.7 \u001b[m\u001b[mid,\u001b[m\u001b[m\u001b[1m  0.1 \u001b[m\u001b[mwa,\u001b[m\u001b[m\u001b[1m  0.0 \u001b[m\u001b[mhi,\u001b[m\u001b[m\u001b[1m  0.6 \u001b[m\u001b[msi,\u001b[m\u001b[m\u001b[1m  0.0 \u001b[m\u001b[mst\u001b[m\u001b[m\u001b[m\u001b[m\u001b[K\n",
      "MiB Mem :\u001b[m\u001b[m\u001b[1m   7937.1 \u001b[m\u001b[mtotal,\u001b[m\u001b[m\u001b[1m   4297.8 \u001b[m\u001b[mfree,\u001b[m\u001b[m\u001b[1m   1769.4 \u001b[m\u001b[mused,\u001b[m\u001b[m\u001b[1m   1869.9 \u001b[m\u001b[mbuff/cache\u001b[m\u001b[m\u001b[m\u001b[m\u001b[K\n",
      "MiB Swap:\u001b[m\u001b[m\u001b[1m   2048.0 \u001b[m\u001b[mtotal,\u001b[m\u001b[m\u001b[1m   2048.0 \u001b[m\u001b[mfree,\u001b[m\u001b[m\u001b[1m      0.0 \u001b[m\u001b[mused.\u001b[m\u001b[m\u001b[1m   5824.5 \u001b[m\u001b[mavail Mem \u001b[m\u001b[m\u001b[m\u001b[m\u001b[K\n",
      "\u001b[K\n",
      "\n",
      "\u001b[m\u001b[1m   2592 shubham   20   0   58.7g 394276 151104 R  48.8   4.9   6:56.68 code     \u001b[m\u001b[m\u001b[K\n",
      "\u001b[m   1389 shubham   20   0  318816 116200  69644 S  25.9   1.4   2:20.97 Xorg     \u001b[m\u001b[m\u001b[K\n",
      "\u001b[m\u001b[1m   1566 shubham   20   0 5070988 374652 134724 R  24.9   4.6   1:54.28 gnome-s+ \u001b[m\u001b[m\u001b[K\n",
      "\u001b[m   2545 shubham   20   0   32.6g 102336  86632 S  12.0   1.3   1:06.55 code     \u001b[m\u001b[m\u001b[K\n",
      "\u001b[m   2515 shubham   20   0   36.8g 165292 118364 S   5.6   2.0   0:51.56 code     \u001b[m\u001b[m\u001b[K\n",
      "\u001b[m\u001b[1m   2913 shubham   20   0  767364  76008  14240 R   2.3   0.9   0:03.83 python3  \u001b[m\u001b[m\u001b[K\n",
      "\u001b[m   2762 shubham   20   0   40.6g 137832  83944 S   1.7   1.7   0:29.40 code     \u001b[m\u001b[m\u001b[K\n",
      "\u001b[m   1769 shubham   20   0  345364  28140  18120 S   0.7   0.3   0:01.61 gsd-wac+ \u001b[m\u001b[m\u001b[K\n",
      "\u001b[m    239 root      20   0       0      0      0 S   0.3   0.0   0:00.46 jbd2/sd+ \u001b[m\u001b[m\u001b[K\n",
      "\u001b[m   1511 shubham   20   0    7248   4432   3964 S   0.3   0.1   0:00.09 dbus-da+ \u001b[m\u001b[m\u001b[K\n",
      "\u001b[m   1609 shubham   20   0  197868  28020  18252 S   0.3   0.3   0:01.43 ibus-x11 \u001b[m\u001b[m\u001b[K\n",
      "\u001b[m   1738 shubham   20   0  494168  29084  19052 S   0.3   0.4   0:01.57 gsd-col+ \u001b[m\u001b[m\u001b[K\n",
      "\u001b[m   1749 shubham   20   0  901112  31100  20600 S   0.3   0.4   0:01.72 gsd-med+ \u001b[m\u001b[m\u001b[K\n",
      "\u001b[m   1751 shubham   20   0  493772  29220  19128 S   0.3   0.4   0:01.69 gsd-pow+ \u001b[m\u001b[m\u001b[K\n",
      "\u001b[m   1777 shubham   20   0  346536  29616  19128 S   0.3   0.4   0:02.21 gsd-xse+ \u001b[m\u001b[m\u001b[K\n",
      "\u001b[m   1791 shubham   20   0  998248  60428  43552 S   0.3   0.7   0:02.72 evoluti+ \u001b[m\u001b[m\u001b[K\n",
      "\u001b[m   1868 shubham   20   0  990588 135884  53244 S   0.3   1.7   0:08.36 snap-st+ \u001b[m\u001b[m\u001b[K\u001b[H\u001b[mtop - 21:37:58 up 35 min,  1 user,  load average: 1.43, 0.73, 0.48\u001b[m\u001b[m\u001b[m\u001b[m\u001b[K\n",
      "Tasks:\u001b[m\u001b[m\u001b[1m 231 \u001b[m\u001b[mtotal,\u001b[m\u001b[m\u001b[1m   2 \u001b[m\u001b[mrunning,\u001b[m\u001b[m\u001b[1m 229 \u001b[m\u001b[msleeping,\u001b[m\u001b[m\u001b[1m   0 \u001b[m\u001b[mstopped,\u001b[m\u001b[m\u001b[1m   0 \u001b[m\u001b[mzombie\u001b[m\u001b[m\u001b[m\u001b[m\u001b[K\n",
      "%Cpu(s):\u001b[m\u001b[m\u001b[1m  9.7 \u001b[m\u001b[mus,\u001b[m\u001b[m\u001b[1m 24.2 \u001b[m\u001b[msy,\u001b[m\u001b[m\u001b[1m  0.0 \u001b[m\u001b[mni,\u001b[m\u001b[m\u001b[1m 62.5 \u001b[m\u001b[mid,\u001b[m\u001b[m\u001b[1m  0.1 \u001b[m\u001b[mwa,\u001b[m\u001b[m\u001b[1m  0.0 \u001b[m\u001b[mhi,\u001b[m\u001b[m\u001b[1m  3.4 \u001b[m\u001b[msi,\u001b[m\u001b[m\u001b[1m  0.0 \u001b[m\u001b[mst\u001b[m\u001b[m\u001b[m\u001b[m\u001b[K\n",
      "MiB Mem :\u001b[m\u001b[m\u001b[1m   7937.1 \u001b[m\u001b[mtotal,\u001b[m\u001b[m\u001b[1m   4304.2 \u001b[m\u001b[mfree,\u001b[m\u001b[m\u001b[1m   1755.5 \u001b[m\u001b[mused,\u001b[m\u001b[m\u001b[1m   1877.3 \u001b[m\u001b[mbuff/cache\u001b[m\u001b[m\u001b[m\u001b[m\u001b[K\n",
      "MiB Swap:\u001b[m\u001b[m\u001b[1m   2048.0 \u001b[m\u001b[mtotal,\u001b[m\u001b[m\u001b[1m   2048.0 \u001b[m\u001b[mfree,\u001b[m\u001b[m\u001b[1m      0.0 \u001b[m\u001b[mused.\u001b[m\u001b[m\u001b[1m   5831.0 \u001b[m\u001b[mavail Mem \u001b[m\u001b[m\u001b[m\u001b[m\u001b[K\n",
      "\u001b[K\n",
      "\n",
      "\u001b[m   1389 shubham   20   0  318912 116200  69644 S  60.1   1.4   2:22.79 Xorg     \u001b[m\u001b[m\u001b[K\n",
      "\u001b[m   2592 shubham   20   0   58.7g 383776 151740 S  55.4   4.7   6:58.36 code     \u001b[m\u001b[m\u001b[K\n",
      "\u001b[m   1566 shubham   20   0 5071036 374692 134724 S  42.6   4.6   1:55.57 gnome-s+ \u001b[m\u001b[m\u001b[K\n",
      "\u001b[m   2545 shubham   20   0   32.6g 107304  91532 S  25.1   1.3   1:07.31 code     \u001b[m\u001b[m\u001b[K\n",
      "\u001b[m   2515 shubham   20   0   36.8g 161644 120412 S  18.2   2.0   0:52.11 code     \u001b[m\u001b[m\u001b[K\n",
      "\u001b[m   2762 shubham   20   0   40.7g 143876  88432 S  12.5   1.8   0:29.78 code     \u001b[m\u001b[m\u001b[K\n",
      "\u001b[m   2913 shubham   20   0  767364  76008  14240 S   6.6   0.9   0:04.03 python3  \u001b[m\u001b[m\u001b[K\n",
      "\u001b[m   2677 shubham   20   0   36.6g 178564  66944 S   2.0   2.2   0:31.98 code     \u001b[m\u001b[m\u001b[K\n",
      "\u001b[m     17 root      20   0       0      0      0 I   1.0   0.0   0:05.47 kworker+ \u001b[m\u001b[m\u001b[K\n",
      "\u001b[m    239 root      20   0       0      0      0 S   1.0   0.0   0:00.49 jbd2/sd+ \u001b[m\u001b[m\u001b[K\n",
      "\u001b[m   1322 shubham   20   0   11788   9036   3944 S   1.0   0.1   0:02.09 dbus-da+ \u001b[m\u001b[m\u001b[K\n",
      "\u001b[m\u001b[1m     14 root      20   0       0      0      0 R   0.7   0.0   0:02.23 rcu_sch+ \u001b[m\u001b[m\u001b[K\n",
      "\u001b[m     40 root      20   0       0      0      0 S   0.7   0.0   0:00.37 ksoftir+ \u001b[m\u001b[m\u001b[K\n",
      "\u001b[m    195 root       0 -20       0      0      0 I   0.7   0.0   0:00.53 kworker+ \u001b[m\u001b[m\u001b[K\n",
      "\u001b[m   1606 shubham   20   0  275656  31572  18076 S   0.7   0.4   0:02.31 ibus-ex+ \u001b[m\u001b[m\u001b[K\n",
      "\u001b[m   1749 shubham   20   0  901112  31100  20600 S   0.7   0.4   0:01.74 gsd-med+ \u001b[m\u001b[m\u001b[K\n",
      "\u001b[m   1791 shubham   20   0  998248  60428  43552 S   0.7   0.7   0:02.74 evoluti+ \u001b[m\u001b[m\u001b[K\u001b[H\u001b[mtop - 21:38:01 up 35 min,  1 user,  load average: 1.40, 0.73, 0.48\u001b[m\u001b[m\u001b[m\u001b[m\u001b[K\n",
      "Tasks:\u001b[m\u001b[m\u001b[1m 231 \u001b[m\u001b[mtotal,\u001b[m\u001b[m\u001b[1m   1 \u001b[m\u001b[mrunning,\u001b[m\u001b[m\u001b[1m 230 \u001b[m\u001b[msleeping,\u001b[m\u001b[m\u001b[1m   0 \u001b[m\u001b[mstopped,\u001b[m\u001b[m\u001b[1m   0 \u001b[m\u001b[mzombie\u001b[m\u001b[m\u001b[m\u001b[m\u001b[K\n",
      "%Cpu(s):\u001b[m\u001b[m\u001b[1m  6.1 \u001b[m\u001b[mus,\u001b[m\u001b[m\u001b[1m 12.1 \u001b[m\u001b[msy,\u001b[m\u001b[m\u001b[1m  0.0 \u001b[m\u001b[mni,\u001b[m\u001b[m\u001b[1m 81.5 \u001b[m\u001b[mid,\u001b[m\u001b[m\u001b[1m  0.1 \u001b[m\u001b[mwa,\u001b[m\u001b[m\u001b[1m  0.0 \u001b[m\u001b[mhi,\u001b[m\u001b[m\u001b[1m  0.3 \u001b[m\u001b[msi,\u001b[m\u001b[m\u001b[1m  0.0 \u001b[m\u001b[mst\u001b[m\u001b[m\u001b[m\u001b[m\u001b[K\n",
      "MiB Mem :\u001b[m\u001b[m\u001b[1m   7937.1 \u001b[m\u001b[mtotal,\u001b[m\u001b[m\u001b[1m   4315.7 \u001b[m\u001b[mfree,\u001b[m\u001b[m\u001b[1m   1760.4 \u001b[m\u001b[mused,\u001b[m\u001b[m\u001b[1m   1861.0 \u001b[m\u001b[mbuff/cache\u001b[m\u001b[m\u001b[m\u001b[m\u001b[K\n",
      "MiB Swap:\u001b[m\u001b[m\u001b[1m   2048.0 \u001b[m\u001b[mtotal,\u001b[m\u001b[m\u001b[1m   2048.0 \u001b[m\u001b[mfree,\u001b[m\u001b[m\u001b[1m      0.0 \u001b[m\u001b[mused.\u001b[m\u001b[m\u001b[1m   5842.5 \u001b[m\u001b[mavail Mem \u001b[m\u001b[m\u001b[m\u001b[m\u001b[K\n",
      "\u001b[K\n",
      "\n",
      "\u001b[m   1566 shubham   20   0 5071132 374692 134724 S  35.9   4.6   1:56.65 gnome-s+ \u001b[m\u001b[m\u001b[K\n",
      "\u001b[m   1389 shubham   20   0  319000 116236  69680 S  34.9   1.4   2:23.84 Xorg     \u001b[m\u001b[m\u001b[K\n",
      "\u001b[m   2592 shubham   20   0   58.7g 371760 137580 S  27.6   4.6   6:59.19 code     \u001b[m\u001b[m\u001b[K\n",
      "\u001b[m   2545 shubham   20   0   32.6g  93740  78124 S  14.0   1.2   1:07.73 code     \u001b[m\u001b[m\u001b[K\n",
      "\u001b[m   2515 shubham   20   0   36.8g 159252 118324 S   4.0   2.0   0:52.23 code     \u001b[m\u001b[m\u001b[K\n",
      "\u001b[m   2913 shubham   20   0  767364  76008  14240 S   3.7   0.9   0:04.14 python3  \u001b[m\u001b[m\u001b[K\n",
      "\u001b[m   2762 shubham   20   0   40.7g 144224  87664 S   1.3   1.8   0:29.82 code     \u001b[m\u001b[m\u001b[K\n",
      "\u001b[m   2677 shubham   20   0   36.6g 178540  66944 S   0.7   2.2   0:32.00 code     \u001b[m\u001b[m\u001b[K\n",
      "\u001b[m   2886 shubham   20   0  412788  91560  22832 S   0.7   1.1   0:04.46 python3  \u001b[m\u001b[m\u001b[K\n",
      "\u001b[m     14 root      20   0       0      0      0 I   0.3   0.0   0:02.24 rcu_sch+ \u001b[m\u001b[m\u001b[K\n",
      "\u001b[m   1609 shubham   20   0  197868  28020  18252 S   0.3   0.3   0:01.44 ibus-x11 \u001b[m\u001b[m\u001b[K\n",
      "\u001b[m   1738 shubham   20   0  494168  29084  19052 S   0.3   0.4   0:01.59 gsd-col+ \u001b[m\u001b[m\u001b[K\n",
      "\u001b[m   1751 shubham   20   0  493772  29220  19128 S   0.3   0.4   0:01.71 gsd-pow+ \u001b[m\u001b[m\u001b[K\n",
      "\u001b[m   1868 shubham   20   0  990588 135884  53244 S   0.3   1.7   0:08.39 snap-st+ \u001b[m\u001b[m\u001b[K\n",
      "\u001b[m      1 root      20   0  168256  11648   8560 S   0.0   0.1   0:02.85 systemd  \u001b[m\u001b[m\u001b[K\n",
      "\u001b[m      2 root      20   0       0      0      0 S   0.0   0.0   0:00.11 kthreadd \u001b[m\u001b[m\u001b[K\n",
      "\u001b[m      3 root       0 -20       0      0      0 I   0.0   0.0   0:00.00 rcu_gp   \u001b[m\u001b[m\u001b[K\u001b[H\u001b[mtop - 21:38:04 up 36 min,  1 user,  load average: 1.40, 0.73, 0.48\u001b[m\u001b[m\u001b[m\u001b[m\u001b[K\n",
      "\n",
      "%Cpu(s):\u001b[m\u001b[m\u001b[1m  5.6 \u001b[m\u001b[mus,\u001b[m\u001b[m\u001b[1m 11.7 \u001b[m\u001b[msy,\u001b[m\u001b[m\u001b[1m  0.0 \u001b[m\u001b[mni,\u001b[m\u001b[m\u001b[1m 82.3 \u001b[m\u001b[mid,\u001b[m\u001b[m\u001b[1m  0.1 \u001b[m\u001b[mwa,\u001b[m\u001b[m\u001b[1m  0.0 \u001b[m\u001b[mhi,\u001b[m\u001b[m\u001b[1m  0.4 \u001b[m\u001b[msi,\u001b[m\u001b[m\u001b[1m  0.0 \u001b[m\u001b[mst\u001b[m\u001b[m\u001b[m\u001b[m\u001b[K\n",
      "MiB Mem :\u001b[m\u001b[m\u001b[1m   7937.1 \u001b[m\u001b[mtotal,\u001b[m\u001b[m\u001b[1m   4304.4 \u001b[m\u001b[mfree,\u001b[m\u001b[m\u001b[1m   1772.8 \u001b[m\u001b[mused,\u001b[m\u001b[m\u001b[1m   1859.9 \u001b[m\u001b[mbuff/cache\u001b[m\u001b[m\u001b[m\u001b[m\u001b[K\n",
      "MiB Swap:\u001b[m\u001b[m\u001b[1m   2048.0 \u001b[m\u001b[mtotal,\u001b[m\u001b[m\u001b[1m   2048.0 \u001b[m\u001b[mfree,\u001b[m\u001b[m\u001b[1m      0.0 \u001b[m\u001b[mused.\u001b[m\u001b[m\u001b[1m   5831.2 \u001b[m\u001b[mavail Mem \u001b[m\u001b[m\u001b[m\u001b[m\u001b[K\n",
      "\u001b[K\n",
      "\n",
      "\u001b[m   1566 shubham   20   0 5071052 374696 134752 S  35.7   4.6   1:57.72 gnome-s+ \u001b[m\u001b[m\u001b[K\n",
      "\u001b[m   1389 shubham   20   0  318952 116248  69692 S  33.3   1.4   2:24.84 Xorg     \u001b[m\u001b[m\u001b[K\n",
      "\u001b[m   2592 shubham   20   0   58.7g 380928 136548 S  26.7   4.7   6:59.99 code     \u001b[m\u001b[m\u001b[K\n",
      "\u001b[m   2545 shubham   20   0   32.6g  93096  77508 S  11.3   1.1   1:08.07 code     \u001b[m\u001b[m\u001b[K\n",
      "\u001b[m   2515 shubham   20   0   36.8g 159240 118304 S   4.7   2.0   0:52.37 code     \u001b[m\u001b[m\u001b[K\n",
      "\u001b[m   2712 shubham   20   0   44.7g 143552 102568 S   3.3   1.8   0:20.49 code     \u001b[m\u001b[m\u001b[K\n",
      "\u001b[m   2913 shubham   20   0  767364  76008  14240 S   2.7   0.9   0:04.22 python3  \u001b[m\u001b[m\u001b[K\n",
      "\u001b[m   2762 shubham   20   0   40.7g 144608  87664 S   0.7   1.8   0:29.84 code     \u001b[m\u001b[m\u001b[K\n",
      "\u001b[m     14 root      20   0       0      0      0 I   0.3   0.0   0:02.25 rcu_sch+ \u001b[m\u001b[m\u001b[K\n",
      "\u001b[m     17 root      20   0       0      0      0 I   0.3   0.0   0:05.48 kworker+ \u001b[m\u001b[m\u001b[K\n",
      "\u001b[m    209 root      20   0       0      0      0 I   0.3   0.0   0:01.16 kworker+ \u001b[m\u001b[m\u001b[K\n",
      "\u001b[m   1769 shubham   20   0  345364  28140  18120 S   0.3   0.3   0:01.62 gsd-wac+ \u001b[m\u001b[m\u001b[K\n",
      "\u001b[m   1777 shubham   20   0  346536  29616  19128 S   0.3   0.4   0:02.23 gsd-xse+ \u001b[m\u001b[m\u001b[K\n",
      "\u001b[m   2677 shubham   20   0   36.6g 178436  66944 S   0.3   2.2   0:32.01 code     \u001b[m\u001b[m\u001b[K\n",
      "\u001b[m   3281 shubham   20   0   36.6g  72844  55980 S   0.3   0.9   0:00.24 code     \u001b[m\u001b[m\u001b[K\n",
      "\u001b[m      1 root      20   0  168256  11648   8560 S   0.0   0.1   0:02.85 systemd  \u001b[m\u001b[m\u001b[K\n",
      "\u001b[m      2 root      20   0       0      0      0 S   0.0   0.0   0:00.11 kthreadd \u001b[m\u001b[m\u001b[K\u001b[H\u001b[mtop - 21:38:07 up 36 min,  1 user,  load average: 1.37, 0.74, 0.48\u001b[m\u001b[m\u001b[m\u001b[m\u001b[K\n",
      "\n",
      "%Cpu(s):\u001b[m\u001b[m\u001b[1m  7.3 \u001b[m\u001b[mus,\u001b[m\u001b[m\u001b[1m 13.6 \u001b[m\u001b[msy,\u001b[m\u001b[m\u001b[1m  0.0 \u001b[m\u001b[mni,\u001b[m\u001b[m\u001b[1m 78.7 \u001b[m\u001b[mid,\u001b[m\u001b[m\u001b[1m  0.0 \u001b[m\u001b[mwa,\u001b[m\u001b[m\u001b[1m  0.0 \u001b[m\u001b[mhi,\u001b[m\u001b[m\u001b[1m  0.5 \u001b[m\u001b[msi,\u001b[m\u001b[m\u001b[1m  0.0 \u001b[m\u001b[mst\u001b[m\u001b[m\u001b[m\u001b[m\u001b[K\n",
      "MiB Mem :\u001b[m\u001b[m\u001b[1m   7937.1 \u001b[m\u001b[mtotal,\u001b[m\u001b[m\u001b[1m   4301.3 \u001b[m\u001b[mfree,\u001b[m\u001b[m\u001b[1m   1773.6 \u001b[m\u001b[mused,\u001b[m\u001b[m\u001b[1m   1862.1 \u001b[m\u001b[mbuff/cache\u001b[m\u001b[m\u001b[m\u001b[m\u001b[K\n",
      "MiB Swap:\u001b[m\u001b[m\u001b[1m   2048.0 \u001b[m\u001b[mtotal,\u001b[m\u001b[m\u001b[1m   2048.0 \u001b[m\u001b[mfree,\u001b[m\u001b[m\u001b[1m      0.0 \u001b[m\u001b[mused.\u001b[m\u001b[m\u001b[1m   5828.1 \u001b[m\u001b[mavail Mem \u001b[m\u001b[m\u001b[m\u001b[m\u001b[K\n",
      "\u001b[K\n",
      "\n",
      "\u001b[m   1566 shubham   20   0 5071948 375464 135496 S  44.9   4.6   1:59.07 gnome-s+ \u001b[m\u001b[m\u001b[K\n",
      "\u001b[m   1389 shubham   20   0  322016 117652  71096 S  34.2   1.4   2:25.87 Xorg     \u001b[m\u001b[m\u001b[K\n",
      "\u001b[m   2592 shubham   20   0   58.7g 379876 136548 S  30.9   4.7   7:00.92 code     \u001b[m\u001b[m\u001b[K\n",
      "\u001b[m   2545 shubham   20   0   32.6g  94920  79036 S  18.9   1.2   1:08.64 code     \u001b[m\u001b[m\u001b[K\n",
      "\u001b[m   2913 shubham   20   0  767364  76008  14240 S   5.3   0.9   0:04.38 python3  \u001b[m\u001b[m\u001b[K\n",
      "\u001b[m   2515 shubham   20   0   36.8g 161068 119120 S   3.0   2.0   0:52.46 code     \u001b[m\u001b[m\u001b[K\n",
      "\u001b[m   2762 shubham   20   0   40.7g 144724  87664 S   1.3   1.8   0:29.88 code     \u001b[m\u001b[m\u001b[K\n",
      "\u001b[m     17 root      20   0       0      0      0 I   1.0   0.0   0:05.51 kworker+ \u001b[m\u001b[m\u001b[K\n",
      "\u001b[m     14 root      20   0       0      0      0 I   0.7   0.0   0:02.27 rcu_sch+ \u001b[m\u001b[m\u001b[K\n",
      "\u001b[m   2677 shubham   20   0   36.6g 178480  66944 S   0.7   2.2   0:32.03 code     \u001b[m\u001b[m\u001b[K\n",
      "\u001b[m     81 root      20   0       0      0      0 I   0.3   0.0   0:00.79 kworker+ \u001b[m\u001b[m\u001b[K\n",
      "\u001b[m    306 root      20   0       0      0      0 I   0.3   0.0   0:02.39 kworker+ \u001b[m\u001b[m\u001b[K\n",
      "\u001b[m    443 root     -51   0       0      0      0 S   0.3   0.0   0:00.62 irq/18-+ \u001b[m\u001b[m\u001b[K\n",
      "\u001b[m   3027 root      20   0       0      0      0 I   0.3   0.0   0:00.41 kworker+ \u001b[m\u001b[m\u001b[K\n",
      "\u001b[m\u001b[1m   3261 shubham   20   0   11980   4044   3256 R   0.3   0.0   0:00.37 top      \u001b[m\u001b[m\u001b[K\n",
      "\n",
      "\u001b[H\u001b[mtop - 21:38:10 up 36 min,  1 user,  load average: 1.37, 0.74, 0.48\u001b[m\u001b[m\u001b[m\u001b[m\u001b[K\n",
      "\n",
      "%Cpu(s):\u001b[m\u001b[m\u001b[1m  7.4 \u001b[m\u001b[mus,\u001b[m\u001b[m\u001b[1m 14.9 \u001b[m\u001b[msy,\u001b[m\u001b[m\u001b[1m  0.0 \u001b[m\u001b[mni,\u001b[m\u001b[m\u001b[1m 76.6 \u001b[m\u001b[mid,\u001b[m\u001b[m\u001b[1m  0.1 \u001b[m\u001b[mwa,\u001b[m\u001b[m\u001b[1m  0.0 \u001b[m\u001b[mhi,\u001b[m\u001b[m\u001b[1m  1.0 \u001b[m\u001b[msi,\u001b[m\u001b[m\u001b[1m  0.0 \u001b[m\u001b[mst\u001b[m\u001b[m\u001b[m\u001b[m\u001b[K\n",
      "MiB Mem :\u001b[m\u001b[m\u001b[1m   7937.1 \u001b[m\u001b[mtotal,\u001b[m\u001b[m\u001b[1m   4314.3 \u001b[m\u001b[mfree,\u001b[m\u001b[m\u001b[1m   1760.5 \u001b[m\u001b[mused,\u001b[m\u001b[m\u001b[1m   1862.2 \u001b[m\u001b[mbuff/cache\u001b[m\u001b[m\u001b[m\u001b[m\u001b[K\n",
      "MiB Swap:\u001b[m\u001b[m\u001b[1m   2048.0 \u001b[m\u001b[mtotal,\u001b[m\u001b[m\u001b[1m   2048.0 \u001b[m\u001b[mfree,\u001b[m\u001b[m\u001b[1m      0.0 \u001b[m\u001b[mused.\u001b[m\u001b[m\u001b[1m   5841.1 \u001b[m\u001b[mavail Mem \u001b[m\u001b[m\u001b[m\u001b[m\u001b[K\n",
      "\u001b[K\n",
      "\n",
      "\u001b[m   1566 shubham   20   0 5071948 375464 135496 S  49.8   4.6   2:00.57 gnome-s+ \u001b[m\u001b[m\u001b[K\n",
      "\u001b[m   1389 shubham   20   0  322016 117652  71096 S  35.5   1.4   2:26.94 Xorg     \u001b[m\u001b[m\u001b[K\n",
      "\u001b[m   2592 shubham   20   0   58.7g 369748 136552 S  33.2   4.5   7:01.92 code     \u001b[m\u001b[m\u001b[K\n",
      "\u001b[m   2545 shubham   20   0   32.6g  94932  79112 S  22.6   1.2   1:09.32 code     \u001b[m\u001b[m\u001b[K\n",
      "\u001b[m   2913 shubham   20   0  767364  76008  14240 S   6.0   0.9   0:04.56 python3  \u001b[m\u001b[m\u001b[K\n",
      "\u001b[m   2762 shubham   20   0   40.7g 145496  87664 S   2.7   1.8   0:29.96 code     \u001b[m\u001b[m\u001b[K\n",
      "\u001b[m   2515 shubham   20   0   36.8g 161204 119120 S   1.7   2.0   0:52.51 code     \u001b[m\u001b[m\u001b[K\n",
      "\u001b[m   2677 shubham   20   0   36.6g 177296  66944 S   1.0   2.2   0:32.06 code     \u001b[m\u001b[m\u001b[K\n",
      "\u001b[m     14 root      20   0       0      0      0 I   0.7   0.0   0:02.29 rcu_sch+ \u001b[m\u001b[m\u001b[K\n",
      "\u001b[m     17 root      20   0       0      0      0 I   0.7   0.0   0:05.53 kworker+ \u001b[m\u001b[m\u001b[K\n",
      "\u001b[m    387 root      20   0       0      0      0 I   0.3   0.0   0:02.21 kworker+ \u001b[m\u001b[m\u001b[K\n",
      "\u001b[m   2712 shubham   20   0   44.7g 142272 102568 S   0.3   1.8   0:20.50 code     \u001b[m\u001b[m\u001b[K\n",
      "\u001b[m\u001b[1m   3261 shubham   20   0   11980   4044   3256 R   0.3   0.0   0:00.38 top      \u001b[m\u001b[m\u001b[K\n",
      "\u001b[m      1 root      20   0  168256  11648   8560 S   0.0   0.1   0:02.85 systemd  \u001b[m\u001b[m\u001b[K\n",
      "\u001b[m      2 root      20   0       0      0      0 S   0.0   0.0   0:00.11 kthreadd \u001b[m\u001b[m\u001b[K\n",
      "\u001b[m      3 root       0 -20       0      0      0 I   0.0   0.0   0:00.00 rcu_gp   \u001b[m\u001b[m\u001b[K\n",
      "\u001b[m      4 root       0 -20       0      0      0 I   0.0   0.0   0:00.00 rcu_par+ \u001b[m\u001b[m\u001b[K\u001b[H\u001b[mtop - 21:38:13 up 36 min,  1 user,  load average: 1.42, 0.76, 0.49\u001b[m\u001b[m\u001b[m\u001b[m\u001b[K\n",
      "Tasks:\u001b[m\u001b[m\u001b[1m 231 \u001b[m\u001b[mtotal,\u001b[m\u001b[m\u001b[1m   2 \u001b[m\u001b[mrunning,\u001b[m\u001b[m\u001b[1m 229 \u001b[m\u001b[msleeping,\u001b[m\u001b[m\u001b[1m   0 \u001b[m\u001b[mstopped,\u001b[m\u001b[m\u001b[1m   0 \u001b[m\u001b[mzombie\u001b[m\u001b[m\u001b[m\u001b[m\u001b[K\n",
      "%Cpu(s):\u001b[m\u001b[m\u001b[1m  9.5 \u001b[m\u001b[mus,\u001b[m\u001b[m\u001b[1m 20.7 \u001b[m\u001b[msy,\u001b[m\u001b[m\u001b[1m  0.0 \u001b[m\u001b[mni,\u001b[m\u001b[m\u001b[1m 68.0 \u001b[m\u001b[mid,\u001b[m\u001b[m\u001b[1m  0.1 \u001b[m\u001b[mwa,\u001b[m\u001b[m\u001b[1m  0.0 \u001b[m\u001b[mhi,\u001b[m\u001b[m\u001b[1m  1.7 \u001b[m\u001b[msi,\u001b[m\u001b[m\u001b[1m  0.0 \u001b[m\u001b[mst\u001b[m\u001b[m\u001b[m\u001b[m\u001b[K\n",
      "MiB Mem :\u001b[m\u001b[m\u001b[1m   7937.1 \u001b[m\u001b[mtotal,\u001b[m\u001b[m\u001b[1m   4312.5 \u001b[m\u001b[mfree,\u001b[m\u001b[m\u001b[1m   1763.2 \u001b[m\u001b[mused,\u001b[m\u001b[m\u001b[1m   1861.4 \u001b[m\u001b[mbuff/cache\u001b[m\u001b[m\u001b[m\u001b[m\u001b[K\n",
      "MiB Swap:\u001b[m\u001b[m\u001b[1m   2048.0 \u001b[m\u001b[mtotal,\u001b[m\u001b[m\u001b[1m   2048.0 \u001b[m\u001b[mfree,\u001b[m\u001b[m\u001b[1m      0.0 \u001b[m\u001b[mused.\u001b[m\u001b[m\u001b[1m   5839.6 \u001b[m\u001b[mavail Mem \u001b[m\u001b[m\u001b[m\u001b[m\u001b[K\n",
      "\u001b[K\n",
      "\n",
      "\u001b[m   1389 shubham   20   0  319776 116972  70416 S  56.0   1.4   2:28.62 Xorg     \u001b[m\u001b[m\u001b[K\n",
      "\u001b[m   1566 shubham   20   0 5071948 375464 135496 S  49.0   4.6   2:02.04 gnome-s+ \u001b[m\u001b[m\u001b[K\n",
      "\u001b[m   2592 shubham   20   0   58.7g 384116 137080 S  42.3   4.7   7:03.19 code     \u001b[m\u001b[m\u001b[K\n",
      "\u001b[m   2545 shubham   20   0   32.6g  93484  77900 S  26.3   1.2   1:10.11 code     \u001b[m\u001b[m\u001b[K\n",
      "\u001b[m   2762 shubham   20   0   40.7g 146032  87664 S  10.0   1.8   0:30.26 code     \u001b[m\u001b[m\u001b[K\n",
      "\u001b[m   2515 shubham   20   0   36.8g 161840 118584 S   8.3   2.0   0:52.76 code     \u001b[m\u001b[m\u001b[K\n",
      "\u001b[m   2913 shubham   20   0  767364  76008  14240 S   3.3   0.9   0:04.66 python3  \u001b[m\u001b[m\u001b[K\n",
      "\u001b[m     17 root      20   0       0      0      0 I   2.3   0.0   0:05.60 kworker+ \u001b[m\u001b[m\u001b[K\n",
      "\u001b[m   1868 shubham   20   0  990588 135884  53244 S   1.3   1.7   0:08.43 snap-st+ \u001b[m\u001b[m\u001b[K\n",
      "\u001b[m     14 root      20   0       0      0      0 I   0.7   0.0   0:02.31 rcu_sch+ \u001b[m\u001b[m\u001b[K\n",
      "\u001b[m   2677 shubham   20   0   36.6g 177908  66944 S   0.7   2.2   0:32.08 code     \u001b[m\u001b[m\u001b[K\n",
      "\u001b[m    209 root      20   0       0      0      0 I   0.3   0.0   0:01.17 kworker+ \u001b[m\u001b[m\u001b[K\n",
      "\u001b[m    387 root      20   0       0      0      0 I   0.3   0.0   0:02.22 kworker+ \u001b[m\u001b[m\u001b[K\n",
      "\u001b[m    443 root     -51   0       0      0      0 S   0.3   0.0   0:00.63 irq/18-+ \u001b[m\u001b[m\u001b[K\n",
      "\u001b[m    863 rtkit     21   1  152936   3140   2900 S   0.3   0.0   0:00.22 rtkit-d+ \u001b[m\u001b[m\u001b[K\n",
      "\u001b[m   1624 shubham   20   0  162920   6584   5948 S   0.3   0.1   0:00.60 at-spi2+ \u001b[m\u001b[m\u001b[K\n",
      "\u001b[m   1738 shubham   20   0  494168  29084  19052 S   0.3   0.4   0:01.60 gsd-col+ \u001b[m\u001b[m\u001b[K\u001b[H\u001b[mtop - 21:38:16 up 36 min,  1 user,  load average: 1.46, 0.78, 0.50\u001b[m\u001b[m\u001b[m\u001b[m\u001b[K\n",
      "Tasks:\u001b[m\u001b[m\u001b[1m 231 \u001b[m\u001b[mtotal,\u001b[m\u001b[m\u001b[1m   7 \u001b[m\u001b[mrunning,\u001b[m\u001b[m\u001b[1m 224 \u001b[m\u001b[msleeping,\u001b[m\u001b[m\u001b[1m   0 \u001b[m\u001b[mstopped,\u001b[m\u001b[m\u001b[1m   0 \u001b[m\u001b[mzombie\u001b[m\u001b[m\u001b[m\u001b[m\u001b[K\n",
      "%Cpu(s):\u001b[m\u001b[m\u001b[1m  6.7 \u001b[m\u001b[mus,\u001b[m\u001b[m\u001b[1m 15.8 \u001b[m\u001b[msy,\u001b[m\u001b[m\u001b[1m  0.0 \u001b[m\u001b[mni,\u001b[m\u001b[m\u001b[1m 76.7 \u001b[m\u001b[mid,\u001b[m\u001b[m\u001b[1m  0.1 \u001b[m\u001b[mwa,\u001b[m\u001b[m\u001b[1m  0.0 \u001b[m\u001b[mhi,\u001b[m\u001b[m\u001b[1m  0.8 \u001b[m\u001b[msi,\u001b[m\u001b[m\u001b[1m  0.0 \u001b[m\u001b[mst\u001b[m\u001b[m\u001b[m\u001b[m\u001b[K\n",
      "MiB Mem :\u001b[m\u001b[m\u001b[1m   7937.1 \u001b[m\u001b[mtotal,\u001b[m\u001b[m\u001b[1m   4285.6 \u001b[m\u001b[mfree,\u001b[m\u001b[m\u001b[1m   1766.0 \u001b[m\u001b[mused,\u001b[m\u001b[m\u001b[1m   1885.4 \u001b[m\u001b[mbuff/cache\u001b[m\u001b[m\u001b[m\u001b[m\u001b[K\n",
      "MiB Swap:\u001b[m\u001b[m\u001b[1m   2048.0 \u001b[m\u001b[mtotal,\u001b[m\u001b[m\u001b[1m   2048.0 \u001b[m\u001b[mfree,\u001b[m\u001b[m\u001b[1m      0.0 \u001b[m\u001b[mused.\u001b[m\u001b[m\u001b[1m   5812.8 \u001b[m\u001b[mavail Mem \u001b[m\u001b[m\u001b[m\u001b[m\u001b[K\n",
      "\u001b[K\n",
      "\n",
      "\u001b[m\u001b[1m   2592 shubham   20   0   58.7g 409872 161024 R  42.2   5.0   7:04.46 code     \u001b[m\u001b[m\u001b[K\n",
      "\u001b[m   1566 shubham   20   0 5070988 374676 134724 S  36.2   4.6   2:03.13 gnome-s+ \u001b[m\u001b[m\u001b[K\n",
      "\u001b[m\u001b[1m   1389 shubham   20   0  318816 116200  69644 R  33.9   1.4   2:29.64 Xorg     \u001b[m\u001b[m\u001b[K\n",
      "\u001b[m   2545 shubham   20   0   32.6g 116820 101080 S  17.9   1.4   1:10.65 code     \u001b[m\u001b[m\u001b[K\n",
      "\u001b[m\u001b[1m   2762 shubham   20   0   40.7g 146064  87664 R  10.3   1.8   0:30.57 code     \u001b[m\u001b[m\u001b[K\n",
      "\u001b[m   2515 shubham   20   0   36.8g 160220 118584 S   4.7   2.0   0:52.90 code     \u001b[m\u001b[m\u001b[K\n",
      "\u001b[m   2913 shubham   20   0  767364  76008  14240 S   3.0   0.9   0:04.75 python3  \u001b[m\u001b[m\u001b[K\n",
      "\u001b[m   2677 shubham   20   0   36.6g 177140  66944 S   2.3   2.2   0:32.15 code     \u001b[m\u001b[m\u001b[K\n",
      "\u001b[m   2874 shubham   20   0   36.6g 150200  62072 S   0.7   1.8   0:17.95 code     \u001b[m\u001b[m\u001b[K\n",
      "\u001b[m\u001b[1m     14 root      20   0       0      0      0 R   0.3   0.0   0:02.32 rcu_sch+ \u001b[m\u001b[m\u001b[K\n",
      "\u001b[m     17 root      20   0       0      0      0 I   0.3   0.0   0:05.61 kworker+ \u001b[m\u001b[m\u001b[K\n",
      "\u001b[m    443 root     -51   0       0      0      0 S   0.3   0.0   0:00.64 irq/18-+ \u001b[m\u001b[m\u001b[K\n",
      "\u001b[m   1769 shubham   20   0  345364  28140  18120 S   0.3   0.3   0:01.63 gsd-wac+ \u001b[m\u001b[m\u001b[K\n",
      "\u001b[m   1777 shubham   20   0  346536  29616  19128 S   0.3   0.4   0:02.24 gsd-xse+ \u001b[m\u001b[m\u001b[K\n",
      "\u001b[m   2886 shubham   20   0  412788  91560  22832 S   0.3   1.1   0:04.47 python3  \u001b[m\u001b[m\u001b[K\n",
      "\u001b[m   2952 shubham   20   0  419340  28904  19564 S   0.3   0.4   0:02.12 update-+ \u001b[m\u001b[m\u001b[K\n",
      "\u001b[m   3126 root      20   0       0      0      0 I   0.3   0.0   0:00.24 kworker+ \u001b[m\u001b[m\u001b[K\u001b[?1l\u001b>\u001b[25;1H\n",
      "\u001b[K"
     ]
    }
   ],
   "source": [
    "## See/display the real-time information about running processes\n",
    "!top"
   ]
  },
  {
   "cell_type": "code",
   "execution_count": null,
   "id": "8307c4df",
   "metadata": {},
   "outputs": [],
   "source": [
    "## terminate/kill the process\n",
    "!kill <processnum>"
   ]
  },
  {
   "cell_type": "markdown",
   "id": "66c6b7ca",
   "metadata": {},
   "source": [
    "## Linux - Text Processing\n",
    "\n",
    "* Powerful commands for text processing, manipulation, filter, search, and transformation\n",
    "* Essential for automating tasks, handling logs, managing data and writing scripts."
   ]
  },
  {
   "cell_type": "code",
   "execution_count": 5,
   "id": "aafe8018",
   "metadata": {},
   "outputs": [],
   "source": [
    "!gedit file3"
   ]
  },
  {
   "cell_type": "code",
   "execution_count": 6,
   "id": "599f451e",
   "metadata": {},
   "outputs": [
    {
     "name": "stdout",
     "output_type": "stream",
     "text": [
      "Hello Ved!\n",
      "How are you?\n",
      "Ved is a good student.\n",
      "He is talented!\n"
     ]
    }
   ],
   "source": [
    "\n",
    "!cat file3 "
   ]
  },
  {
   "cell_type": "code",
   "execution_count": 8,
   "id": "3dc722e3",
   "metadata": {},
   "outputs": [
    {
     "name": "stdout",
     "output_type": "stream",
     "text": [
      "Hello Ved!\n",
      "Ved is a good student.\n"
     ]
    }
   ],
   "source": [
    "### Search for patterns in a file , grep command\n",
    "\n",
    "!grep \"Ved\" file3"
   ]
  },
  {
   "cell_type": "code",
   "execution_count": 10,
   "id": "4732939d",
   "metadata": {},
   "outputs": [
    {
     "name": "stdout",
     "output_type": "stream",
     "text": [
      "1:Hello Ved!\n",
      "3:Ved is a good student.\n"
     ]
    }
   ],
   "source": [
    "## -n flag gives line number of the match\n",
    "!grep -n \"Ved\" file3"
   ]
  },
  {
   "cell_type": "code",
   "execution_count": 12,
   "id": "b9d59706",
   "metadata": {},
   "outputs": [
    {
     "name": "stdout",
     "output_type": "stream",
     "text": [
      "file3:Hello Ved!\n",
      "file3:Ved is a good student.\n",
      "Test/Child/child.txt:Ved is child of Shyam\n"
     ]
    }
   ],
   "source": [
    "## Search for a pattern recursively in a folder\n",
    "!grep -r \"Ved\" *"
   ]
  },
  {
   "cell_type": "markdown",
   "id": "66215f2b",
   "metadata": {},
   "source": [
    "## Pattern Scanning and Processing\n",
    "\n",
    "* awk command\n",
    "\n",
    "* It allows for pattern scanning, test extraction, and data manipulation. \n",
    "* It supports complex operations like filtering, transforming, and generating formatted output."
   ]
  },
  {
   "cell_type": "code",
   "execution_count": 13,
   "id": "6484df2e",
   "metadata": {},
   "outputs": [
    {
     "name": "stdout",
     "output_type": "stream",
     "text": [
      "John 25 M \n",
      "Alice 30 F \n",
      "Bob 28 M \n"
     ]
    }
   ],
   "source": [
    "!cat file.txt"
   ]
  },
  {
   "cell_type": "code",
   "execution_count": 14,
   "id": "99b80280",
   "metadata": {},
   "outputs": [
    {
     "name": "stdout",
     "output_type": "stream",
     "text": [
      "John M\n",
      "Alice F\n",
      "Bob M\n"
     ]
    }
   ],
   "source": [
    "## print row1 and row2 from file\n",
    "!awk '{print $1, $3}' file.txt"
   ]
  },
  {
   "cell_type": "code",
   "execution_count": 15,
   "id": "0fa7ab95",
   "metadata": {},
   "outputs": [
    {
     "name": "stdout",
     "output_type": "stream",
     "text": [
      "John\n",
      "Bob\n"
     ]
    }
   ],
   "source": [
    "## conditional printing of row 3\n",
    "!awk '$3 == \"M\" {print $1}' file.txt "
   ]
  },
  {
   "cell_type": "code",
   "execution_count": 16,
   "id": "8fd9bcc9",
   "metadata": {},
   "outputs": [
    {
     "name": "stdout",
     "output_type": "stream",
     "text": [
      "John 50\n",
      "Alice 60\n",
      "Bob 56\n"
     ]
    }
   ],
   "source": [
    "## arithmetic manipulation\n",
    "!awk '{print $1, $2*2}' file.txt"
   ]
  },
  {
   "cell_type": "code",
   "execution_count": 19,
   "id": "66475020",
   "metadata": {},
   "outputs": [
    {
     "name": "stdout",
     "output_type": "stream",
     "text": [
      "John 25 M \n"
     ]
    }
   ],
   "source": [
    "## pattern matching\n",
    "!awk '/John/ {print $0}' file.txt"
   ]
  },
  {
   "cell_type": "code",
   "execution_count": 20,
   "id": "f2069f0e",
   "metadata": {},
   "outputs": [
    {
     "name": "stdout",
     "output_type": "stream",
     "text": [
      "John 25 M \n",
      "Bob 28 M \n"
     ]
    }
   ],
   "source": [
    "!awk '/M/ {print $0}' file.txt"
   ]
  },
  {
   "cell_type": "markdown",
   "id": "ba855226",
   "metadata": {},
   "source": [
    "### SORTING LINES OF TEXT FILE\n",
    "\n",
    "* sort\n",
    "* Arranges lines of text files alphabetically, numerically, or by other criteria."
   ]
  },
  {
   "cell_type": "code",
   "execution_count": 21,
   "id": "1f6b1f7c",
   "metadata": {},
   "outputs": [
    {
     "name": "stdout",
     "output_type": "stream",
     "text": [
      "John 25 M \n",
      "Alice 30 F \n",
      "Bob 28 M \n"
     ]
    }
   ],
   "source": [
    "!cat file.txt"
   ]
  },
  {
   "cell_type": "code",
   "execution_count": 22,
   "id": "34599574",
   "metadata": {},
   "outputs": [
    {
     "name": "stdout",
     "output_type": "stream",
     "text": [
      "Alice 30 F \n",
      "Bob 28 M \n",
      "John 25 M \n"
     ]
    }
   ],
   "source": [
    "## sorts alphabetically\n",
    "!sort file.txt"
   ]
  },
  {
   "cell_type": "code",
   "execution_count": 23,
   "id": "2b2f9ff6",
   "metadata": {},
   "outputs": [
    {
     "name": "stdout",
     "output_type": "stream",
     "text": [
      "John 25 M \n",
      "Bob 28 M \n",
      "Alice 30 F \n"
     ]
    }
   ],
   "source": [
    "## -r flag for reverse order\n",
    "!sort -r file.txt"
   ]
  },
  {
   "cell_type": "markdown",
   "id": "60080ebb",
   "metadata": {},
   "source": [
    "### Pipe operator\n",
    "\n",
    "* | send the output of previous command to latter"
   ]
  },
  {
   "cell_type": "code",
   "execution_count": 24,
   "id": "ea3ff708",
   "metadata": {},
   "outputs": [
    {
     "name": "stdout",
     "output_type": "stream",
     "text": [
      "Alice 30 F \n",
      "Bob 28 M \n",
      "John 25 M \n"
     ]
    }
   ],
   "source": [
    "!sort file.txt | uniq"
   ]
  },
  {
   "cell_type": "markdown",
   "id": "019ffb30",
   "metadata": {},
   "source": [
    "### Count contents of file\n",
    "\n",
    "* wc -> lines, words, characters"
   ]
  },
  {
   "cell_type": "code",
   "execution_count": 25,
   "id": "6e9648cc",
   "metadata": {},
   "outputs": [
    {
     "name": "stdout",
     "output_type": "stream",
     "text": [
      " 3  9 33 file.txt\n"
     ]
    }
   ],
   "source": [
    "!wc file.txt "
   ]
  },
  {
   "cell_type": "markdown",
   "id": "67accfa9",
   "metadata": {},
   "source": [
    "### Micellenous commnads\n",
    "\n",
    "* head -# filename, gives num of lines from start of file\n",
    "* tail -# filename, gives num of lines from end of file\n",
    "* diff f1, f2, compares files line by line\n",
    "* paste , merge lines of files\n",
    "* tr , translate or delete characters\n",
    "* sed, stream editor for filtering and transforming text"
   ]
  },
  {
   "cell_type": "markdown",
   "id": "2ac86e48",
   "metadata": {},
   "source": [
    "## Memory Management in Linux\n"
   ]
  },
  {
   "cell_type": "code",
   "execution_count": 27,
   "id": "d4f69f31",
   "metadata": {},
   "outputs": [
    {
     "name": "stdout",
     "output_type": "stream",
     "text": [
      "              total        used        free      shared  buff/cache   available\n",
      "Mem:        8127560     1926096     4212512      109104     1988952     5823404\n",
      "Swap:       2097148           0     2097148\n"
     ]
    }
   ],
   "source": [
    "## Display memory usage (RAM and Swap)\n",
    "!free"
   ]
  },
  {
   "cell_type": "code",
   "execution_count": 28,
   "id": "697ae89d",
   "metadata": {},
   "outputs": [
    {
     "name": "stdout",
     "output_type": "stream",
     "text": [
      "procs -----------memory---------- ---swap-- -----io---- -system-- ------cpu-----\n",
      " r  b   swpd   free   buff  cache   si   so    bi    bo   in   cs us sy id wa st\n",
      " 8  0      0 4182244  74916 1919908    0    0    51    17  187  283  3  4 94  0  0\n"
     ]
    }
   ],
   "source": [
    "## Report virtual memory statistics\n",
    "!vmstat"
   ]
  },
  {
   "cell_type": "code",
   "execution_count": 29,
   "id": "9518ea1d",
   "metadata": {},
   "outputs": [
    {
     "name": "stdout",
     "output_type": "stream",
     "text": [
      "Filesystem     1K-blocks     Used Available Use% Mounted on\n",
      "udev             4014120        0   4014120   0% /dev\n",
      "tmpfs             812756     1452    811304   1% /run\n",
      "/dev/sda5      103496576 13536452  84656624  14% /\n",
      "tmpfs            4063780    83304   3980476   3% /dev/shm\n",
      "tmpfs               5120        4      5116   1% /run/lock\n",
      "tmpfs            4063780        0   4063780   0% /sys/fs/cgroup\n",
      "/dev/loop0           128      128         0 100% /snap/bare/5\n",
      "/dev/loop1        233344   233344         0 100% /snap/code/111\n",
      "/dev/loop3         64768    64768         0 100% /snap/core20/1623\n",
      "/dev/loop2        106752   106752         0 100% /snap/core/17212\n",
      "/dev/loop5         93952    93952         0 100% /snap/gtk-common-themes/1535\n",
      "/dev/loop6         55552    55552         0 100% /snap/snap-store/558\n",
      "/dev/loop4         65408    65408         0 100% /snap/core20/2599\n",
      "/dev/loop7        354688   354688         0 100% /snap/gnome-3-38-2004/119\n",
      "/dev/loop9         47104    47104         0 100% /snap/snap-store/599\n",
      "/dev/loop8         50560    50560         0 100% /snap/snapd/24792\n",
      "/dev/loop10       358144   358144         0 100% /snap/gnome-3-38-2004/143\n",
      "/dev/sda1         523248        4    523244   1% /boot/efi\n",
      "tmpfs             812756       36    812720   1% /run/user/1000\n"
     ]
    }
   ],
   "source": [
    "## Information about disk space usage on the system\n",
    "!df"
   ]
  },
  {
   "cell_type": "code",
   "execution_count": 30,
   "id": "4d85559e",
   "metadata": {},
   "outputs": [
    {
     "name": "stdout",
     "output_type": "stream",
     "text": [
      "NAME      TYPE SIZE USED PRIO\n",
      "/swapfile file   2G   0B   -2\n"
     ]
    }
   ],
   "source": [
    "## Show or enable/disable swap space\n",
    "!swapon"
   ]
  },
  {
   "cell_type": "markdown",
   "id": "89addf71",
   "metadata": {},
   "source": [
    "## Networking Commands\n",
    "\n",
    "* ping, Test networking to a host\n",
    "* ip, Show/manipulate routing,devices, policy routing.\n",
    "* ssh, Secure Shell for remote login and command execution\n",
    "* wget, Retrieve/ Download files from the web"
   ]
  }
 ],
 "metadata": {
  "kernelspec": {
   "display_name": "Python 3.8.10 64-bit",
   "language": "python",
   "name": "python3"
  },
  "language_info": {
   "codemirror_mode": {
    "name": "ipython",
    "version": 3
   },
   "file_extension": ".py",
   "mimetype": "text/x-python",
   "name": "python",
   "nbconvert_exporter": "python",
   "pygments_lexer": "ipython3",
   "version": "3.8.10"
  },
  "vscode": {
   "interpreter": {
    "hash": "916dbcbb3f70747c44a77c7bcd40155683ae19c65e1c03b4aa3499c5328201f1"
   }
  }
 },
 "nbformat": 4,
 "nbformat_minor": 5
}
