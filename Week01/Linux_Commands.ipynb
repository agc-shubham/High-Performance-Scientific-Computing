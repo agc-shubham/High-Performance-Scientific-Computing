{
 "cells": [
  {
   "cell_type": "markdown",
   "id": "72db05c3",
   "metadata": {},
   "source": [
    "## Know about your User and System"
   ]
  },
  {
   "cell_type": "code",
   "execution_count": 1,
   "id": "f0aa8f1a",
   "metadata": {},
   "outputs": [
    {
     "name": "stdout",
     "output_type": "stream",
     "text": [
      "shubham\n"
     ]
    }
   ],
   "source": [
    "### command to know your user\n",
    "!whoami\n"
   ]
  },
  {
   "cell_type": "code",
   "execution_count": 2,
   "id": "e7e2d720",
   "metadata": {},
   "outputs": [
    {
     "name": "stdout",
     "output_type": "stream",
     "text": [
      "Linux ubuntu20 5.15.0-139-generic #149~20.04.1-Ubuntu SMP Wed Apr 16 08:29:56 UTC 2025 x86_64 x86_64 x86_64 GNU/Linux\n"
     ]
    }
   ],
   "source": [
    "### command to know your System\n",
    "!uname -a"
   ]
  },
  {
   "cell_type": "code",
   "execution_count": 3,
   "id": "0dda12c0",
   "metadata": {},
   "outputs": [
    {
     "name": "stdout",
     "output_type": "stream",
     "text": [
      "Architecture:                         x86_64\n",
      "CPU op-mode(s):                       32-bit, 64-bit\n",
      "Byte Order:                           Little Endian\n",
      "Address sizes:                        39 bits physical, 48 bits virtual\n",
      "CPU(s):                               6\n",
      "On-line CPU(s) list:                  0-5\n",
      "Thread(s) per core:                   1\n",
      "Core(s) per socket:                   6\n",
      "Socket(s):                            1\n",
      "NUMA node(s):                         1\n",
      "Vendor ID:                            GenuineIntel\n",
      "CPU family:                           6\n",
      "Model:                                165\n",
      "Model name:                           Intel(R) Core(TM) i7-10750H CPU @ 2.60GHz\n",
      "Stepping:                             2\n",
      "CPU MHz:                              2592.006\n",
      "BogoMIPS:                             5184.01\n",
      "Hypervisor vendor:                    KVM\n",
      "Virtualization type:                  full\n",
      "L1d cache:                            192 KiB\n",
      "L1i cache:                            192 KiB\n",
      "L2 cache:                             1.5 MiB\n",
      "L3 cache:                             72 MiB\n",
      "NUMA node0 CPU(s):                    0-5\n",
      "Vulnerability Gather data sampling:   Not affected\n",
      "Vulnerability Itlb multihit:          Not affected\n",
      "Vulnerability L1tf:                   Not affected\n",
      "Vulnerability Mds:                    Not affected\n",
      "Vulnerability Meltdown:               Not affected\n",
      "Vulnerability Mmio stale data:        Vulnerable: Clear CPU buffers attempted, n\n",
      "                                      o microcode; SMT Host state unknown\n",
      "Vulnerability Reg file data sampling: Not affected\n",
      "Vulnerability Retbleed:               Mitigation; Enhanced IBRS\n",
      "Vulnerability Spec rstack overflow:   Not affected\n",
      "Vulnerability Spec store bypass:      Vulnerable\n",
      "Vulnerability Spectre v1:             Mitigation; usercopy/swapgs barriers and _\n",
      "                                      _user pointer sanitization\n",
      "Vulnerability Spectre v2:             Mitigation; Enhanced / Automatic IBRS; RSB\n",
      "                                       filling; PBRSB-eIBRS SW sequence; BHI SW \n",
      "                                      loop, KVM SW loop\n",
      "Vulnerability Srbds:                  Unknown: Dependent on hypervisor status\n",
      "Vulnerability Tsx async abort:        Not affected\n",
      "Flags:                                fpu vme de pse tsc msr pae mce cx8 apic se\n",
      "                                      p mtrr pge mca cmov pat pse36 clflush mmx \n",
      "                                      fxsr sse sse2 ht syscall nx rdtscp lm cons\n",
      "                                      tant_tsc rep_good nopl xtopology nonstop_t\n",
      "                                      sc cpuid tsc_known_freq pni pclmulqdq ssse\n",
      "                                      3 cx16 pcid sse4_1 sse4_2 movbe popcnt aes\n",
      "                                       rdrand hypervisor lahf_lm abm 3dnowprefet\n",
      "                                      ch invpcid_single ibrs_enhanced fsgsbase b\n",
      "                                      mi1 bmi2 invpcid rdseed clflushopt md_clea\n",
      "                                      r flush_l1d arch_capabilities\n"
     ]
    }
   ],
   "source": [
    "## Know more about your CPU\n",
    "!lscpu"
   ]
  },
  {
   "cell_type": "code",
   "execution_count": 5,
   "id": "b18754eb",
   "metadata": {},
   "outputs": [
    {
     "name": "stdout",
     "output_type": "stream",
     "text": [
      "              total        used        free      shared  buff/cache   available\n",
      "Mem:          7.8Gi       3.2Gi       1.3Gi       129Mi       3.2Gi       4.1Gi\n",
      "Swap:         2.0Gi          0B       2.0Gi\n"
     ]
    }
   ],
   "source": [
    "## Memory Space in your System, -h flag means human readable\n",
    "!free -h"
   ]
  },
  {
   "cell_type": "markdown",
   "id": "1ad3edff",
   "metadata": {},
   "source": [
    "## File and Directory Management Commands\n",
    "\n",
    "In Linux, a file is a collection of data that is stored on a disk or in memory.\n",
    "  * Text files, Binary files, Multimedia files etc.\n",
    "\n",
    "A directory is a special file that contains references to other files and directories.\n",
    "  * It's like a folder that organizes files into a hierarchy."
   ]
  },
  {
   "cell_type": "code",
   "execution_count": 7,
   "id": "80a66a09",
   "metadata": {},
   "outputs": [
    {
     "name": "stdout",
     "output_type": "stream",
     "text": [
      "/home/shubham/High-Performance-Scientific-Computing/Week01\n"
     ]
    }
   ],
   "source": [
    "## my current working directory\n",
    "!pwd"
   ]
  },
  {
   "cell_type": "code",
   "execution_count": 11,
   "id": "7477ed54",
   "metadata": {},
   "outputs": [
    {
     "name": "stdout",
     "output_type": "stream",
     "text": [
      "total 16\n",
      "drwxrwxr-x 3 shubham shubham 4096 Jul 29 21:49 .\n",
      "drwxrwxr-x 4 shubham shubham 4096 Jul 29 21:40 ..\n",
      "drwxrwxr-x 2 shubham shubham 4096 Jul 29 21:49 .ipynb_checkpoints\n",
      "-rw-rw-r-- 1 shubham shubham 1562 Jul 29 21:50 Linux_Commands.ipynb\n"
     ]
    }
   ],
   "source": [
    "## see content of working directory, flags -l long format, -a all information\n",
    "!ls -la"
   ]
  },
  {
   "cell_type": "code",
   "execution_count": 21,
   "id": "eec61f39",
   "metadata": {},
   "outputs": [],
   "source": [
    "## Change directory\n",
    "!cd ../Week02\n"
   ]
  },
  {
   "cell_type": "code",
   "execution_count": 23,
   "id": "409b1c9c",
   "metadata": {},
   "outputs": [],
   "source": [
    "## Creating new directory\n",
    "!mkdir TestDir"
   ]
  },
  {
   "cell_type": "code",
   "execution_count": 24,
   "id": "c77aee75",
   "metadata": {},
   "outputs": [],
   "source": [
    "## deleting a directory\n",
    "!rmdir TestDir"
   ]
  },
  {
   "cell_type": "code",
   "execution_count": 27,
   "id": "e8d00d2c",
   "metadata": {},
   "outputs": [],
   "source": [
    "## Rename a directory / Moving a Directory\n",
    "!mkdir TestDir Child\n",
    "!mv TestDir Test\n",
    "!mv Child Test"
   ]
  },
  {
   "cell_type": "markdown",
   "id": "732f1440",
   "metadata": {},
   "source": [
    "## File Permissions and ownership in Linux"
   ]
  },
  {
   "cell_type": "code",
   "execution_count": 3,
   "id": "b805a83b",
   "metadata": {},
   "outputs": [],
   "source": [
    "## Create empty file\n",
    "!touch filename\n",
    "## Create file with content, cli way\n",
    "!vim filename\n",
    "## Create file with content, cli way\n",
    "!gedit test.txt"
   ]
  },
  {
   "cell_type": "code",
   "execution_count": null,
   "id": "1535cf95",
   "metadata": {},
   "outputs": [],
   "source": [
    "## Delete files and directories\n",
    "## Delete a file\n",
    "!rm test.txt\n",
    "## Delete a directory with contents, -r flag denotes deletion recursively\n",
    "!rm -r TestDir "
   ]
  },
  {
   "cell_type": "code",
   "execution_count": null,
   "id": "5f3dba83",
   "metadata": {},
   "outputs": [],
   "source": [
    "## Display the contents of a file on terminal\n",
    "!cat filename\n",
    "!cat filename1 filename2\n",
    "\n",
    "## pipe operator \">\"\n",
    "## create file with cat operation\n",
    "!cat filename1 filename2 > filename3\n",
    "## append with \">>\" operator\n",
    "!cat filename1 filename2 >> filename3\n",
    "## copy contents of file\n",
    "!cp filename3 filename4\n",
    "## Copy recursively with -r flag\n",
    "!cp -r TestDir1 TestDir2"
   ]
  },
  {
   "cell_type": "markdown",
   "id": "b9d49ec9",
   "metadata": {},
   "source": [
    "File Permission are defined for three category of users:\n",
    "* Owner(User)\n",
    "* Group\n",
    "* Others"
   ]
  },
  {
   "cell_type": "markdown",
   "id": "44d31296",
   "metadata": {},
   "source": [
    "Three kinds of permissions:\n",
    "* Read\n",
    "* Write\n",
    "* Execute"
   ]
  },
  {
   "cell_type": "markdown",
   "id": "f154b10e",
   "metadata": {},
   "source": [
    "File permission structure: 10 Character format\n",
    "* ex: - rwx r-x r--\n",
    "* First character d : directory, - : file, 2nd to 4th characters: user permissions, 5th to 7th characters: group permissions, 8th to 10th characters: others/all permissions\n"
   ]
  },
  {
   "cell_type": "markdown",
   "id": "c5004046",
   "metadata": {},
   "source": [
    "Changing Permissions:\n",
    "* Symbolic\n",
    "    * r = read, w = write, x = execute\n",
    "    * u = user, g = group, o = others, a = all\n",
    "* Octal\n",
    "    * read = 4, write = 2, execute = 1\n",
    "    * Add values for each category to assign permission"
   ]
  },
  {
   "cell_type": "markdown",
   "id": "150d4981",
   "metadata": {},
   "source": [
    "Ex:\n",
    "* Symbolic\n",
    "    * chmod u+x file.txt # adds execute permission to owner/user\n",
    "    * chmod g-w file.txt # removes write permission to group"
   ]
  },
  {
   "cell_type": "markdown",
   "id": "5abe347f",
   "metadata": {},
   "source": [
    "Ex:\n",
    "* Octal\n",
    "    * chmod 755 file.txt #rwxr-xr-x (owner:read, write, execute; group:read, execute ;others:read, execute)"
   ]
  },
  {
   "cell_type": "markdown",
   "id": "370683c6",
   "metadata": {},
   "source": [
    "### Changing Ownership of file.\n",
    "\n",
    "chown owner:group file"
   ]
  },
  {
   "cell_type": "code",
   "execution_count": 4,
   "id": "17aa7cd9",
   "metadata": {},
   "outputs": [
    {
     "name": "stdout",
     "output_type": "stream",
     "text": [
      "total 28\n",
      "drwxrwxr-x 4 shubham shubham 4096 Jul 30 08:22 .\n",
      "drwxrwxr-x 5 shubham shubham 4096 Jul 29 22:21 ..\n",
      "drwxrwxr-x 2 shubham shubham 4096 Jul 30 08:22 .ipynb_checkpoints\n",
      "-rw-rw-r-- 1 shubham shubham 8958 Jul 30 08:42 Linux_Commands.ipynb\n",
      "drwxrwxr-x 3 shubham shubham 4096 Jul 29 22:27 Test\n"
     ]
    }
   ],
   "source": [
    "!ls -la"
   ]
  },
  {
   "cell_type": "code",
   "execution_count": 5,
   "id": "d4f4de78",
   "metadata": {},
   "outputs": [],
   "source": [
    "!chmod 777 Linux_Commands.ipynb"
   ]
  },
  {
   "cell_type": "code",
   "execution_count": 7,
   "id": "410b38dc",
   "metadata": {},
   "outputs": [
    {
     "name": "stdout",
     "output_type": "stream",
     "text": [
      "total 28\n",
      "drwxrwxr-x 4 shubham shubham 4096 Jul 30 08:22 .\n",
      "drwxrwxr-x 5 shubham shubham 4096 Jul 29 22:21 ..\n",
      "drwxrwxr-x 2 shubham shubham 4096 Jul 30 08:22 .ipynb_checkpoints\n",
      "-rwxrwxrwx 1 shubham shubham 8958 Jul 30 08:42 Linux_Commands.ipynb\n",
      "drwxrwxr-x 3 shubham shubham 4096 Jul 29 22:27 Test\n"
     ]
    }
   ],
   "source": [
    "!ls -la"
   ]
  },
  {
   "cell_type": "code",
   "execution_count": 8,
   "id": "91196e5a",
   "metadata": {},
   "outputs": [],
   "source": [
    "!chmod a+w Test"
   ]
  },
  {
   "cell_type": "code",
   "execution_count": 9,
   "id": "350b25d0",
   "metadata": {},
   "outputs": [
    {
     "name": "stdout",
     "output_type": "stream",
     "text": [
      "total 28\n",
      "drwxrwxr-x 4 shubham shubham 4096 Jul 30 08:22 .\n",
      "drwxrwxr-x 5 shubham shubham 4096 Jul 29 22:21 ..\n",
      "drwxrwxr-x 2 shubham shubham 4096 Jul 30 08:22 .ipynb_checkpoints\n",
      "-rwxrwxrwx 1 shubham shubham 8958 Jul 30 08:42 Linux_Commands.ipynb\n",
      "drwxrwxrwx 3 shubham shubham 4096 Jul 29 22:27 Test\n"
     ]
    }
   ],
   "source": [
    "!ls -la"
   ]
  },
  {
   "cell_type": "markdown",
   "id": "96fc9f98",
   "metadata": {},
   "source": [
    "## Linux Process management"
   ]
  },
  {
   "cell_type": "code",
   "execution_count": 12,
   "id": "e3c2b773",
   "metadata": {},
   "outputs": [
    {
     "name": "stdout",
     "output_type": "stream",
     "text": [
      "UID          PID    PPID  C STIME TTY          TIME CMD\n",
      "root           1       0  0 08:21 ?        00:00:02 /sbin/init splash\n",
      "root           2       0  0 08:21 ?        00:00:00 [kthreadd]\n",
      "root           3       2  0 08:21 ?        00:00:00 [rcu_gp]\n",
      "root           4       2  0 08:21 ?        00:00:00 [rcu_par_gp]\n",
      "root           5       2  0 08:21 ?        00:00:00 [slub_flushwq]\n",
      "root           6       2  0 08:21 ?        00:00:00 [netns]\n",
      "root           8       2  0 08:21 ?        00:00:00 [kworker/0:0H-events_highpri\n",
      "root          10       2  0 08:21 ?        00:00:00 [mm_percpu_wq]\n",
      "root          11       2  0 08:21 ?        00:00:00 [rcu_tasks_rude_]\n",
      "root          12       2  0 08:21 ?        00:00:00 [rcu_tasks_trace]\n",
      "root          13       2  0 08:21 ?        00:00:00 [ksoftirqd/0]\n",
      "root          14       2  0 08:21 ?        00:00:03 [rcu_sched]\n",
      "root          15       2  0 08:21 ?        00:00:00 [migration/0]\n",
      "root          16       2  0 08:21 ?        00:00:00 [idle_inject/0]\n",
      "root          17       2  0 08:21 ?        00:00:03 [kworker/0:1-events]\n",
      "root          18       2  0 08:21 ?        00:00:00 [cpuhp/0]\n",
      "root          19       2  0 08:21 ?        00:00:00 [cpuhp/1]\n",
      "root          20       2  0 08:21 ?        00:00:00 [idle_inject/1]\n",
      "root          21       2  0 08:21 ?        00:00:01 [migration/1]\n",
      "root          22       2  0 08:21 ?        00:00:00 [ksoftirqd/1]\n",
      "root          24       2  0 08:21 ?        00:00:00 [kworker/1:0H-events_highpri\n",
      "root          25       2  0 08:21 ?        00:00:00 [cpuhp/2]\n",
      "root          26       2  0 08:21 ?        00:00:00 [idle_inject/2]\n",
      "root          27       2  0 08:21 ?        00:00:01 [migration/2]\n",
      "root          28       2  0 08:21 ?        00:00:00 [ksoftirqd/2]\n",
      "root          30       2  0 08:21 ?        00:00:00 [kworker/2:0H-events_highpri\n",
      "root          31       2  0 08:21 ?        00:00:00 [cpuhp/3]\n",
      "root          32       2  0 08:21 ?        00:00:00 [idle_inject/3]\n",
      "root          33       2  0 08:21 ?        00:00:01 [migration/3]\n",
      "root          34       2  0 08:21 ?        00:00:00 [ksoftirqd/3]\n",
      "root          36       2  0 08:21 ?        00:00:00 [kworker/3:0H-kblockd]\n",
      "root          37       2  0 08:21 ?        00:00:00 [cpuhp/4]\n",
      "root          38       2  0 08:21 ?        00:00:00 [idle_inject/4]\n",
      "root          39       2  0 08:21 ?        00:00:00 [migration/4]\n",
      "root          40       2  0 08:21 ?        00:00:00 [ksoftirqd/4]\n",
      "root          42       2  0 08:21 ?        00:00:00 [kworker/4:0H-events_highpri\n",
      "root          43       2  0 08:21 ?        00:00:00 [cpuhp/5]\n",
      "root          44       2  0 08:21 ?        00:00:00 [idle_inject/5]\n",
      "root          45       2  0 08:21 ?        00:00:01 [migration/5]\n",
      "root          46       2  0 08:21 ?        00:00:03 [ksoftirqd/5]\n",
      "root          48       2  0 08:21 ?        00:00:00 [kworker/5:0H-kblockd]\n",
      "root          49       2  0 08:21 ?        00:00:00 [kdevtmpfs]\n",
      "root          50       2  0 08:21 ?        00:00:00 [inet_frag_wq]\n",
      "root          51       2  0 08:21 ?        00:00:00 [kauditd]\n",
      "root          52       2  0 08:21 ?        00:00:00 [khungtaskd]\n",
      "root          53       2  0 08:21 ?        00:00:00 [oom_reaper]\n",
      "root          54       2  0 08:21 ?        00:00:00 [writeback]\n",
      "root          55       2  0 08:21 ?        00:00:00 [kcompactd0]\n",
      "root          56       2  0 08:21 ?        00:00:00 [ksmd]\n",
      "root          57       2  0 08:21 ?        00:00:00 [khugepaged]\n",
      "root          67       2  0 08:21 ?        00:00:05 [kworker/4:1-events]\n",
      "root          71       2  0 08:21 ?        00:00:01 [kworker/5:1-events]\n",
      "root          84       2  0 08:21 ?        00:00:01 [kworker/2:1-mm_percpu_wq]\n",
      "root         106       2  0 08:21 ?        00:00:00 [kintegrityd]\n",
      "root         107       2  0 08:21 ?        00:00:00 [kblockd]\n",
      "root         108       2  0 08:21 ?        00:00:00 [blkcg_punt_bio]\n",
      "root         109       2  0 08:21 ?        00:00:00 [tpm_dev_wq]\n",
      "root         110       2  0 08:21 ?        00:00:00 [ata_sff]\n",
      "root         111       2  0 08:21 ?        00:00:00 [md]\n",
      "root         112       2  0 08:21 ?        00:00:00 [edac-poller]\n",
      "root         113       2  0 08:21 ?        00:00:00 [devfreq_wq]\n",
      "root         114       2  0 08:21 ?        00:00:00 [watchdogd]\n",
      "root         116       2  0 08:21 ?        00:00:00 [kworker/0:1H-kblockd]\n",
      "root         118       2  0 08:21 ?        00:00:00 [kswapd0]\n",
      "root         119       2  0 08:21 ?        00:00:00 [ecryptfs-kthrea]\n",
      "root         121       2  0 08:21 ?        00:00:00 [kthrotld]\n",
      "root         122       2  0 08:21 ?        00:00:00 [acpi_thermal_pm]\n",
      "root         124       2  0 08:21 ?        00:00:02 [kworker/3:1-events]\n",
      "root         125       2  0 08:21 ?        00:00:00 [scsi_eh_0]\n",
      "root         126       2  0 08:21 ?        00:00:00 [scsi_tmf_0]\n",
      "root         127       2  0 08:21 ?        00:00:00 [scsi_eh_1]\n",
      "root         128       2  0 08:21 ?        00:00:00 [scsi_tmf_1]\n",
      "root         130       2  0 08:21 ?        00:00:00 [vfio-irqfd-clea]\n",
      "root         131       2  0 08:21 ?        00:00:00 [mld]\n",
      "root         132       2  0 08:21 ?        00:00:00 [ipv6_addrconf]\n",
      "root         133       2  0 08:21 ?        00:00:01 [kworker/2:1H-kblockd]\n",
      "root         137       2  0 08:21 ?        00:00:00 [kworker/3:1H-kblockd]\n",
      "root         143       2  0 08:21 ?        00:00:02 [kworker/1:1-ata_sff]\n",
      "root         147       2  0 08:21 ?        00:00:00 [kstrp]\n",
      "root         150       2  0 08:21 ?        00:00:00 [zswap-shrink]\n",
      "root         151       2  0 08:21 ?        00:00:00 [kworker/u13:0]\n",
      "root         156       2  0 08:21 ?        00:00:00 [charger_manager]\n",
      "root         179       2  0 08:21 ?        00:00:00 [kworker/4:1H-kblockd]\n",
      "root         209       2  0 08:21 ?        00:00:00 [kworker/1:1H-kblockd]\n",
      "root         210       2  0 08:21 ?        00:00:00 [kworker/1:2-cgroup_destroy]\n",
      "root         212       2  0 08:21 ?        00:00:00 [scsi_eh_2]\n",
      "root         213       2  0 08:21 ?        00:00:00 [scsi_tmf_2]\n",
      "root         238       2  0 08:21 ?        00:00:00 [kworker/5:1H-kblockd]\n",
      "root         239       2  0 08:21 ?        00:00:00 [jbd2/sda5-8]\n",
      "root         240       2  0 08:21 ?        00:00:00 [ext4-rsv-conver]\n",
      "root         280       1  0 08:21 ?        00:00:01 /lib/systemd/systemd-journal\n",
      "root         313       2  0 08:21 ?        00:00:00 [ipmi-msghandler]\n",
      "root         322       1  0 08:21 ?        00:00:00 /lib/systemd/systemd-udevd\n",
      "root         386       2  0 08:21 ?        00:00:03 [kworker/u12:8-events_freeza\n",
      "root         398       2  0 08:21 ?        00:00:00 [cryptd]\n",
      "root         404       2  0 08:21 ?        00:00:00 [ttm_swap]\n",
      "root         430       2  0 08:21 ?        00:00:01 [irq/18-vmwgfx]\n",
      "root         431       2  0 08:21 ?        00:00:00 [card0-crtc0]\n",
      "root         432       2  0 08:21 ?        00:00:00 [card0-crtc1]\n",
      "root         433       2  0 08:21 ?        00:00:00 [card0-crtc2]\n",
      "root         435       2  0 08:21 ?        00:00:00 [card0-crtc3]\n",
      "root         438       2  0 08:21 ?        00:00:00 [card0-crtc4]\n",
      "root         440       2  0 08:21 ?        00:00:00 [card0-crtc5]\n",
      "root         441       2  0 08:21 ?        00:00:00 [card0-crtc6]\n",
      "root         443       2  0 08:21 ?        00:00:00 [card0-crtc7]\n",
      "systemd+     620       1  0 08:21 ?        00:00:01 /lib/systemd/systemd-resolve\n",
      "systemd+     621       1  0 08:21 ?        00:00:00 /lib/systemd/systemd-timesyn\n",
      "root         662       1  0 08:21 ?        00:00:00 /usr/lib/accountsservice/acc\n",
      "root         663       1  0 08:21 ?        00:00:01 /usr/sbin/acpid\n",
      "avahi        666       1  0 08:21 ?        00:00:00 avahi-daemon: running [ubunt\n",
      "root         667       1  0 08:21 ?        00:00:00 /usr/sbin/cron -f\n",
      "message+     671       1  0 08:21 ?        00:00:02 /usr/bin/dbus-daemon --syste\n",
      "root         672       1  0 08:21 ?        00:00:01 /usr/sbin/NetworkManager --n\n",
      "root         680       1  0 08:21 ?        00:00:00 /usr/sbin/irqbalance --foreg\n",
      "root         681       1  0 08:21 ?        00:00:00 /usr/bin/python3 /usr/bin/ne\n",
      "root         684       1  0 08:21 ?        00:00:02 /usr/lib/policykit-1/polkitd\n",
      "syslog       688       1  0 08:21 ?        00:00:00 /usr/sbin/rsyslogd -n -iNONE\n",
      "root         697       1  0 08:21 ?        00:00:05 /usr/lib/snapd/snapd\n",
      "root         700       1  0 08:21 ?        00:00:00 /usr/libexec/switcheroo-cont\n",
      "root         706       1  0 08:21 ?        00:00:00 /lib/systemd/systemd-logind\n",
      "root         708       1  0 08:21 ?        00:00:00 /usr/lib/udisks2/udisksd\n",
      "root         710       1  0 08:21 ?        00:00:00 /sbin/wpa_supplicant -u -s -\n",
      "avahi        725     666  0 08:21 ?        00:00:00 avahi-daemon: chroot helper\n",
      "root         755       1  0 08:21 ?        00:00:00 /usr/sbin/cups-browsed\n",
      "root         766       1  0 08:21 ?        00:00:00 /usr/sbin/ModemManager\n",
      "root         794       1  0 08:21 ?        00:00:00 /usr/bin/python3 /usr/share/\n",
      "root         802       1  0 08:21 ?        00:00:00 /usr/sbin/gdm3\n",
      "root         813       1  0 08:21 ?        00:00:00 /usr/sbin/cupsd -l\n",
      "whoopsie     848       1  0 08:21 ?        00:00:00 /usr/bin/whoopsie -f\n",
      "kernoops     861       1  0 08:21 ?        00:00:00 /usr/sbin/kerneloops --test\n",
      "kernoops     866       1  0 08:21 ?        00:00:00 /usr/sbin/kerneloops\n",
      "rtkit        894       1  0 08:21 ?        00:00:00 /usr/libexec/rtkit-daemon\n",
      "root        1016       1  0 08:21 ?        00:00:00 /usr/lib/upower/upowerd\n",
      "colord      1305       1  0 08:21 ?        00:00:00 /usr/libexec/colord\n",
      "root        1332     802  0 08:21 ?        00:00:00 gdm-session-worker [pam/gdm-\n",
      "shubham     1341       1  0 08:21 ?        00:00:00 /lib/systemd/systemd --user\n",
      "shubham     1342    1341  0 08:21 ?        00:00:00 (sd-pam)\n",
      "shubham     1347    1341  0 08:21 ?        00:00:05 /usr/bin/pulseaudio --daemon\n",
      "shubham     1349    1341  0 08:21 ?        00:00:00 /usr/libexec/tracker-miner-f\n",
      "shubham     1351    1341  0 08:21 ?        00:00:02 /usr/bin/dbus-daemon --sessi\n",
      "shubham     1368    1341  0 08:21 ?        00:00:00 /usr/libexec/gvfsd\n",
      "shubham     1370       1  0 08:21 ?        00:00:00 /usr/bin/gnome-keyring-daemo\n",
      "shubham     1377    1341  0 08:21 ?        00:00:00 /usr/libexec/gvfsd-fuse /run\n",
      "shubham     1383    1341  0 08:21 ?        00:00:00 /usr/libexec/gvfs-udisks2-vo\n",
      "shubham     1391    1341  0 08:21 ?        00:00:00 /usr/libexec/gvfs-gphoto2-vo\n",
      "shubham     1395    1341  0 08:21 ?        00:00:00 /usr/libexec/gvfs-goa-volume\n",
      "shubham     1399    1341  0 08:21 ?        00:00:00 /usr/libexec/goa-daemon\n",
      "shubham     1407    1341  0 08:21 ?        00:00:00 /usr/libexec/goa-identity-se\n",
      "shubham     1412    1332  0 08:21 tty2     00:00:00 /usr/lib/gdm3/gdm-x-session \n",
      "shubham     1415    1412  4 08:21 tty2     00:02:57 /usr/lib/xorg/Xorg vt2 -disp\n",
      "shubham     1418    1341  0 08:21 ?        00:00:00 /usr/libexec/gvfs-mtp-volume\n",
      "shubham     1423    1341  0 08:21 ?        00:00:00 /usr/libexec/gvfs-afc-volume\n",
      "shubham     1444    1412  0 08:21 tty2     00:00:00 /usr/libexec/gnome-session-b\n",
      "shubham     1513    1444  0 08:21 ?        00:00:00 /usr/bin/ssh-agent /usr/bin/\n",
      "shubham     1530    1341  0 08:21 ?        00:00:00 /usr/libexec/at-spi-bus-laun\n",
      "shubham     1535    1530  0 08:21 ?        00:00:00 /usr/bin/dbus-daemon --confi\n",
      "shubham     1568    1341  0 08:21 ?        00:00:00 /usr/libexec/gnome-session-c\n",
      "shubham     1575    1341  0 08:21 ?        00:00:00 /usr/libexec/gnome-session-b\n",
      "shubham     1590    1341  4 08:21 ?        00:02:51 /usr/bin/gnome-shell\n",
      "shubham     1626    1590  0 08:21 ?        00:00:00 ibus-daemon --panel disable \n",
      "shubham     1630    1626  0 08:21 ?        00:00:00 /usr/libexec/ibus-dconf\n",
      "shubham     1631    1626  0 08:21 ?        00:00:02 /usr/libexec/ibus-extension-\n",
      "shubham     1634    1341  0 08:21 ?        00:00:01 /usr/libexec/ibus-x11 --kill\n",
      "shubham     1637    1341  0 08:21 ?        00:00:00 /usr/libexec/ibus-portal\n",
      "shubham     1649    1341  0 08:21 ?        00:00:00 /usr/libexec/at-spi2-registr\n",
      "shubham     1652    1341  0 08:21 ?        00:00:00 /usr/libexec/xdg-permission-\n",
      "shubham     1655    1341  0 08:21 ?        00:00:00 /usr/libexec/gnome-shell-cal\n",
      "shubham     1666    1341  0 08:21 ?        00:00:00 /usr/libexec/evolution-sourc\n",
      "shubham     1672    1341  0 08:21 ?        00:00:00 /usr/libexec/dconf-service\n",
      "shubham     1675    1341  0 08:21 ?        00:00:00 /usr/libexec/gvfsd-metadata\n",
      "shubham     1687    1341  0 08:21 ?        00:00:01 /usr/libexec/evolution-calen\n",
      "shubham     1696    1341  0 08:21 ?        00:00:00 /usr/bin/gjs /usr/share/gnom\n",
      "shubham     1713    1368  0 08:21 ?        00:00:00 /usr/libexec/gvfsd-trash --s\n",
      "shubham     1716    1341  0 08:21 ?        00:00:00 /usr/libexec/evolution-addre\n",
      "shubham     1765    1341  0 08:21 ?        00:00:00 /usr/libexec/gsd-a11y-settin\n",
      "shubham     1766    1341  0 08:21 ?        00:00:02 /usr/libexec/gsd-color\n",
      "shubham     1768    1341  0 08:21 ?        00:00:00 /usr/libexec/gsd-datetime\n",
      "shubham     1770    1341  0 08:21 ?        00:00:00 /usr/libexec/gsd-housekeepin\n",
      "shubham     1772    1341  0 08:21 ?        00:00:01 /usr/libexec/gsd-keyboard\n",
      "shubham     1774    1341  0 08:21 ?        00:00:01 /usr/libexec/gsd-media-keys\n",
      "shubham     1779    1341  0 08:21 ?        00:00:02 /usr/libexec/gsd-power\n",
      "shubham     1781    1341  0 08:21 ?        00:00:00 /usr/libexec/gsd-print-notif\n",
      "shubham     1784    1341  0 08:21 ?        00:00:00 /usr/libexec/gsd-rfkill\n",
      "shubham     1790    1341  0 08:21 ?        00:00:00 /usr/libexec/gsd-screensaver\n",
      "shubham     1791    1341  0 08:21 ?        00:00:00 /usr/libexec/gsd-sharing\n",
      "shubham     1792    1341  0 08:21 ?        00:00:00 /usr/libexec/gsd-smartcard\n",
      "shubham     1793    1341  0 08:21 ?        00:00:00 /usr/libexec/gsd-sound\n",
      "shubham     1796    1341  0 08:21 ?        00:00:00 /usr/libexec/gsd-usb-protect\n",
      "shubham     1797    1341  0 08:21 ?        00:00:01 /usr/libexec/gsd-wacom\n",
      "shubham     1801    1341  0 08:21 ?        00:00:00 /usr/libexec/gsd-wwan\n",
      "shubham     1804    1341  0 08:21 ?        00:00:02 /usr/libexec/gsd-xsettings\n",
      "shubham     1806    1575  0 08:21 ?        00:00:00 /usr/libexec/gsd-disk-utilit\n",
      "shubham     1821    1575  0 08:21 ?        00:00:03 /usr/libexec/evolution-data-\n",
      "shubham     1878    1626  0 08:21 ?        00:00:00 /usr/libexec/ibus-engine-sim\n",
      "shubham     1883    1341  0 08:21 ?        00:00:00 /usr/libexec/gsd-printer\n",
      "shubham     1893    1341  0 08:21 ?        00:00:08 /snap/snap-store/599/usr/bin\n",
      "shubham     1939    1341  0 08:21 ?        00:00:00 /usr/libexec/xdg-document-po\n",
      "shubham     2068    1341  0 08:21 ?        00:00:00 /usr/libexec/xdg-desktop-por\n",
      "shubham     2072    1341  0 08:21 ?        00:00:02 /usr/libexec/xdg-desktop-por\n",
      "root        2104       1  0 08:21 ?        00:00:00 /usr/libexec/fwupd/fwupd\n",
      "shubham     2443    1341  1 08:21 ?        00:01:01 /snap/code/111/usr/share/cod\n",
      "shubham     2445    2443  0 08:21 ?        00:00:00 /snap/code/111/usr/share/cod\n",
      "shubham     2446    2443  0 08:21 ?        00:00:00 /snap/code/111/usr/share/cod\n",
      "shubham     2460    1341  0 08:21 ?        00:00:00 /snap/code/111/usr/share/cod\n",
      "shubham     2474    2445  2 08:21 ?        00:01:27 /snap/code/111/usr/share/cod\n",
      "shubham     2495    2443  0 08:21 ?        00:00:01 /snap/code/111/usr/share/cod\n",
      "shubham     2513    2443 13 08:21 ?        00:08:37 /snap/code/111/usr/share/cod\n",
      "shubham     2557    2443  1 08:22 ?        00:00:43 /snap/code/111/usr/share/cod\n",
      "shubham     2569    2443  0 08:22 ?        00:00:30 /snap/code/111/usr/share/cod\n",
      "shubham     2600    2569  0 08:22 ?        00:00:01 /snap/code/111/usr/share/cod\n",
      "shubham     2624    2557  0 08:22 ?        00:00:03 /snap/code/111/usr/share/cod\n",
      "shubham     2733    2446  0 08:22 ?        00:00:30 /snap/code/111/usr/share/cod\n",
      "shubham     2749    2569  0 08:22 ?        00:00:02 /snap/code/111/usr/share/cod\n",
      "shubham     2914    2557  0 08:22 ?        00:00:18 /snap/code/111/usr/share/cod\n",
      "shubham     2923    2557  0 08:22 ?        00:00:00 /bin/python3 -m vscode_datas\n",
      "shubham     2924    2557  0 08:22 ?        00:00:00 /bin/python3 -m vscode_datas\n",
      "shubham     2925    2557  0 08:22 ?        00:00:07 /bin/python3 -m vscode_datas\n",
      "shubham     2954    2925  0 08:22 ?        00:00:05 /bin/python3 -m ipykernel_la\n",
      "shubham     2989    1575  0 08:22 ?        00:00:02 update-notifier\n",
      "root        3291       2  0 08:36 ?        00:00:00 [kworker/3:2-events]\n",
      "root        3293       2  0 08:36 ?        00:00:00 [kworker/5:0-events]\n",
      "root        3939       2  0 08:37 ?        00:00:00 [kworker/0:0]\n",
      "root        5298       2  0 09:00 ?        00:00:00 [kworker/4:2-events]\n",
      "root        5413       2  0 09:03 ?        00:00:00 [kworker/2:2-cgroup_destroy]\n",
      "root        5494       2  0 09:16 ?        00:00:00 [kworker/u12:0-events_unboun\n",
      "root        5655       2  0 09:26 ?        00:00:00 [kworker/u12:1-events_unboun\n",
      "shubham     5676    2954  0 09:27 pts/0    00:00:00 ps -ef\n"
     ]
    }
   ],
   "source": [
    "!ps -ef"
   ]
  },
  {
   "cell_type": "code",
   "execution_count": null,
   "id": "a8193adc",
   "metadata": {},
   "outputs": [],
   "source": []
  }
 ],
 "metadata": {
  "kernelspec": {
   "display_name": "Python 3.8.10 64-bit",
   "language": "python",
   "name": "python3"
  },
  "language_info": {
   "codemirror_mode": {
    "name": "ipython",
    "version": 3
   },
   "file_extension": ".py",
   "mimetype": "text/x-python",
   "name": "python",
   "nbconvert_exporter": "python",
   "pygments_lexer": "ipython3",
   "version": "3.8.10"
  },
  "vscode": {
   "interpreter": {
    "hash": "916dbcbb3f70747c44a77c7bcd40155683ae19c65e1c03b4aa3499c5328201f1"
   }
  }
 },
 "nbformat": 4,
 "nbformat_minor": 5
}
