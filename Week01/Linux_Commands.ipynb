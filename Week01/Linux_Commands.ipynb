{
 "cells": [
  {
   "cell_type": "markdown",
   "id": "72db05c3",
   "metadata": {},
   "source": [
    "## Know about your User and System"
   ]
  },
  {
   "cell_type": "code",
   "execution_count": 1,
   "id": "f0aa8f1a",
   "metadata": {},
   "outputs": [
    {
     "name": "stdout",
     "output_type": "stream",
     "text": [
      "shubham\n"
     ]
    }
   ],
   "source": [
    "### command to know your user\n",
    "!whoami\n"
   ]
  },
  {
   "cell_type": "code",
   "execution_count": 2,
   "id": "e7e2d720",
   "metadata": {},
   "outputs": [
    {
     "name": "stdout",
     "output_type": "stream",
     "text": [
      "Linux ubuntu20 5.15.0-139-generic #149~20.04.1-Ubuntu SMP Wed Apr 16 08:29:56 UTC 2025 x86_64 x86_64 x86_64 GNU/Linux\n"
     ]
    }
   ],
   "source": [
    "### command to know your System\n",
    "!uname -a"
   ]
  },
  {
   "cell_type": "code",
   "execution_count": null,
   "id": "0dda12c0",
   "metadata": {},
   "outputs": [],
   "source": []
  }
 ],
 "metadata": {
  "kernelspec": {
   "display_name": "Python 3.8.10 64-bit",
   "language": "python",
   "name": "python3"
  },
  "language_info": {
   "codemirror_mode": {
    "name": "ipython",
    "version": 3
   },
   "file_extension": ".py",
   "mimetype": "text/x-python",
   "name": "python",
   "nbconvert_exporter": "python",
   "pygments_lexer": "ipython3",
   "version": "3.8.10"
  },
  "vscode": {
   "interpreter": {
    "hash": "916dbcbb3f70747c44a77c7bcd40155683ae19c65e1c03b4aa3499c5328201f1"
   }
  }
 },
 "nbformat": 4,
 "nbformat_minor": 5
}
