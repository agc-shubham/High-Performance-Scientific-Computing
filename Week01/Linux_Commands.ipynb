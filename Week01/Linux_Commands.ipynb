{
 "cells": [
  {
   "cell_type": "markdown",
   "id": "72db05c3",
   "metadata": {},
   "source": [
    "## Know about your User and System"
   ]
  },
  {
   "cell_type": "code",
   "execution_count": null,
   "id": "f0aa8f1a",
   "metadata": {},
   "outputs": [
    {
     "name": "stdout",
     "output_type": "stream",
     "text": [
      "msi\\agc_shubham\n"
     ]
    }
   ],
   "source": [
    "### command to know your user\n",
    "!whoami\n"
   ]
  },
  {
   "cell_type": "code",
   "execution_count": 5,
   "id": "e7e2d720",
   "metadata": {},
   "outputs": [
    {
     "name": "stderr",
     "output_type": "stream",
     "text": [
      "'uname' is not recognized as an internal or external command,\n",
      "operable program or batch file.\n"
     ]
    }
   ],
   "source": [
    "### command to know your System\n",
    "!uname -a"
   ]
  },
  {
   "cell_type": "code",
   "execution_count": null,
   "id": "0dda12c0",
   "metadata": {},
   "outputs": [],
   "source": []
  }
 ],
 "metadata": {
  "kernelspec": {
   "display_name": ".venv",
   "language": "python",
   "name": "python3"
  },
  "language_info": {
   "codemirror_mode": {
    "name": "ipython",
    "version": 3
   },
   "file_extension": ".py",
   "mimetype": "text/x-python",
   "name": "python",
   "nbconvert_exporter": "python",
   "pygments_lexer": "ipython3",
   "version": "3.10.4"
  }
 },
 "nbformat": 4,
 "nbformat_minor": 5
}
